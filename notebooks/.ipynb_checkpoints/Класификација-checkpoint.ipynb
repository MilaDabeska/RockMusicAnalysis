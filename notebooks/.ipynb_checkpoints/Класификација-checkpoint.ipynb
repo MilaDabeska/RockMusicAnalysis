{
 "cells": [
  {
   "cell_type": "code",
   "execution_count": 1,
   "id": "fe5a48bb",
   "metadata": {},
   "outputs": [],
   "source": [
    "import numpy as np\n",
    "import matplotlib.pyplot as plt\n",
    "import pandas as pd\n",
    "from sklearn.tree import DecisionTreeClassifier\n",
    "from sklearn.naive_bayes import GaussianNB\n",
    "from sklearn.model_selection import train_test_split, LeaveOneOut, cross_val_score, cross_validate, cross_val_predict, GridSearchCV, KFold\n",
    "from sklearn.preprocessing import OneHotEncoder, LabelEncoder, StandardScaler\n",
    "from sklearn.metrics import accuracy_score, precision_score, recall_score, f1_score, plot_roc_curve\n",
    "from sklearn.neighbors import KNeighborsClassifier\n",
    "from sklearn.decomposition import PCA\n",
    "from sklearn.metrics import confusion_matrix, classification_report, f1_score, accuracy_score, precision_score, recall_score, plot_roc_curve, mean_squared_error\n",
    "from sklearn.discriminant_analysis import LinearDiscriminantAnalysis as LDA, QuadraticDiscriminantAnalysis as QDA\n",
    "from sklearn.linear_model import LogisticRegression\n",
    "from sklearn.ensemble import RandomForestClassifier\n",
    "from sklearn.ensemble import VotingClassifier\n",
    "from sklearn.ensemble import BaggingClassifier\n",
    "from sklearn.ensemble import AdaBoostClassifier, RandomForestClassifier, ExtraTreesClassifier, BaggingClassifier\n",
    "from pomegranate import *\n",
    "from sklearn import preprocessing\n",
    "import seaborn as sn\n",
    "%matplotlib inline\n",
    "import warnings\n",
    "warnings.filterwarnings(\"ignore\")"
   ]
  },
  {
   "cell_type": "code",
   "execution_count": 2,
   "id": "16559f02",
   "metadata": {},
   "outputs": [
    {
     "data": {
      "text/html": [
       "<div>\n",
       "<style scoped>\n",
       "    .dataframe tbody tr th:only-of-type {\n",
       "        vertical-align: middle;\n",
       "    }\n",
       "\n",
       "    .dataframe tbody tr th {\n",
       "        vertical-align: top;\n",
       "    }\n",
       "\n",
       "    .dataframe thead th {\n",
       "        text-align: right;\n",
       "    }\n",
       "</style>\n",
       "<table border=\"1\" class=\"dataframe\">\n",
       "  <thead>\n",
       "    <tr style=\"text-align: right;\">\n",
       "      <th></th>\n",
       "      <th>artist</th>\n",
       "      <th>release_date</th>\n",
       "      <th>duration</th>\n",
       "      <th>popularity</th>\n",
       "      <th>danceability</th>\n",
       "      <th>acousticness</th>\n",
       "      <th>energy</th>\n",
       "      <th>instrumentalness</th>\n",
       "      <th>key</th>\n",
       "      <th>liveness</th>\n",
       "      <th>loudness</th>\n",
       "      <th>speechiness</th>\n",
       "      <th>tempo</th>\n",
       "      <th>time_signature</th>\n",
       "      <th>valence</th>\n",
       "      <th>hit</th>\n",
       "    </tr>\n",
       "    <tr>\n",
       "      <th>name</th>\n",
       "      <th></th>\n",
       "      <th></th>\n",
       "      <th></th>\n",
       "      <th></th>\n",
       "      <th></th>\n",
       "      <th></th>\n",
       "      <th></th>\n",
       "      <th></th>\n",
       "      <th></th>\n",
       "      <th></th>\n",
       "      <th></th>\n",
       "      <th></th>\n",
       "      <th></th>\n",
       "      <th></th>\n",
       "      <th></th>\n",
       "      <th></th>\n",
       "    </tr>\n",
       "  </thead>\n",
       "  <tbody>\n",
       "    <tr>\n",
       "      <th>Smells Like Teen Spirit</th>\n",
       "      <td>Nirvana</td>\n",
       "      <td>1991</td>\n",
       "      <td>5.03</td>\n",
       "      <td>74</td>\n",
       "      <td>0.502</td>\n",
       "      <td>0.000025</td>\n",
       "      <td>0.912</td>\n",
       "      <td>0.000173</td>\n",
       "      <td>1</td>\n",
       "      <td>0.1060</td>\n",
       "      <td>-4.556</td>\n",
       "      <td>0.0564</td>\n",
       "      <td>116.761</td>\n",
       "      <td>4</td>\n",
       "      <td>0.720</td>\n",
       "      <td>1</td>\n",
       "    </tr>\n",
       "    <tr>\n",
       "      <th>Stairway to Heaven - Remaster</th>\n",
       "      <td>Led Zeppelin</td>\n",
       "      <td>1971</td>\n",
       "      <td>8.05</td>\n",
       "      <td>78</td>\n",
       "      <td>0.338</td>\n",
       "      <td>0.580000</td>\n",
       "      <td>0.340</td>\n",
       "      <td>0.003200</td>\n",
       "      <td>9</td>\n",
       "      <td>0.1160</td>\n",
       "      <td>-12.049</td>\n",
       "      <td>0.0339</td>\n",
       "      <td>82.433</td>\n",
       "      <td>4</td>\n",
       "      <td>0.197</td>\n",
       "      <td>1</td>\n",
       "    </tr>\n",
       "    <tr>\n",
       "      <th>Bohemian Rhapsody - Remastered 2011</th>\n",
       "      <td>Queen</td>\n",
       "      <td>1975</td>\n",
       "      <td>5.91</td>\n",
       "      <td>74</td>\n",
       "      <td>0.392</td>\n",
       "      <td>0.288000</td>\n",
       "      <td>0.402</td>\n",
       "      <td>0.000000</td>\n",
       "      <td>0</td>\n",
       "      <td>0.2430</td>\n",
       "      <td>-9.961</td>\n",
       "      <td>0.0536</td>\n",
       "      <td>143.883</td>\n",
       "      <td>4</td>\n",
       "      <td>0.228</td>\n",
       "      <td>1</td>\n",
       "    </tr>\n",
       "    <tr>\n",
       "      <th>Imagine - Remastered 2010</th>\n",
       "      <td>John Lennon</td>\n",
       "      <td>1971</td>\n",
       "      <td>3.13</td>\n",
       "      <td>77</td>\n",
       "      <td>0.547</td>\n",
       "      <td>0.907000</td>\n",
       "      <td>0.257</td>\n",
       "      <td>0.183000</td>\n",
       "      <td>0</td>\n",
       "      <td>0.0935</td>\n",
       "      <td>-12.358</td>\n",
       "      <td>0.0252</td>\n",
       "      <td>75.752</td>\n",
       "      <td>4</td>\n",
       "      <td>0.169</td>\n",
       "      <td>1</td>\n",
       "    </tr>\n",
       "    <tr>\n",
       "      <th>(I Can't Get No) Satisfaction - Mono Version</th>\n",
       "      <td>The Rolling Stones</td>\n",
       "      <td>1965</td>\n",
       "      <td>3.71</td>\n",
       "      <td>77</td>\n",
       "      <td>0.723</td>\n",
       "      <td>0.038300</td>\n",
       "      <td>0.863</td>\n",
       "      <td>0.031700</td>\n",
       "      <td>2</td>\n",
       "      <td>0.1280</td>\n",
       "      <td>-7.890</td>\n",
       "      <td>0.0338</td>\n",
       "      <td>136.302</td>\n",
       "      <td>4</td>\n",
       "      <td>0.931</td>\n",
       "      <td>1</td>\n",
       "    </tr>\n",
       "    <tr>\n",
       "      <th>...</th>\n",
       "      <td>...</td>\n",
       "      <td>...</td>\n",
       "      <td>...</td>\n",
       "      <td>...</td>\n",
       "      <td>...</td>\n",
       "      <td>...</td>\n",
       "      <td>...</td>\n",
       "      <td>...</td>\n",
       "      <td>...</td>\n",
       "      <td>...</td>\n",
       "      <td>...</td>\n",
       "      <td>...</td>\n",
       "      <td>...</td>\n",
       "      <td>...</td>\n",
       "      <td>...</td>\n",
       "      <td>...</td>\n",
       "    </tr>\n",
       "    <tr>\n",
       "      <th>I'm In Your Mind</th>\n",
       "      <td>King Gizzard &amp; The Lizard Wizard</td>\n",
       "      <td>2014</td>\n",
       "      <td>3.56</td>\n",
       "      <td>47</td>\n",
       "      <td>0.296</td>\n",
       "      <td>0.005910</td>\n",
       "      <td>0.776</td>\n",
       "      <td>0.801000</td>\n",
       "      <td>6</td>\n",
       "      <td>0.5970</td>\n",
       "      <td>-5.630</td>\n",
       "      <td>0.0597</td>\n",
       "      <td>93.481</td>\n",
       "      <td>4</td>\n",
       "      <td>0.406</td>\n",
       "      <td>0</td>\n",
       "    </tr>\n",
       "    <tr>\n",
       "      <th>Cellophane</th>\n",
       "      <td>King Gizzard &amp; The Lizard Wizard</td>\n",
       "      <td>2014</td>\n",
       "      <td>3.18</td>\n",
       "      <td>44</td>\n",
       "      <td>0.432</td>\n",
       "      <td>0.002130</td>\n",
       "      <td>0.887</td>\n",
       "      <td>0.916000</td>\n",
       "      <td>7</td>\n",
       "      <td>0.1200</td>\n",
       "      <td>-6.175</td>\n",
       "      <td>0.1230</td>\n",
       "      <td>92.965</td>\n",
       "      <td>4</td>\n",
       "      <td>0.357</td>\n",
       "      <td>0</td>\n",
       "    </tr>\n",
       "    <tr>\n",
       "      <th>Hot Water</th>\n",
       "      <td>King Gizzard &amp; The Lizard Wizard</td>\n",
       "      <td>2014</td>\n",
       "      <td>3.40</td>\n",
       "      <td>40</td>\n",
       "      <td>0.627</td>\n",
       "      <td>0.860000</td>\n",
       "      <td>0.609</td>\n",
       "      <td>0.890000</td>\n",
       "      <td>9</td>\n",
       "      <td>0.1160</td>\n",
       "      <td>-9.387</td>\n",
       "      <td>0.0332</td>\n",
       "      <td>86.861</td>\n",
       "      <td>4</td>\n",
       "      <td>0.734</td>\n",
       "      <td>0</td>\n",
       "    </tr>\n",
       "    <tr>\n",
       "      <th>Vitamin C - 2004 Remastered Version</th>\n",
       "      <td>CAN</td>\n",
       "      <td>1972</td>\n",
       "      <td>3.57</td>\n",
       "      <td>52</td>\n",
       "      <td>0.643</td>\n",
       "      <td>0.006690</td>\n",
       "      <td>0.644</td>\n",
       "      <td>0.673000</td>\n",
       "      <td>4</td>\n",
       "      <td>0.1620</td>\n",
       "      <td>-12.615</td>\n",
       "      <td>0.0462</td>\n",
       "      <td>117.225</td>\n",
       "      <td>4</td>\n",
       "      <td>0.853</td>\n",
       "      <td>0</td>\n",
       "    </tr>\n",
       "    <tr>\n",
       "      <th>~</th>\n",
       "      <td>Touché Amoré</td>\n",
       "      <td>2011</td>\n",
       "      <td>1.49</td>\n",
       "      <td>0</td>\n",
       "      <td>0.222</td>\n",
       "      <td>0.000258</td>\n",
       "      <td>0.959</td>\n",
       "      <td>0.000275</td>\n",
       "      <td>6</td>\n",
       "      <td>0.1540</td>\n",
       "      <td>-5.134</td>\n",
       "      <td>0.2080</td>\n",
       "      <td>161.693</td>\n",
       "      <td>4</td>\n",
       "      <td>0.128</td>\n",
       "      <td>0</td>\n",
       "    </tr>\n",
       "  </tbody>\n",
       "</table>\n",
       "<p>5368 rows × 16 columns</p>\n",
       "</div>"
      ],
      "text/plain": [
       "                                                                        artist  \\\n",
       "name                                                                             \n",
       "Smells Like Teen Spirit                                                Nirvana   \n",
       "Stairway to Heaven - Remaster                                     Led Zeppelin   \n",
       "Bohemian Rhapsody - Remastered 2011                                      Queen   \n",
       "Imagine - Remastered 2010                                          John Lennon   \n",
       "(I Can't Get No) Satisfaction - Mono Version                The Rolling Stones   \n",
       "...                                                                        ...   \n",
       "I'm In Your Mind                              King Gizzard & The Lizard Wizard   \n",
       "Cellophane                                    King Gizzard & The Lizard Wizard   \n",
       "Hot Water                                     King Gizzard & The Lizard Wizard   \n",
       "Vitamin C - 2004 Remastered Version                                        CAN   \n",
       "~                                                                 Touché Amoré   \n",
       "\n",
       "                                              release_date  duration  \\\n",
       "name                                                                   \n",
       "Smells Like Teen Spirit                               1991      5.03   \n",
       "Stairway to Heaven - Remaster                         1971      8.05   \n",
       "Bohemian Rhapsody - Remastered 2011                   1975      5.91   \n",
       "Imagine - Remastered 2010                             1971      3.13   \n",
       "(I Can't Get No) Satisfaction - Mono Version          1965      3.71   \n",
       "...                                                    ...       ...   \n",
       "I'm In Your Mind                                      2014      3.56   \n",
       "Cellophane                                            2014      3.18   \n",
       "Hot Water                                             2014      3.40   \n",
       "Vitamin C - 2004 Remastered Version                   1972      3.57   \n",
       "~                                                     2011      1.49   \n",
       "\n",
       "                                              popularity  danceability  \\\n",
       "name                                                                     \n",
       "Smells Like Teen Spirit                               74         0.502   \n",
       "Stairway to Heaven - Remaster                         78         0.338   \n",
       "Bohemian Rhapsody - Remastered 2011                   74         0.392   \n",
       "Imagine - Remastered 2010                             77         0.547   \n",
       "(I Can't Get No) Satisfaction - Mono Version          77         0.723   \n",
       "...                                                  ...           ...   \n",
       "I'm In Your Mind                                      47         0.296   \n",
       "Cellophane                                            44         0.432   \n",
       "Hot Water                                             40         0.627   \n",
       "Vitamin C - 2004 Remastered Version                   52         0.643   \n",
       "~                                                      0         0.222   \n",
       "\n",
       "                                              acousticness  energy  \\\n",
       "name                                                                 \n",
       "Smells Like Teen Spirit                           0.000025   0.912   \n",
       "Stairway to Heaven - Remaster                     0.580000   0.340   \n",
       "Bohemian Rhapsody - Remastered 2011               0.288000   0.402   \n",
       "Imagine - Remastered 2010                         0.907000   0.257   \n",
       "(I Can't Get No) Satisfaction - Mono Version      0.038300   0.863   \n",
       "...                                                    ...     ...   \n",
       "I'm In Your Mind                                  0.005910   0.776   \n",
       "Cellophane                                        0.002130   0.887   \n",
       "Hot Water                                         0.860000   0.609   \n",
       "Vitamin C - 2004 Remastered Version               0.006690   0.644   \n",
       "~                                                 0.000258   0.959   \n",
       "\n",
       "                                              instrumentalness  key  liveness  \\\n",
       "name                                                                            \n",
       "Smells Like Teen Spirit                               0.000173    1    0.1060   \n",
       "Stairway to Heaven - Remaster                         0.003200    9    0.1160   \n",
       "Bohemian Rhapsody - Remastered 2011                   0.000000    0    0.2430   \n",
       "Imagine - Remastered 2010                             0.183000    0    0.0935   \n",
       "(I Can't Get No) Satisfaction - Mono Version          0.031700    2    0.1280   \n",
       "...                                                        ...  ...       ...   \n",
       "I'm In Your Mind                                      0.801000    6    0.5970   \n",
       "Cellophane                                            0.916000    7    0.1200   \n",
       "Hot Water                                             0.890000    9    0.1160   \n",
       "Vitamin C - 2004 Remastered Version                   0.673000    4    0.1620   \n",
       "~                                                     0.000275    6    0.1540   \n",
       "\n",
       "                                              loudness  speechiness    tempo  \\\n",
       "name                                                                           \n",
       "Smells Like Teen Spirit                         -4.556       0.0564  116.761   \n",
       "Stairway to Heaven - Remaster                  -12.049       0.0339   82.433   \n",
       "Bohemian Rhapsody - Remastered 2011             -9.961       0.0536  143.883   \n",
       "Imagine - Remastered 2010                      -12.358       0.0252   75.752   \n",
       "(I Can't Get No) Satisfaction - Mono Version    -7.890       0.0338  136.302   \n",
       "...                                                ...          ...      ...   \n",
       "I'm In Your Mind                                -5.630       0.0597   93.481   \n",
       "Cellophane                                      -6.175       0.1230   92.965   \n",
       "Hot Water                                       -9.387       0.0332   86.861   \n",
       "Vitamin C - 2004 Remastered Version            -12.615       0.0462  117.225   \n",
       "~                                               -5.134       0.2080  161.693   \n",
       "\n",
       "                                              time_signature  valence  hit  \n",
       "name                                                                        \n",
       "Smells Like Teen Spirit                                    4    0.720    1  \n",
       "Stairway to Heaven - Remaster                              4    0.197    1  \n",
       "Bohemian Rhapsody - Remastered 2011                        4    0.228    1  \n",
       "Imagine - Remastered 2010                                  4    0.169    1  \n",
       "(I Can't Get No) Satisfaction - Mono Version               4    0.931    1  \n",
       "...                                                      ...      ...  ...  \n",
       "I'm In Your Mind                                           4    0.406    0  \n",
       "Cellophane                                                 4    0.357    0  \n",
       "Hot Water                                                  4    0.734    0  \n",
       "Vitamin C - 2004 Remastered Version                        4    0.853    0  \n",
       "~                                                          4    0.128    0  \n",
       "\n",
       "[5368 rows x 16 columns]"
      ]
     },
     "execution_count": 2,
     "metadata": {},
     "output_type": "execute_result"
    }
   ],
   "source": [
    "dataset=pd.read_csv('data/rock_music.csv')\n",
    "dataset.set_index('name', inplace=True)\n",
    "dataset"
   ]
  },
  {
   "cell_type": "markdown",
   "id": "a8739152-dd55-48bf-b797-d8a2cf67d728",
   "metadata": {},
   "source": [
    "&nbsp;"
   ]
  },
  {
   "cell_type": "markdown",
   "id": "712a0616-e246-432b-a173-b29ab9707361",
   "metadata": {},
   "source": [
    "Поделба на податоците"
   ]
  },
  {
   "cell_type": "code",
   "execution_count": 3,
   "id": "df2517d6",
   "metadata": {},
   "outputs": [],
   "source": [
    "features = dataset.columns.drop(['hit'])\n",
    "labels = ['hit']\n",
    "\n",
    "X = dataset[features]\n",
    "Y = dataset[labels]"
   ]
  },
  {
   "cell_type": "code",
   "execution_count": 4,
   "id": "3b4bc807-a200-4bae-b2d1-7aae57edfc33",
   "metadata": {},
   "outputs": [
    {
     "data": {
      "text/html": [
       "<div>\n",
       "<style scoped>\n",
       "    .dataframe tbody tr th:only-of-type {\n",
       "        vertical-align: middle;\n",
       "    }\n",
       "\n",
       "    .dataframe tbody tr th {\n",
       "        vertical-align: top;\n",
       "    }\n",
       "\n",
       "    .dataframe thead th {\n",
       "        text-align: right;\n",
       "    }\n",
       "</style>\n",
       "<table border=\"1\" class=\"dataframe\">\n",
       "  <thead>\n",
       "    <tr style=\"text-align: right;\">\n",
       "      <th></th>\n",
       "      <th>artist</th>\n",
       "      <th>release_date</th>\n",
       "      <th>duration</th>\n",
       "      <th>popularity</th>\n",
       "      <th>danceability</th>\n",
       "      <th>acousticness</th>\n",
       "      <th>energy</th>\n",
       "      <th>instrumentalness</th>\n",
       "      <th>key</th>\n",
       "      <th>liveness</th>\n",
       "      <th>loudness</th>\n",
       "      <th>speechiness</th>\n",
       "      <th>tempo</th>\n",
       "      <th>time_signature</th>\n",
       "      <th>valence</th>\n",
       "    </tr>\n",
       "    <tr>\n",
       "      <th>name</th>\n",
       "      <th></th>\n",
       "      <th></th>\n",
       "      <th></th>\n",
       "      <th></th>\n",
       "      <th></th>\n",
       "      <th></th>\n",
       "      <th></th>\n",
       "      <th></th>\n",
       "      <th></th>\n",
       "      <th></th>\n",
       "      <th></th>\n",
       "      <th></th>\n",
       "      <th></th>\n",
       "      <th></th>\n",
       "      <th></th>\n",
       "    </tr>\n",
       "  </thead>\n",
       "  <tbody>\n",
       "    <tr>\n",
       "      <th>Smells Like Teen Spirit</th>\n",
       "      <td>942</td>\n",
       "      <td>1991</td>\n",
       "      <td>5.03</td>\n",
       "      <td>74</td>\n",
       "      <td>0.502</td>\n",
       "      <td>0.000025</td>\n",
       "      <td>0.912</td>\n",
       "      <td>0.000173</td>\n",
       "      <td>1</td>\n",
       "      <td>0.1060</td>\n",
       "      <td>-4.556</td>\n",
       "      <td>0.0564</td>\n",
       "      <td>116.761</td>\n",
       "      <td>4</td>\n",
       "      <td>0.720</td>\n",
       "    </tr>\n",
       "    <tr>\n",
       "      <th>Stairway to Heaven - Remaster</th>\n",
       "      <td>772</td>\n",
       "      <td>1971</td>\n",
       "      <td>8.05</td>\n",
       "      <td>78</td>\n",
       "      <td>0.338</td>\n",
       "      <td>0.580000</td>\n",
       "      <td>0.340</td>\n",
       "      <td>0.003200</td>\n",
       "      <td>9</td>\n",
       "      <td>0.1160</td>\n",
       "      <td>-12.049</td>\n",
       "      <td>0.0339</td>\n",
       "      <td>82.433</td>\n",
       "      <td>4</td>\n",
       "      <td>0.197</td>\n",
       "    </tr>\n",
       "    <tr>\n",
       "      <th>Bohemian Rhapsody - Remastered 2011</th>\n",
       "      <td>1045</td>\n",
       "      <td>1975</td>\n",
       "      <td>5.91</td>\n",
       "      <td>74</td>\n",
       "      <td>0.392</td>\n",
       "      <td>0.288000</td>\n",
       "      <td>0.402</td>\n",
       "      <td>0.000000</td>\n",
       "      <td>0</td>\n",
       "      <td>0.2430</td>\n",
       "      <td>-9.961</td>\n",
       "      <td>0.0536</td>\n",
       "      <td>143.883</td>\n",
       "      <td>4</td>\n",
       "      <td>0.228</td>\n",
       "    </tr>\n",
       "    <tr>\n",
       "      <th>Imagine - Remastered 2010</th>\n",
       "      <td>704</td>\n",
       "      <td>1971</td>\n",
       "      <td>3.13</td>\n",
       "      <td>77</td>\n",
       "      <td>0.547</td>\n",
       "      <td>0.907000</td>\n",
       "      <td>0.257</td>\n",
       "      <td>0.183000</td>\n",
       "      <td>0</td>\n",
       "      <td>0.0935</td>\n",
       "      <td>-12.358</td>\n",
       "      <td>0.0252</td>\n",
       "      <td>75.752</td>\n",
       "      <td>4</td>\n",
       "      <td>0.169</td>\n",
       "    </tr>\n",
       "    <tr>\n",
       "      <th>(I Can't Get No) Satisfaction - Mono Version</th>\n",
       "      <td>1516</td>\n",
       "      <td>1965</td>\n",
       "      <td>3.71</td>\n",
       "      <td>77</td>\n",
       "      <td>0.723</td>\n",
       "      <td>0.038300</td>\n",
       "      <td>0.863</td>\n",
       "      <td>0.031700</td>\n",
       "      <td>2</td>\n",
       "      <td>0.1280</td>\n",
       "      <td>-7.890</td>\n",
       "      <td>0.0338</td>\n",
       "      <td>136.302</td>\n",
       "      <td>4</td>\n",
       "      <td>0.931</td>\n",
       "    </tr>\n",
       "  </tbody>\n",
       "</table>\n",
       "</div>"
      ],
      "text/plain": [
       "                                              artist  release_date  duration  \\\n",
       "name                                                                           \n",
       "Smells Like Teen Spirit                          942          1991      5.03   \n",
       "Stairway to Heaven - Remaster                    772          1971      8.05   \n",
       "Bohemian Rhapsody - Remastered 2011             1045          1975      5.91   \n",
       "Imagine - Remastered 2010                        704          1971      3.13   \n",
       "(I Can't Get No) Satisfaction - Mono Version    1516          1965      3.71   \n",
       "\n",
       "                                              popularity  danceability  \\\n",
       "name                                                                     \n",
       "Smells Like Teen Spirit                               74         0.502   \n",
       "Stairway to Heaven - Remaster                         78         0.338   \n",
       "Bohemian Rhapsody - Remastered 2011                   74         0.392   \n",
       "Imagine - Remastered 2010                             77         0.547   \n",
       "(I Can't Get No) Satisfaction - Mono Version          77         0.723   \n",
       "\n",
       "                                              acousticness  energy  \\\n",
       "name                                                                 \n",
       "Smells Like Teen Spirit                           0.000025   0.912   \n",
       "Stairway to Heaven - Remaster                     0.580000   0.340   \n",
       "Bohemian Rhapsody - Remastered 2011               0.288000   0.402   \n",
       "Imagine - Remastered 2010                         0.907000   0.257   \n",
       "(I Can't Get No) Satisfaction - Mono Version      0.038300   0.863   \n",
       "\n",
       "                                              instrumentalness  key  liveness  \\\n",
       "name                                                                            \n",
       "Smells Like Teen Spirit                               0.000173    1    0.1060   \n",
       "Stairway to Heaven - Remaster                         0.003200    9    0.1160   \n",
       "Bohemian Rhapsody - Remastered 2011                   0.000000    0    0.2430   \n",
       "Imagine - Remastered 2010                             0.183000    0    0.0935   \n",
       "(I Can't Get No) Satisfaction - Mono Version          0.031700    2    0.1280   \n",
       "\n",
       "                                              loudness  speechiness    tempo  \\\n",
       "name                                                                           \n",
       "Smells Like Teen Spirit                         -4.556       0.0564  116.761   \n",
       "Stairway to Heaven - Remaster                  -12.049       0.0339   82.433   \n",
       "Bohemian Rhapsody - Remastered 2011             -9.961       0.0536  143.883   \n",
       "Imagine - Remastered 2010                      -12.358       0.0252   75.752   \n",
       "(I Can't Get No) Satisfaction - Mono Version    -7.890       0.0338  136.302   \n",
       "\n",
       "                                              time_signature  valence  \n",
       "name                                                                   \n",
       "Smells Like Teen Spirit                                    4    0.720  \n",
       "Stairway to Heaven - Remaster                              4    0.197  \n",
       "Bohemian Rhapsody - Remastered 2011                        4    0.228  \n",
       "Imagine - Remastered 2010                                  4    0.169  \n",
       "(I Can't Get No) Satisfaction - Mono Version               4    0.931  "
      ]
     },
     "execution_count": 4,
     "metadata": {},
     "output_type": "execute_result"
    }
   ],
   "source": [
    "encoder =  LabelEncoder()\n",
    "X['artist'] = encoder.fit_transform(X['artist'])\n",
    "X.head()"
   ]
  },
  {
   "cell_type": "code",
   "execution_count": 5,
   "id": "b8b15fc9",
   "metadata": {},
   "outputs": [],
   "source": [
    "trainX, testX, trainY, testY = train_test_split(X, Y, test_size=0.2)"
   ]
  },
  {
   "cell_type": "code",
   "execution_count": 6,
   "id": "a229e51b-2c8c-47e8-a0fe-4381f09a73ed",
   "metadata": {},
   "outputs": [],
   "source": [
    "scaler = StandardScaler()\n",
    "scaler.fit(trainX)\n",
    "trainX = scaler.transform(trainX)\n",
    "testX = scaler.transform(testX)\n",
    "X = pd.DataFrame(scaler.transform(X))"
   ]
  },
  {
   "cell_type": "code",
   "execution_count": 7,
   "id": "7b997fd6",
   "metadata": {},
   "outputs": [
    {
     "data": {
      "text/plain": [
       "0    2755\n",
       "1    2613\n",
       "Name: hit, dtype: int64"
      ]
     },
     "execution_count": 7,
     "metadata": {},
     "output_type": "execute_result"
    }
   ],
   "source": [
    "dataset.hit.value_counts()"
   ]
  },
  {
   "cell_type": "markdown",
   "id": "27722d84-bf96-4dc5-b321-fcfa9a56b3ed",
   "metadata": {},
   "source": [
    "&nbsp;"
   ]
  },
  {
   "cell_type": "markdown",
   "id": "e0a30f1b",
   "metadata": {},
   "source": [
    "## Decision Tree Classifier"
   ]
  },
  {
   "cell_type": "code",
   "execution_count": 8,
   "id": "8607ff88",
   "metadata": {},
   "outputs": [
    {
     "data": {
      "text/plain": [
       "DecisionTreeClassifier(criterion='entropy', max_depth=7)"
      ]
     },
     "execution_count": 8,
     "metadata": {},
     "output_type": "execute_result"
    }
   ],
   "source": [
    "dt = DecisionTreeClassifier(criterion = 'entropy', max_depth=7)\n",
    "dt.fit(trainX, trainY)"
   ]
  },
  {
   "cell_type": "code",
   "execution_count": 9,
   "id": "87b4cf44",
   "metadata": {},
   "outputs": [],
   "source": [
    "predicted = dt.predict(testX)"
   ]
  },
  {
   "cell_type": "code",
   "execution_count": 10,
   "id": "8f0fc93a",
   "metadata": {},
   "outputs": [
    {
     "data": {
      "image/png": "[encoded data removed]",
      "text/plain": [
       "<Figure size 504x504 with 2 Axes>"
      ]
     },
     "metadata": {
      "needs_background": "light"
     },
     "output_type": "display_data"
    }
   ],
   "source": [
    "plt.figure(figsize=(7,7))\n",
    "sn.heatmap(confusion_matrix(testY, predicted), annot=True, fmt='.5g')\n",
    "plt.xlabel('Actual')\n",
    "plt.ylabel('Predicted')\n",
    "plt.title('Confusion matrix')\n",
    "plt.show()"
   ]
  },
  {
   "cell_type": "code",
   "execution_count": 11,
   "id": "75821a06-3400-4aa2-922a-7c8c5b9adece",
   "metadata": {},
   "outputs": [
    {
     "name": "stdout",
     "output_type": "stream",
     "text": [
      "Accuracy: 1.0\n",
      "Recall: 1.0\n",
      "Precision: 1.0\n",
      "F1 score: 1.0\n"
     ]
    }
   ],
   "source": [
    "accuracy = accuracy_score(testY, predicted)\n",
    "recall = recall_score(testY, predicted)\n",
    "precision = precision_score(testY, predicted)\n",
    "f1 = f1_score(testY, predicted)\n",
    "\n",
    "print(f'Accuracy: {accuracy}')\n",
    "print(f'Recall: {recall}')\n",
    "print(f'Precision: {precision}')\n",
    "print(f'F1 score: {f1}')"
   ]
  },
  {
   "cell_type": "code",
   "execution_count": 12,
   "id": "f90e8f83",
   "metadata": {},
   "outputs": [
    {
     "data": {
      "text/plain": [
       "<Figure size 720x720 with 0 Axes>"
      ]
     },
     "metadata": {},
     "output_type": "display_data"
    },
    {
     "data": {
      "image/png": "[encoded data removed]",
      "text/plain": [
       "<Figure size 432x288 with 1 Axes>"
      ]
     },
     "metadata": {
      "needs_background": "light"
     },
     "output_type": "display_data"
    }
   ],
   "source": [
    "plt.figure(figsize=(10,10))\n",
    "plot_roc_curve(dt, testX, testY)\n",
    "plt.title('Decision tree classifier Roc Curve')\n",
    "plt.show()"
   ]
  },
  {
   "cell_type": "markdown",
   "id": "03e21e47-f5b0-4a04-9f37-4f7c7e19af74",
   "metadata": {},
   "source": [
    "&nbsp;"
   ]
  },
  {
   "cell_type": "markdown",
   "id": "f1ddfa96-ddc3-4227-b6e3-f7de92a7a058",
   "metadata": {},
   "source": [
    "## Naive Bayes"
   ]
  },
  {
   "cell_type": "code",
   "execution_count": 13,
   "id": "f9d3e8b9-3cd4-4c97-97fb-13f94d4762cc",
   "metadata": {},
   "outputs": [
    {
     "data": {
      "text/plain": [
       "GaussianNB()"
      ]
     },
     "execution_count": 13,
     "metadata": {},
     "output_type": "execute_result"
    }
   ],
   "source": [
    "model = GaussianNB()\n",
    "model.fit(trainX, trainY)"
   ]
  },
  {
   "cell_type": "code",
   "execution_count": 14,
   "id": "9d0d126c-26f7-4563-ba2c-7884f2e6f12f",
   "metadata": {},
   "outputs": [],
   "source": [
    "predicted = model.predict(testX)"
   ]
  },
  {
   "cell_type": "code",
   "execution_count": 15,
   "id": "f7bb69dc-0b15-489d-a9d6-b3413dc80966",
   "metadata": {},
   "outputs": [
    {
     "data": {
      "image/png": "[encoded data removed]",
      "text/plain": [
       "<Figure size 504x504 with 2 Axes>"
      ]
     },
     "metadata": {
      "needs_background": "light"
     },
     "output_type": "display_data"
    }
   ],
   "source": [
    "plt.figure(figsize=(7,7))\n",
    "sn.heatmap(confusion_matrix(testY, predicted), annot=True, fmt='.5g')\n",
    "plt.xlabel('Actual')\n",
    "plt.ylabel('Predicted')\n",
    "plt.title('Confusion matrix')\n",
    "plt.show()"
   ]
  },
  {
   "cell_type": "code",
   "execution_count": 16,
   "id": "c33b87b9-e2d3-4dd4-a42e-4c97f70af12f",
   "metadata": {},
   "outputs": [
    {
     "name": "stdout",
     "output_type": "stream",
     "text": [
      "Accuracy: 0.9245810055865922\n",
      "Recall: 0.9354838709677419\n",
      "Precision: 0.912962962962963\n",
      "F1 score: 0.9240862230552952\n"
     ]
    }
   ],
   "source": [
    "accuracy = accuracy_score(testY, predicted)\n",
    "recall = recall_score(testY, predicted)\n",
    "precision = precision_score(testY, predicted)\n",
    "f1 = f1_score(testY, predicted)\n",
    "\n",
    "print(f'Accuracy: {accuracy}')\n",
    "print(f'Recall: {recall}')\n",
    "print(f'Precision: {precision}')\n",
    "print(f'F1 score: {f1}')"
   ]
  },
  {
   "cell_type": "code",
   "execution_count": 17,
   "id": "38084ca5-14c8-49eb-832a-5fac3f5dbea9",
   "metadata": {},
   "outputs": [
    {
     "data": {
      "text/plain": [
       "<Figure size 720x720 with 0 Axes>"
      ]
     },
     "metadata": {},
     "output_type": "display_data"
    },
    {
     "data": {
      "image/png": "[encoded data removed]",
      "text/plain": [
       "<Figure size 432x288 with 1 Axes>"
      ]
     },
     "metadata": {
      "needs_background": "light"
     },
     "output_type": "display_data"
    }
   ],
   "source": [
    "plt.figure(figsize=(10,10))\n",
    "plot_roc_curve(model, testX, testY)\n",
    "plt.title('Naive Bayes classifier Roc Curve')\n",
    "plt.show()"
   ]
  },
  {
   "cell_type": "markdown",
   "id": "282d3e10-f45c-4b9b-9c4d-623dd7eda268",
   "metadata": {},
   "source": [
    "&nbsp;"
   ]
  },
  {
   "cell_type": "markdown",
   "id": "89ff23c4-3ecd-4aac-9a35-6294c7aa779c",
   "metadata": {},
   "source": [
    "## KNN"
   ]
  },
  {
   "cell_type": "code",
   "execution_count": 18,
   "id": "79f191ac-1ef2-4a9c-a7f8-74458d9ef1c2",
   "metadata": {},
   "outputs": [
    {
     "data": {
      "text/plain": [
       "KNeighborsClassifier()"
      ]
     },
     "execution_count": 18,
     "metadata": {},
     "output_type": "execute_result"
    }
   ],
   "source": [
    "knn = KNeighborsClassifier(n_neighbors=5)\n",
    "knn.fit(trainX, trainY)"
   ]
  },
  {
   "cell_type": "code",
   "execution_count": 19,
   "id": "a05a51a1-e00d-4f9c-9810-223d1d8dd26b",
   "metadata": {},
   "outputs": [],
   "source": [
    "predicted = knn.predict(testX)"
   ]
  },
  {
   "cell_type": "code",
   "execution_count": 20,
   "id": "24de5b5b-c681-4536-b002-5e72ac539cdc",
   "metadata": {},
   "outputs": [
    {
     "data": {
      "image/png": "[encoded data removed]",
      "text/plain": [
       "<Figure size 504x504 with 2 Axes>"
      ]
     },
     "metadata": {
      "needs_background": "light"
     },
     "output_type": "display_data"
    }
   ],
   "source": [
    "plt.figure(figsize=(7,7))\n",
    "sn.heatmap(confusion_matrix(testY, predicted), annot=True, fmt='.5g')\n",
    "plt.xlabel('Actual')\n",
    "plt.ylabel('Predicted')\n",
    "plt.title('Confusion matrix')\n",
    "plt.show()"
   ]
  },
  {
   "cell_type": "code",
   "execution_count": 21,
   "id": "ad0f2433-5b77-4b3f-89c9-7f92ec5a954a",
   "metadata": {},
   "outputs": [
    {
     "name": "stdout",
     "output_type": "stream",
     "text": [
      "Accuracy: 0.8621973929236499\n",
      "Recall: 0.8690702087286527\n",
      "Precision: 0.8528864059590316\n",
      "F1 score: 0.8609022556390977\n"
     ]
    }
   ],
   "source": [
    "accuracy = accuracy_score(testY, predicted)\n",
    "recall = recall_score(testY, predicted)\n",
    "precision = precision_score(testY, predicted)\n",
    "f1 = f1_score(testY, predicted)\n",
    "\n",
    "print(f'Accuracy: {accuracy}')\n",
    "print(f'Recall: {recall}')\n",
    "print(f'Precision: {precision}')\n",
    "print(f'F1 score: {f1}')"
   ]
  },
  {
   "cell_type": "code",
   "execution_count": 22,
   "id": "442397f9-b9ff-495c-b34f-4df15c55e324",
   "metadata": {},
   "outputs": [
    {
     "data": {
      "text/plain": [
       "<Figure size 720x720 with 0 Axes>"
      ]
     },
     "metadata": {},
     "output_type": "display_data"
    },
    {
     "data": {
      "image/png": "[encoded data removed]",
      "text/plain": [
       "<Figure size 432x288 with 1 Axes>"
      ]
     },
     "metadata": {
      "needs_background": "light"
     },
     "output_type": "display_data"
    }
   ],
   "source": [
    "plt.figure(figsize=(10,10))\n",
    "plot_roc_curve(knn, testX, testY)\n",
    "plt.title('KNN classifier Roc Curve')\n",
    "plt.show()"
   ]
  },
  {
   "cell_type": "code",
   "execution_count": 23,
   "id": "7b865119-7e02-4a58-975f-be403a573786",
   "metadata": {},
   "outputs": [],
   "source": [
    "error1 = []\n",
    "\n",
    "for i in range(1, 40):\n",
    "    knn = KNeighborsClassifier(n_neighbors=i, metric=\"cosine\")\n",
    "    knn.fit(trainX, trainY)\n",
    "    pred_i = knn.predict(testX)\n",
    "    error1.append(np.mean(pred_i != testY.values))\n",
    "    \n",
    "\n",
    "error2 = []\n",
    "\n",
    "for i in range(1, 40):\n",
    "    knn = KNeighborsClassifier(n_neighbors=i, metric=\"euclidean\")\n",
    "    knn.fit(trainX, trainY)\n",
    "    pred_i = knn.predict(testX)\n",
    "    error2.append(np.mean(pred_i != testY.values))\n",
    "    \n",
    "error3 = []\n",
    "\n",
    "for i in range(1, 40):\n",
    "    knn = KNeighborsClassifier(n_neighbors=i, metric=\"manhattan\")\n",
    "    knn.fit(trainX, trainY)\n",
    "    pred_i = knn.predict(testX)\n",
    "    error3.append(np.mean(pred_i != testY.values))\n",
    "    \n",
    "error4 = []\n",
    "\n",
    "for i in range(1, 40):\n",
    "    knn = KNeighborsClassifier(n_neighbors=i, metric=\"minkowski\")\n",
    "    knn.fit(trainX, trainY)\n",
    "    pred_i = knn.predict(testX)\n",
    "    error4.append(np.mean(pred_i != testY.values))"
   ]
  },
  {
   "cell_type": "code",
   "execution_count": 24,
   "id": "4ca83f2d-086d-4db4-9bbc-94aa8a9623af",
   "metadata": {},
   "outputs": [
    {
     "data": {
      "image/png": "[encoded data removed]",
      "text/plain": [
       "<Figure size 864x432 with 1 Axes>"
      ]
     },
     "metadata": {
      "needs_background": "light"
     },
     "output_type": "display_data"
    }
   ],
   "source": [
    "plt.figure(figsize=(12, 6))\n",
    "plt.plot(range(1, 40), error1, color='green', linestyle='dashed', marker='o',\n",
    "         markerfacecolor='yellow', markersize=10, label='Cosine Distance')\n",
    "plt.plot(range(1, 40), error2, color='blue', linestyle='dashed', marker='o',\n",
    "         markerfacecolor='orange', markersize=10, label='Euclidean Distance')\n",
    "plt.plot(range(1, 40), error3, color='red', linestyle='dashed', marker='o',\n",
    "         markerfacecolor='pink', markersize=10, label='Manhattan Distance')\n",
    "plt.plot(range(1, 40), error4, color='brown', linestyle='dashed', marker='o',\n",
    "         markerfacecolor='gray', markersize=10, label='Minkwoski Distance')\n",
    "\n",
    "plt.title('Error Rate K Value')\n",
    "plt.xlabel('K Value')\n",
    "plt.ylabel('Mean Error')\n",
    "plt.legend()\n",
    "plt.show()"
   ]
  },
  {
   "cell_type": "markdown",
   "id": "0667c81e-30e0-453d-b304-f139ee323c3b",
   "metadata": {},
   "source": [
    "&nbsp;"
   ]
  },
  {
   "cell_type": "markdown",
   "id": "fa8a48e7-cbea-4e8c-9c08-d60a866f802b",
   "metadata": {},
   "source": [
    "## Logistic regression"
   ]
  },
  {
   "cell_type": "code",
   "execution_count": 25,
   "id": "1dc00e74-d6b3-4ebf-af9a-36a9828a227f",
   "metadata": {},
   "outputs": [
    {
     "data": {
      "text/plain": [
       "LogisticRegression(max_iter=10000)"
      ]
     },
     "execution_count": 25,
     "metadata": {},
     "output_type": "execute_result"
    }
   ],
   "source": [
    "log_reg = LogisticRegression(max_iter=10000)\n",
    "log_reg.fit(trainX, trainY)"
   ]
  },
  {
   "cell_type": "code",
   "execution_count": 26,
   "id": "65b41129-4451-4f3e-bf9d-04a3c49cc770",
   "metadata": {},
   "outputs": [],
   "source": [
    "predicted = log_reg.predict(testX)"
   ]
  },
  {
   "cell_type": "code",
   "execution_count": 27,
   "id": "6e22b201-ff2d-4ca1-be73-54e24e79774c",
   "metadata": {},
   "outputs": [
    {
     "data": {
      "image/png": "[encoded data removed]",
      "text/plain": [
       "<Figure size 504x504 with 2 Axes>"
      ]
     },
     "metadata": {
      "needs_background": "light"
     },
     "output_type": "display_data"
    }
   ],
   "source": [
    "plt.figure(figsize=(7,7))\n",
    "sn.heatmap(confusion_matrix(testY, predicted), annot=True, fmt='.5g')\n",
    "plt.xlabel('Actual')\n",
    "plt.ylabel('Predicted')\n",
    "plt.title('Confusion matrix')\n",
    "plt.show()"
   ]
  },
  {
   "cell_type": "code",
   "execution_count": 28,
   "id": "c2029875-2642-4bb3-af5f-5b985426a17c",
   "metadata": {},
   "outputs": [
    {
     "name": "stdout",
     "output_type": "stream",
     "text": [
      "Accuracy: 0.9981378026070763\n",
      "Recall: 0.9981024667931688\n",
      "Precision: 0.9981024667931688\n",
      "F1 score: 0.9981024667931688\n"
     ]
    }
   ],
   "source": [
    "accuracy = accuracy_score(testY, predicted)\n",
    "recall = recall_score(testY, predicted)\n",
    "precision = precision_score(testY, predicted)\n",
    "f1 = f1_score(testY, predicted)\n",
    "\n",
    "print(f'Accuracy: {accuracy}')\n",
    "print(f'Recall: {recall}')\n",
    "print(f'Precision: {precision}')\n",
    "print(f'F1 score: {f1}')"
   ]
  },
  {
   "cell_type": "code",
   "execution_count": 29,
   "id": "4bc2c13d-5ea9-4091-b3c8-60e80027098e",
   "metadata": {},
   "outputs": [
    {
     "data": {
      "text/plain": [
       "<Figure size 720x720 with 0 Axes>"
      ]
     },
     "metadata": {},
     "output_type": "display_data"
    },
    {
     "data": {
      "image/png": "[encoded data removed]",
      "text/plain": [
       "<Figure size 432x288 with 1 Axes>"
      ]
     },
     "metadata": {
      "needs_background": "light"
     },
     "output_type": "display_data"
    }
   ],
   "source": [
    "plt.figure(figsize=(10,10))\n",
    "plot_roc_curve(log_reg, testX, testY)\n",
    "plt.title('Logistic regression classifier Roc Curve')\n",
    "plt.show()"
   ]
  },
  {
   "cell_type": "markdown",
   "id": "b29c83fa-6fb8-4f34-bd6e-bcbbddb895a1",
   "metadata": {},
   "source": [
    "&nbsp;"
   ]
  },
  {
   "cell_type": "markdown",
   "id": "648b995b-36c2-4440-8c1b-1cd2690d2ae8",
   "metadata": {},
   "source": [
    "## Linear Discriminant Analysis (LDA)"
   ]
  },
  {
   "cell_type": "code",
   "execution_count": 30,
   "id": "fb161b0c-ca1a-404b-b2a7-8a8e48f5949f",
   "metadata": {},
   "outputs": [
    {
     "data": {
      "text/plain": [
       "LinearDiscriminantAnalysis()"
      ]
     },
     "execution_count": 30,
     "metadata": {},
     "output_type": "execute_result"
    }
   ],
   "source": [
    "lda = LDA()\n",
    "lda.fit(trainX, trainY)"
   ]
  },
  {
   "cell_type": "code",
   "execution_count": 31,
   "id": "9bd3daa2-0511-4659-8c40-b0e395102b96",
   "metadata": {},
   "outputs": [],
   "source": [
    "predicted = lda.predict(testX)"
   ]
  },
  {
   "cell_type": "code",
   "execution_count": 32,
   "id": "842ea9f6-81e2-453c-93de-e17e1f5fbc84",
   "metadata": {},
   "outputs": [
    {
     "data": {
      "image/png": "[encoded data removed]",
      "text/plain": [
       "<Figure size 504x504 with 2 Axes>"
      ]
     },
     "metadata": {
      "needs_background": "light"
     },
     "output_type": "display_data"
    }
   ],
   "source": [
    "plt.figure(figsize=(7,7))\n",
    "sn.heatmap(confusion_matrix(testY, predicted), annot=True, fmt='.5g')\n",
    "plt.xlabel('Actual')\n",
    "plt.ylabel('Predicted')\n",
    "plt.title('Confusion matrix')\n",
    "plt.show()"
   ]
  },
  {
   "cell_type": "code",
   "execution_count": 33,
   "id": "11b0e91b-3e7d-483a-9cac-2cd79d8b270f",
   "metadata": {},
   "outputs": [
    {
     "name": "stdout",
     "output_type": "stream",
     "text": [
      "Accuracy: 0.9655493482309124\n",
      "Recall: 1.0\n",
      "Precision: 0.9343971631205674\n",
      "F1 score: 0.9660861594867095\n"
     ]
    }
   ],
   "source": [
    "accuracy = accuracy_score(testY, predicted)\n",
    "recall = recall_score(testY, predicted)\n",
    "precision = precision_score(testY, predicted)\n",
    "f1 = f1_score(testY, predicted)\n",
    "\n",
    "print(f'Accuracy: {accuracy}')\n",
    "print(f'Recall: {recall}')\n",
    "print(f'Precision: {precision}')\n",
    "print(f'F1 score: {f1}')"
   ]
  },
  {
   "cell_type": "code",
   "execution_count": 34,
   "id": "aeebbc9f-915f-4d7c-b2aa-744bde4e2efb",
   "metadata": {},
   "outputs": [
    {
     "data": {
      "text/plain": [
       "<Figure size 720x720 with 0 Axes>"
      ]
     },
     "metadata": {},
     "output_type": "display_data"
    },
    {
     "data": {
      "image/png": "[encoded data removed]",
      "text/plain": [
       "<Figure size 432x288 with 1 Axes>"
      ]
     },
     "metadata": {
      "needs_background": "light"
     },
     "output_type": "display_data"
    }
   ],
   "source": [
    "plt.figure(figsize=(10,10))\n",
    "plot_roc_curve(lda, testX, testY)\n",
    "plt.title('LDA Roc Curve')\n",
    "plt.show()"
   ]
  },
  {
   "cell_type": "markdown",
   "id": "9f052c65-5474-46dd-80d3-e750965871b9",
   "metadata": {},
   "source": [
    "&nbsp;"
   ]
  },
  {
   "cell_type": "markdown",
   "id": "89090635-7654-4be9-a40f-db5cb4dd790a",
   "metadata": {},
   "source": [
    "## Ensemble models"
   ]
  },
  {
   "cell_type": "markdown",
   "id": "bcddfcb4-a74c-4668-af44-df19e23ac46e",
   "metadata": {},
   "source": [
    "#### Voting classifier"
   ]
  },
  {
   "cell_type": "code",
   "execution_count": 35,
   "id": "f08ed7b7-6e5b-48b3-891c-8cf695c5cd1a",
   "metadata": {},
   "outputs": [
    {
     "data": {
      "text/plain": [
       "VotingClassifier(estimators=[('KNN', KNeighborsClassifier(n_neighbors=39)),\n",
       "                             ('DTree',\n",
       "                              DecisionTreeClassifier(criterion='entropy',\n",
       "                                                     max_depth=7)),\n",
       "                             ('LogReg', LogisticRegression(max_iter=10000))])"
      ]
     },
     "execution_count": 35,
     "metadata": {},
     "output_type": "execute_result"
    }
   ],
   "source": [
    "voting_clf = VotingClassifier(estimators=[('KNN', knn), ('DTree', dt), ('LogReg', log_reg)], voting='hard')\n",
    "voting_clf.fit(trainX, trainY)"
   ]
  },
  {
   "cell_type": "code",
   "execution_count": 36,
   "id": "add8a1f8-6c56-49a1-a111-c7690195e9c3",
   "metadata": {},
   "outputs": [],
   "source": [
    "predicted = voting_clf.predict(testX)"
   ]
  },
  {
   "cell_type": "code",
   "execution_count": 37,
   "id": "4d0d243c-8f1b-4c98-b4ef-12d52512f399",
   "metadata": {},
   "outputs": [
    {
     "data": {
      "image/png": "[encoded data removed]",
      "text/plain": [
       "<Figure size 504x504 with 2 Axes>"
      ]
     },
     "metadata": {
      "needs_background": "light"
     },
     "output_type": "display_data"
    }
   ],
   "source": [
    "plt.figure(figsize=(7,7))\n",
    "sn.heatmap(confusion_matrix(testY, predicted), annot=True, fmt='.5g')\n",
    "plt.xlabel('Actual')\n",
    "plt.ylabel('Predicted')\n",
    "plt.title('Confusion matrix')\n",
    "plt.show()"
   ]
  },
  {
   "cell_type": "code",
   "execution_count": 38,
   "id": "424e10a2-8975-4fe2-9de4-e381df55bd14",
   "metadata": {},
   "outputs": [
    {
     "name": "stdout",
     "output_type": "stream",
     "text": [
      "Accuracy: 0.9990689013035382\n",
      "Recall: 1.0\n",
      "Precision: 0.9981060606060606\n",
      "F1 score: 0.9990521327014218\n"
     ]
    }
   ],
   "source": [
    "accuracy = accuracy_score(testY, predicted)\n",
    "recall = recall_score(testY, predicted)\n",
    "precision = precision_score(testY, predicted)\n",
    "f1 = f1_score(testY, predicted)\n",
    "\n",
    "print(f'Accuracy: {accuracy}')\n",
    "print(f'Recall: {recall}')\n",
    "print(f'Precision: {precision}')\n",
    "print(f'F1 score: {f1}')"
   ]
  },
  {
   "cell_type": "markdown",
   "id": "f05214b4-4b46-4d81-b4c1-3f74ae429841",
   "metadata": {},
   "source": [
    "#### Bagging"
   ]
  },
  {
   "cell_type": "code",
   "execution_count": 39,
   "id": "5ed4f1ff-4440-4918-bcfc-18cc52e52f76",
   "metadata": {},
   "outputs": [
    {
     "name": "stdout",
     "output_type": "stream",
     "text": [
      "0.9974375135840035\n",
      "1.0\n",
      "0.999766355140187\n",
      "0.9587763529667466\n"
     ]
    }
   ],
   "source": [
    "logreg_bagging_model = BaggingClassifier(base_estimator=log_reg, n_estimators=5)\n",
    "dt_bagging_model = BaggingClassifier(base_estimator=dt, n_estimators=5)\n",
    "random_forest = RandomForestClassifier(n_estimators=10)\n",
    "extra_trees = ExtraTreesClassifier(n_estimators=10)\n",
    "\n",
    "def bagging_ensemble(model):\n",
    "    k_folds = KFold(n_splits=20)\n",
    "    results = cross_val_score(model, trainX, trainY, cv=k_folds)\n",
    "    print(results.mean())\n",
    "\n",
    "bagging_ensemble(logreg_bagging_model)\n",
    "bagging_ensemble(dt_bagging_model)\n",
    "bagging_ensemble(random_forest)\n",
    "bagging_ensemble(extra_trees)"
   ]
  },
  {
   "cell_type": "markdown",
   "id": "200f4199-5f2b-415e-b786-9e11b6cd7e89",
   "metadata": {},
   "source": [
    "#### Adaptive Boosting (Ada Boost)"
   ]
  },
  {
   "cell_type": "code",
   "execution_count": 40,
   "id": "8995ee5f-ba6e-4c22-9519-6cfb61f8cb11",
   "metadata": {},
   "outputs": [
    {
     "name": "stdout",
     "output_type": "stream",
     "text": [
      "1.0\n"
     ]
    }
   ],
   "source": [
    "kfold = KFold(n_splits=10)\n",
    "boost = AdaBoostClassifier(n_estimators=10)\n",
    "results = cross_val_score(boost, testX, testY, cv=kfold)\n",
    "print(results.mean())"
   ]
  }
 ],
 "metadata": {
  "kernelspec": {
   "display_name": "Python 3 (ipykernel)",
   "language": "python",
   "name": "python3"
  },
  "language_info": {
   "codemirror_mode": {
    "name": "ipython",
    "version": 3
   },
   "file_extension": ".py",
   "mimetype": "text/x-python",
   "name": "python",
   "nbconvert_exporter": "python",
   "pygments_lexer": "ipython3",
   "version": "3.9.12"
  }
 },
 "nbformat": 4,
 "nbformat_minor": 5
}
