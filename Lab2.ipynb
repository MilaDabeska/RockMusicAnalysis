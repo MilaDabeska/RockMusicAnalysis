{
 "cells": [
  {
   "cell_type": "markdown",
   "id": "62b89d8e",
   "metadata": {},
   "source": [
    "# Lab2: Decision Trees"
   ]
  },
  {
   "cell_type": "markdown",
   "id": "3017c21d",
   "metadata": {},
   "source": [
    "### Дабеска Мила 193263"
   ]
  },
  {
   "cell_type": "markdown",
   "id": "4a83617b",
   "metadata": {},
   "source": [
    "&nbsp;"
   ]
  },
  {
   "cell_type": "code",
   "execution_count": 1,
   "id": "fe5a48bb",
   "metadata": {},
   "outputs": [],
   "source": [
    "import numpy as np\n",
    "import matplotlib.pyplot as plt\n",
    "import sklearn\n",
    "import pandas as pd\n",
    "from sklearn.tree import DecisionTreeClassifier, export_graphviz\n",
    "from sklearn.model_selection import train_test_split, LeaveOneOut, cross_val_score, cross_validate\n",
    "from sklearn.preprocessing import OneHotEncoder, LabelEncoder, StandardScaler\n",
    "from sklearn.metrics import accuracy_score, precision_score, recall_score, f1_score, plot_roc_curve\n",
    "from sklearn.ensemble import RandomForestClassifier\n",
    "from sklearn import preprocessing\n",
    "import seaborn as sn\n",
    "import graphviz\n",
    "from IPython.display import Image\n",
    "%matplotlib inline\n",
    "import warnings\n",
    "warnings.filterwarnings(\"ignore\")"
   ]
  },
  {
   "cell_type": "code",
   "execution_count": 2,
   "id": "16559f02",
   "metadata": {},
   "outputs": [
    {
     "data": {
      "text/html": [
       "<div>\n",
       "<style scoped>\n",
       "    .dataframe tbody tr th:only-of-type {\n",
       "        vertical-align: middle;\n",
       "    }\n",
       "\n",
       "    .dataframe tbody tr th {\n",
       "        vertical-align: top;\n",
       "    }\n",
       "\n",
       "    .dataframe thead th {\n",
       "        text-align: right;\n",
       "    }\n",
       "</style>\n",
       "<table border=\"1\" class=\"dataframe\">\n",
       "  <thead>\n",
       "    <tr style=\"text-align: right;\">\n",
       "      <th></th>\n",
       "      <th>artist</th>\n",
       "      <th>release_date</th>\n",
       "      <th>length</th>\n",
       "      <th>popularity</th>\n",
       "      <th>danceability</th>\n",
       "      <th>acousticness</th>\n",
       "      <th>energy</th>\n",
       "      <th>instrumentalness</th>\n",
       "      <th>key</th>\n",
       "      <th>liveness</th>\n",
       "      <th>loudness</th>\n",
       "      <th>speechiness</th>\n",
       "      <th>tempo</th>\n",
       "      <th>time_signature</th>\n",
       "      <th>valence</th>\n",
       "    </tr>\n",
       "    <tr>\n",
       "      <th>name</th>\n",
       "      <th></th>\n",
       "      <th></th>\n",
       "      <th></th>\n",
       "      <th></th>\n",
       "      <th></th>\n",
       "      <th></th>\n",
       "      <th></th>\n",
       "      <th></th>\n",
       "      <th></th>\n",
       "      <th></th>\n",
       "      <th></th>\n",
       "      <th></th>\n",
       "      <th></th>\n",
       "      <th></th>\n",
       "      <th></th>\n",
       "    </tr>\n",
       "  </thead>\n",
       "  <tbody>\n",
       "    <tr>\n",
       "      <th>Smells Like Teen Spirit</th>\n",
       "      <td>Nirvana</td>\n",
       "      <td>1991</td>\n",
       "      <td>5.032000</td>\n",
       "      <td>74</td>\n",
       "      <td>0.502</td>\n",
       "      <td>0.000025</td>\n",
       "      <td>0.912</td>\n",
       "      <td>0.000173</td>\n",
       "      <td>1</td>\n",
       "      <td>0.1060</td>\n",
       "      <td>-4.556</td>\n",
       "      <td>0.0564</td>\n",
       "      <td>116.761</td>\n",
       "      <td>4</td>\n",
       "      <td>0.720</td>\n",
       "    </tr>\n",
       "    <tr>\n",
       "      <th>Stairway to Heaven - Remaster</th>\n",
       "      <td>Led Zeppelin</td>\n",
       "      <td>1971</td>\n",
       "      <td>8.047167</td>\n",
       "      <td>78</td>\n",
       "      <td>0.338</td>\n",
       "      <td>0.580000</td>\n",
       "      <td>0.340</td>\n",
       "      <td>0.003200</td>\n",
       "      <td>9</td>\n",
       "      <td>0.1160</td>\n",
       "      <td>-12.049</td>\n",
       "      <td>0.0339</td>\n",
       "      <td>82.433</td>\n",
       "      <td>4</td>\n",
       "      <td>0.197</td>\n",
       "    </tr>\n",
       "    <tr>\n",
       "      <th>Bohemian Rhapsody - Remastered 2011</th>\n",
       "      <td>Queen</td>\n",
       "      <td>1975</td>\n",
       "      <td>5.905333</td>\n",
       "      <td>74</td>\n",
       "      <td>0.392</td>\n",
       "      <td>0.288000</td>\n",
       "      <td>0.402</td>\n",
       "      <td>0.000000</td>\n",
       "      <td>0</td>\n",
       "      <td>0.2430</td>\n",
       "      <td>-9.961</td>\n",
       "      <td>0.0536</td>\n",
       "      <td>143.883</td>\n",
       "      <td>4</td>\n",
       "      <td>0.228</td>\n",
       "    </tr>\n",
       "    <tr>\n",
       "      <th>Imagine - Remastered 2010</th>\n",
       "      <td>John Lennon</td>\n",
       "      <td>1971</td>\n",
       "      <td>3.131100</td>\n",
       "      <td>77</td>\n",
       "      <td>0.547</td>\n",
       "      <td>0.907000</td>\n",
       "      <td>0.257</td>\n",
       "      <td>0.183000</td>\n",
       "      <td>0</td>\n",
       "      <td>0.0935</td>\n",
       "      <td>-12.358</td>\n",
       "      <td>0.0252</td>\n",
       "      <td>75.752</td>\n",
       "      <td>4</td>\n",
       "      <td>0.169</td>\n",
       "    </tr>\n",
       "    <tr>\n",
       "      <th>(I Can't Get No) Satisfaction - Mono Version</th>\n",
       "      <td>The Rolling Stones</td>\n",
       "      <td>1965</td>\n",
       "      <td>3.713550</td>\n",
       "      <td>77</td>\n",
       "      <td>0.723</td>\n",
       "      <td>0.038300</td>\n",
       "      <td>0.863</td>\n",
       "      <td>0.031700</td>\n",
       "      <td>2</td>\n",
       "      <td>0.1280</td>\n",
       "      <td>-7.890</td>\n",
       "      <td>0.0338</td>\n",
       "      <td>136.302</td>\n",
       "      <td>4</td>\n",
       "      <td>0.931</td>\n",
       "    </tr>\n",
       "    <tr>\n",
       "      <th>...</th>\n",
       "      <td>...</td>\n",
       "      <td>...</td>\n",
       "      <td>...</td>\n",
       "      <td>...</td>\n",
       "      <td>...</td>\n",
       "      <td>...</td>\n",
       "      <td>...</td>\n",
       "      <td>...</td>\n",
       "      <td>...</td>\n",
       "      <td>...</td>\n",
       "      <td>...</td>\n",
       "      <td>...</td>\n",
       "      <td>...</td>\n",
       "      <td>...</td>\n",
       "      <td>...</td>\n",
       "    </tr>\n",
       "    <tr>\n",
       "      <th>I'm In Your Mind</th>\n",
       "      <td>King Gizzard &amp; The Lizard Wizard</td>\n",
       "      <td>2014</td>\n",
       "      <td>3.559833</td>\n",
       "      <td>47</td>\n",
       "      <td>0.296</td>\n",
       "      <td>0.005910</td>\n",
       "      <td>0.776</td>\n",
       "      <td>0.801000</td>\n",
       "      <td>6</td>\n",
       "      <td>0.5970</td>\n",
       "      <td>-5.630</td>\n",
       "      <td>0.0597</td>\n",
       "      <td>93.481</td>\n",
       "      <td>4</td>\n",
       "      <td>0.406</td>\n",
       "    </tr>\n",
       "    <tr>\n",
       "      <th>Cellophane</th>\n",
       "      <td>King Gizzard &amp; The Lizard Wizard</td>\n",
       "      <td>2014</td>\n",
       "      <td>3.179750</td>\n",
       "      <td>44</td>\n",
       "      <td>0.432</td>\n",
       "      <td>0.002130</td>\n",
       "      <td>0.887</td>\n",
       "      <td>0.916000</td>\n",
       "      <td>7</td>\n",
       "      <td>0.1200</td>\n",
       "      <td>-6.175</td>\n",
       "      <td>0.1230</td>\n",
       "      <td>92.965</td>\n",
       "      <td>4</td>\n",
       "      <td>0.357</td>\n",
       "    </tr>\n",
       "    <tr>\n",
       "      <th>Hot Water</th>\n",
       "      <td>King Gizzard &amp; The Lizard Wizard</td>\n",
       "      <td>2014</td>\n",
       "      <td>3.396450</td>\n",
       "      <td>40</td>\n",
       "      <td>0.627</td>\n",
       "      <td>0.860000</td>\n",
       "      <td>0.609</td>\n",
       "      <td>0.890000</td>\n",
       "      <td>9</td>\n",
       "      <td>0.1160</td>\n",
       "      <td>-9.387</td>\n",
       "      <td>0.0332</td>\n",
       "      <td>86.861</td>\n",
       "      <td>4</td>\n",
       "      <td>0.734</td>\n",
       "    </tr>\n",
       "    <tr>\n",
       "      <th>Vitamin C - 2004 Remastered Version</th>\n",
       "      <td>CAN</td>\n",
       "      <td>1972</td>\n",
       "      <td>3.567767</td>\n",
       "      <td>52</td>\n",
       "      <td>0.643</td>\n",
       "      <td>0.006690</td>\n",
       "      <td>0.644</td>\n",
       "      <td>0.673000</td>\n",
       "      <td>4</td>\n",
       "      <td>0.1620</td>\n",
       "      <td>-12.615</td>\n",
       "      <td>0.0462</td>\n",
       "      <td>117.225</td>\n",
       "      <td>4</td>\n",
       "      <td>0.853</td>\n",
       "    </tr>\n",
       "    <tr>\n",
       "      <th>~</th>\n",
       "      <td>Touché Amoré</td>\n",
       "      <td>2011</td>\n",
       "      <td>1.485100</td>\n",
       "      <td>0</td>\n",
       "      <td>0.222</td>\n",
       "      <td>0.000258</td>\n",
       "      <td>0.959</td>\n",
       "      <td>0.000275</td>\n",
       "      <td>6</td>\n",
       "      <td>0.1540</td>\n",
       "      <td>-5.134</td>\n",
       "      <td>0.2080</td>\n",
       "      <td>161.693</td>\n",
       "      <td>4</td>\n",
       "      <td>0.128</td>\n",
       "    </tr>\n",
       "  </tbody>\n",
       "</table>\n",
       "<p>5484 rows × 15 columns</p>\n",
       "</div>"
      ],
      "text/plain": [
       "                                                                        artist  \\\n",
       "name                                                                             \n",
       "Smells Like Teen Spirit                                                Nirvana   \n",
       "Stairway to Heaven - Remaster                                     Led Zeppelin   \n",
       "Bohemian Rhapsody - Remastered 2011                                      Queen   \n",
       "Imagine - Remastered 2010                                          John Lennon   \n",
       "(I Can't Get No) Satisfaction - Mono Version                The Rolling Stones   \n",
       "...                                                                        ...   \n",
       "I'm In Your Mind                              King Gizzard & The Lizard Wizard   \n",
       "Cellophane                                    King Gizzard & The Lizard Wizard   \n",
       "Hot Water                                     King Gizzard & The Lizard Wizard   \n",
       "Vitamin C - 2004 Remastered Version                                        CAN   \n",
       "~                                                                 Touché Amoré   \n",
       "\n",
       "                                              release_date    length  \\\n",
       "name                                                                   \n",
       "Smells Like Teen Spirit                               1991  5.032000   \n",
       "Stairway to Heaven - Remaster                         1971  8.047167   \n",
       "Bohemian Rhapsody - Remastered 2011                   1975  5.905333   \n",
       "Imagine - Remastered 2010                             1971  3.131100   \n",
       "(I Can't Get No) Satisfaction - Mono Version          1965  3.713550   \n",
       "...                                                    ...       ...   \n",
       "I'm In Your Mind                                      2014  3.559833   \n",
       "Cellophane                                            2014  3.179750   \n",
       "Hot Water                                             2014  3.396450   \n",
       "Vitamin C - 2004 Remastered Version                   1972  3.567767   \n",
       "~                                                     2011  1.485100   \n",
       "\n",
       "                                              popularity  danceability  \\\n",
       "name                                                                     \n",
       "Smells Like Teen Spirit                               74         0.502   \n",
       "Stairway to Heaven - Remaster                         78         0.338   \n",
       "Bohemian Rhapsody - Remastered 2011                   74         0.392   \n",
       "Imagine - Remastered 2010                             77         0.547   \n",
       "(I Can't Get No) Satisfaction - Mono Version          77         0.723   \n",
       "...                                                  ...           ...   \n",
       "I'm In Your Mind                                      47         0.296   \n",
       "Cellophane                                            44         0.432   \n",
       "Hot Water                                             40         0.627   \n",
       "Vitamin C - 2004 Remastered Version                   52         0.643   \n",
       "~                                                      0         0.222   \n",
       "\n",
       "                                              acousticness  energy  \\\n",
       "name                                                                 \n",
       "Smells Like Teen Spirit                           0.000025   0.912   \n",
       "Stairway to Heaven - Remaster                     0.580000   0.340   \n",
       "Bohemian Rhapsody - Remastered 2011               0.288000   0.402   \n",
       "Imagine - Remastered 2010                         0.907000   0.257   \n",
       "(I Can't Get No) Satisfaction - Mono Version      0.038300   0.863   \n",
       "...                                                    ...     ...   \n",
       "I'm In Your Mind                                  0.005910   0.776   \n",
       "Cellophane                                        0.002130   0.887   \n",
       "Hot Water                                         0.860000   0.609   \n",
       "Vitamin C - 2004 Remastered Version               0.006690   0.644   \n",
       "~                                                 0.000258   0.959   \n",
       "\n",
       "                                              instrumentalness  key  liveness  \\\n",
       "name                                                                            \n",
       "Smells Like Teen Spirit                               0.000173    1    0.1060   \n",
       "Stairway to Heaven - Remaster                         0.003200    9    0.1160   \n",
       "Bohemian Rhapsody - Remastered 2011                   0.000000    0    0.2430   \n",
       "Imagine - Remastered 2010                             0.183000    0    0.0935   \n",
       "(I Can't Get No) Satisfaction - Mono Version          0.031700    2    0.1280   \n",
       "...                                                        ...  ...       ...   \n",
       "I'm In Your Mind                                      0.801000    6    0.5970   \n",
       "Cellophane                                            0.916000    7    0.1200   \n",
       "Hot Water                                             0.890000    9    0.1160   \n",
       "Vitamin C - 2004 Remastered Version                   0.673000    4    0.1620   \n",
       "~                                                     0.000275    6    0.1540   \n",
       "\n",
       "                                              loudness  speechiness    tempo  \\\n",
       "name                                                                           \n",
       "Smells Like Teen Spirit                         -4.556       0.0564  116.761   \n",
       "Stairway to Heaven - Remaster                  -12.049       0.0339   82.433   \n",
       "Bohemian Rhapsody - Remastered 2011             -9.961       0.0536  143.883   \n",
       "Imagine - Remastered 2010                      -12.358       0.0252   75.752   \n",
       "(I Can't Get No) Satisfaction - Mono Version    -7.890       0.0338  136.302   \n",
       "...                                                ...          ...      ...   \n",
       "I'm In Your Mind                                -5.630       0.0597   93.481   \n",
       "Cellophane                                      -6.175       0.1230   92.965   \n",
       "Hot Water                                       -9.387       0.0332   86.861   \n",
       "Vitamin C - 2004 Remastered Version            -12.615       0.0462  117.225   \n",
       "~                                               -5.134       0.2080  161.693   \n",
       "\n",
       "                                              time_signature  valence  \n",
       "name                                                                   \n",
       "Smells Like Teen Spirit                                    4    0.720  \n",
       "Stairway to Heaven - Remaster                              4    0.197  \n",
       "Bohemian Rhapsody - Remastered 2011                        4    0.228  \n",
       "Imagine - Remastered 2010                                  4    0.169  \n",
       "(I Can't Get No) Satisfaction - Mono Version               4    0.931  \n",
       "...                                                      ...      ...  \n",
       "I'm In Your Mind                                           4    0.406  \n",
       "Cellophane                                                 4    0.357  \n",
       "Hot Water                                                  4    0.734  \n",
       "Vitamin C - 2004 Remastered Version                        4    0.853  \n",
       "~                                                          4    0.128  \n",
       "\n",
       "[5484 rows x 15 columns]"
      ]
     },
     "execution_count": 2,
     "metadata": {},
     "output_type": "execute_result"
    }
   ],
   "source": [
    "dataset=pd.read_csv('history-of-rock-spotify.csv')\n",
    "dataset.drop(['index', 'danceability.1'], axis=1, inplace = True)\n",
    "dataset.set_index('name', inplace=True)\n",
    "dataset"
   ]
  },
  {
   "cell_type": "code",
   "execution_count": 3,
   "id": "df2517d6",
   "metadata": {},
   "outputs": [],
   "source": [
    "features = dataset.columns.drop(['key'])\n",
    "labels = ['key']\n",
    "\n",
    "X = dataset[features]\n",
    "Y = dataset[labels]"
   ]
  },
  {
   "cell_type": "code",
   "execution_count": 4,
   "id": "7b997fd6",
   "metadata": {},
   "outputs": [
    {
     "data": {
      "text/plain": [
       "9     765\n",
       "2     739\n",
       "7     715\n",
       "0     657\n",
       "4     548\n",
       "1     388\n",
       "5     381\n",
       "11    351\n",
       "6     319\n",
       "10    259\n",
       "8     233\n",
       "3     129\n",
       "Name: key, dtype: int64"
      ]
     },
     "execution_count": 4,
     "metadata": {},
     "output_type": "execute_result"
    }
   ],
   "source": [
    "dataset.key.value_counts()"
   ]
  },
  {
   "cell_type": "markdown",
   "id": "e0a30f1b",
   "metadata": {},
   "source": [
    "### Create decision tree"
   ]
  },
  {
   "cell_type": "code",
   "execution_count": 12,
   "id": "8607ff88",
   "metadata": {},
   "outputs": [],
   "source": [
    "dt = DecisionTreeClassifier(criterion = 'entropy')"
   ]
  },
  {
   "cell_type": "code",
   "execution_count": 6,
   "id": "6b7a0835",
   "metadata": {},
   "outputs": [
    {
     "data": {
      "text/html": [
       "<div>\n",
       "<style scoped>\n",
       "    .dataframe tbody tr th:only-of-type {\n",
       "        vertical-align: middle;\n",
       "    }\n",
       "\n",
       "    .dataframe tbody tr th {\n",
       "        vertical-align: top;\n",
       "    }\n",
       "\n",
       "    .dataframe thead th {\n",
       "        text-align: right;\n",
       "    }\n",
       "</style>\n",
       "<table border=\"1\" class=\"dataframe\">\n",
       "  <thead>\n",
       "    <tr style=\"text-align: right;\">\n",
       "      <th></th>\n",
       "      <th>artist</th>\n",
       "      <th>release_date</th>\n",
       "      <th>length</th>\n",
       "      <th>popularity</th>\n",
       "      <th>danceability</th>\n",
       "      <th>acousticness</th>\n",
       "      <th>energy</th>\n",
       "      <th>instrumentalness</th>\n",
       "      <th>liveness</th>\n",
       "      <th>loudness</th>\n",
       "      <th>speechiness</th>\n",
       "      <th>tempo</th>\n",
       "      <th>time_signature</th>\n",
       "      <th>valence</th>\n",
       "    </tr>\n",
       "    <tr>\n",
       "      <th>name</th>\n",
       "      <th></th>\n",
       "      <th></th>\n",
       "      <th></th>\n",
       "      <th></th>\n",
       "      <th></th>\n",
       "      <th></th>\n",
       "      <th></th>\n",
       "      <th></th>\n",
       "      <th></th>\n",
       "      <th></th>\n",
       "      <th></th>\n",
       "      <th></th>\n",
       "      <th></th>\n",
       "      <th></th>\n",
       "    </tr>\n",
       "  </thead>\n",
       "  <tbody>\n",
       "    <tr>\n",
       "      <th>Smells Like Teen Spirit</th>\n",
       "      <td>942</td>\n",
       "      <td>1991</td>\n",
       "      <td>5.032000</td>\n",
       "      <td>74</td>\n",
       "      <td>0.502</td>\n",
       "      <td>0.000025</td>\n",
       "      <td>0.912</td>\n",
       "      <td>0.000173</td>\n",
       "      <td>0.1060</td>\n",
       "      <td>-4.556</td>\n",
       "      <td>0.0564</td>\n",
       "      <td>116.761</td>\n",
       "      <td>4</td>\n",
       "      <td>0.720</td>\n",
       "    </tr>\n",
       "    <tr>\n",
       "      <th>Stairway to Heaven - Remaster</th>\n",
       "      <td>772</td>\n",
       "      <td>1971</td>\n",
       "      <td>8.047167</td>\n",
       "      <td>78</td>\n",
       "      <td>0.338</td>\n",
       "      <td>0.580000</td>\n",
       "      <td>0.340</td>\n",
       "      <td>0.003200</td>\n",
       "      <td>0.1160</td>\n",
       "      <td>-12.049</td>\n",
       "      <td>0.0339</td>\n",
       "      <td>82.433</td>\n",
       "      <td>4</td>\n",
       "      <td>0.197</td>\n",
       "    </tr>\n",
       "    <tr>\n",
       "      <th>Bohemian Rhapsody - Remastered 2011</th>\n",
       "      <td>1045</td>\n",
       "      <td>1975</td>\n",
       "      <td>5.905333</td>\n",
       "      <td>74</td>\n",
       "      <td>0.392</td>\n",
       "      <td>0.288000</td>\n",
       "      <td>0.402</td>\n",
       "      <td>0.000000</td>\n",
       "      <td>0.2430</td>\n",
       "      <td>-9.961</td>\n",
       "      <td>0.0536</td>\n",
       "      <td>143.883</td>\n",
       "      <td>4</td>\n",
       "      <td>0.228</td>\n",
       "    </tr>\n",
       "    <tr>\n",
       "      <th>Imagine - Remastered 2010</th>\n",
       "      <td>704</td>\n",
       "      <td>1971</td>\n",
       "      <td>3.131100</td>\n",
       "      <td>77</td>\n",
       "      <td>0.547</td>\n",
       "      <td>0.907000</td>\n",
       "      <td>0.257</td>\n",
       "      <td>0.183000</td>\n",
       "      <td>0.0935</td>\n",
       "      <td>-12.358</td>\n",
       "      <td>0.0252</td>\n",
       "      <td>75.752</td>\n",
       "      <td>4</td>\n",
       "      <td>0.169</td>\n",
       "    </tr>\n",
       "    <tr>\n",
       "      <th>(I Can't Get No) Satisfaction - Mono Version</th>\n",
       "      <td>1516</td>\n",
       "      <td>1965</td>\n",
       "      <td>3.713550</td>\n",
       "      <td>77</td>\n",
       "      <td>0.723</td>\n",
       "      <td>0.038300</td>\n",
       "      <td>0.863</td>\n",
       "      <td>0.031700</td>\n",
       "      <td>0.1280</td>\n",
       "      <td>-7.890</td>\n",
       "      <td>0.0338</td>\n",
       "      <td>136.302</td>\n",
       "      <td>4</td>\n",
       "      <td>0.931</td>\n",
       "    </tr>\n",
       "  </tbody>\n",
       "</table>\n",
       "</div>"
      ],
      "text/plain": [
       "                                              artist  release_date    length  \\\n",
       "name                                                                           \n",
       "Smells Like Teen Spirit                          942          1991  5.032000   \n",
       "Stairway to Heaven - Remaster                    772          1971  8.047167   \n",
       "Bohemian Rhapsody - Remastered 2011             1045          1975  5.905333   \n",
       "Imagine - Remastered 2010                        704          1971  3.131100   \n",
       "(I Can't Get No) Satisfaction - Mono Version    1516          1965  3.713550   \n",
       "\n",
       "                                              popularity  danceability  \\\n",
       "name                                                                     \n",
       "Smells Like Teen Spirit                               74         0.502   \n",
       "Stairway to Heaven - Remaster                         78         0.338   \n",
       "Bohemian Rhapsody - Remastered 2011                   74         0.392   \n",
       "Imagine - Remastered 2010                             77         0.547   \n",
       "(I Can't Get No) Satisfaction - Mono Version          77         0.723   \n",
       "\n",
       "                                              acousticness  energy  \\\n",
       "name                                                                 \n",
       "Smells Like Teen Spirit                           0.000025   0.912   \n",
       "Stairway to Heaven - Remaster                     0.580000   0.340   \n",
       "Bohemian Rhapsody - Remastered 2011               0.288000   0.402   \n",
       "Imagine - Remastered 2010                         0.907000   0.257   \n",
       "(I Can't Get No) Satisfaction - Mono Version      0.038300   0.863   \n",
       "\n",
       "                                              instrumentalness  liveness  \\\n",
       "name                                                                       \n",
       "Smells Like Teen Spirit                               0.000173    0.1060   \n",
       "Stairway to Heaven - Remaster                         0.003200    0.1160   \n",
       "Bohemian Rhapsody - Remastered 2011                   0.000000    0.2430   \n",
       "Imagine - Remastered 2010                             0.183000    0.0935   \n",
       "(I Can't Get No) Satisfaction - Mono Version          0.031700    0.1280   \n",
       "\n",
       "                                              loudness  speechiness    tempo  \\\n",
       "name                                                                           \n",
       "Smells Like Teen Spirit                         -4.556       0.0564  116.761   \n",
       "Stairway to Heaven - Remaster                  -12.049       0.0339   82.433   \n",
       "Bohemian Rhapsody - Remastered 2011             -9.961       0.0536  143.883   \n",
       "Imagine - Remastered 2010                      -12.358       0.0252   75.752   \n",
       "(I Can't Get No) Satisfaction - Mono Version    -7.890       0.0338  136.302   \n",
       "\n",
       "                                              time_signature  valence  \n",
       "name                                                                   \n",
       "Smells Like Teen Spirit                                    4    0.720  \n",
       "Stairway to Heaven - Remaster                              4    0.197  \n",
       "Bohemian Rhapsody - Remastered 2011                        4    0.228  \n",
       "Imagine - Remastered 2010                                  4    0.169  \n",
       "(I Can't Get No) Satisfaction - Mono Version               4    0.931  "
      ]
     },
     "execution_count": 6,
     "metadata": {},
     "output_type": "execute_result"
    }
   ],
   "source": [
    "# encoder = dataset.apply(LabelEncoder().fit_transform)\n",
    "# encoder.head()\n",
    "\n",
    "encoder =  LabelEncoder()\n",
    "X['artist'] = encoder.fit_transform(X['artist'])\n",
    "X.head()"
   ]
  },
  {
   "cell_type": "markdown",
   "id": "b5800b29",
   "metadata": {},
   "source": [
    "### Split data"
   ]
  },
  {
   "cell_type": "code",
   "execution_count": 13,
   "id": "b8b15fc9",
   "metadata": {},
   "outputs": [],
   "source": [
    "trainX,testX,trainY,testY = train_test_split(X, Y, test_size=0.2)"
   ]
  },
  {
   "cell_type": "code",
   "execution_count": 14,
   "id": "37734f07",
   "metadata": {},
   "outputs": [
    {
     "data": {
      "text/plain": [
       "(                                                  artist  release_date  \\\n",
       " name                                                                     \n",
       " Copacabana (At the Copa)                             121          2006   \n",
       " Don't Be Cruel                                       442          1958   \n",
       " I Wanna Rock                                        1646          1984   \n",
       " (Don't Fear) The Reaper                              189          1976   \n",
       " Working on the Highway                               226          1984   \n",
       " ...                                                  ...           ...   \n",
       " Rock Me                                              573          1987   \n",
       " Paradise                                             296          2011   \n",
       " A Whiter Shade of Pale - Original Single Version    1037          2019   \n",
       " Baker Street (8-Bit Computer Game Version)            12          2020   \n",
       " I Ain't Gonna Stand For It                          1260          1980   \n",
       " \n",
       "                                                     length  popularity  \\\n",
       " name                                                                     \n",
       " Copacabana (At the Copa)                          3.946000          58   \n",
       " Don't Be Cruel                                    2.048217          61   \n",
       " I Wanna Rock                                      2.996000          70   \n",
       " (Don't Fear) The Reaper                           5.135333          77   \n",
       " Working on the Highway                            3.204433          50   \n",
       " ...                                                    ...         ...   \n",
       " Rock Me                                           7.316667          52   \n",
       " Paradise                                          4.645317          80   \n",
       " A Whiter Shade of Pale - Original Single Version  4.149100          70   \n",
       " Baker Street (8-Bit Computer Game Version)        5.730883           2   \n",
       " I Ain't Gonna Stand For It                        4.649400          27   \n",
       " \n",
       "                                                   danceability  acousticness  \\\n",
       " name                                                                           \n",
       " Copacabana (At the Copa)                                 0.606      0.333000   \n",
       " Don't Be Cruel                                           0.697      0.856000   \n",
       " I Wanna Rock                                             0.504      0.005120   \n",
       " (Don't Fear) The Reaper                                  0.333      0.002900   \n",
       " Working on the Highway                                   0.429      0.084200   \n",
       " ...                                                        ...           ...   \n",
       " Rock Me                                                  0.557      0.159000   \n",
       " Paradise                                                 0.449      0.050900   \n",
       " A Whiter Shade of Pale - Original Single Version         0.249      0.504000   \n",
       " Baker Street (8-Bit Computer Game Version)               0.526      0.004510   \n",
       " I Ain't Gonna Stand For It                               0.728      0.000252   \n",
       " \n",
       "                                                   energy  instrumentalness  \\\n",
       " name                                                                         \n",
       " Copacabana (At the Copa)                           0.899          0.000102   \n",
       " Don't Be Cruel                                     0.550          0.000034   \n",
       " I Wanna Rock                                       0.911          0.012300   \n",
       " (Don't Fear) The Reaper                            0.927          0.000208   \n",
       " Working on the Highway                             0.949          0.000000   \n",
       " ...                                                  ...               ...   \n",
       " Rock Me                                            0.415          0.073300   \n",
       " Paradise                                           0.585          0.000087   \n",
       " A Whiter Shade of Pale - Original Single Version   0.660          0.002600   \n",
       " Baker Street (8-Bit Computer Game Version)         0.700          0.842000   \n",
       " I Ain't Gonna Stand For It                         0.432          0.011100   \n",
       " \n",
       "                                                   liveness  loudness  \\\n",
       " name                                                                   \n",
       " Copacabana (At the Copa)                            0.0754    -6.412   \n",
       " Don't Be Cruel                                      0.0907   -11.496   \n",
       " I Wanna Rock                                        0.3550    -2.970   \n",
       " (Don't Fear) The Reaper                             0.2970    -8.550   \n",
       " Working on the Highway                              0.1540    -5.295   \n",
       " ...                                                    ...       ...   \n",
       " Rock Me                                             0.1120   -14.008   \n",
       " Paradise                                            0.0833    -6.761   \n",
       " A Whiter Shade of Pale - Original Single Version    0.0891    -6.905   \n",
       " Baker Street (8-Bit Computer Game Version)          0.4510    -5.596   \n",
       " I Ain't Gonna Stand For It                          0.0950   -15.269   \n",
       " \n",
       "                                                   speechiness    tempo  \\\n",
       " name                                                                     \n",
       " Copacabana (At the Copa)                               0.0758  116.735   \n",
       " Don't Be Cruel                                         0.1800   84.802   \n",
       " I Wanna Rock                                           0.0738  106.244   \n",
       " (Don't Fear) The Reaper                                0.0733  141.466   \n",
       " Working on the Highway                                 0.0458  184.286   \n",
       " ...                                                       ...      ...   \n",
       " Rock Me                                                0.0406  140.722   \n",
       " Paradise                                               0.0268  139.631   \n",
       " A Whiter Shade of Pale - Original Single Version       0.0342  149.813   \n",
       " Baker Street (8-Bit Computer Game Version)             0.0307  120.898   \n",
       " I Ain't Gonna Stand For It                             0.0329  113.593   \n",
       " \n",
       "                                                   time_signature  valence  \n",
       " name                                                                       \n",
       " Copacabana (At the Copa)                                       4    0.660  \n",
       " Don't Be Cruel                                                 4    0.844  \n",
       " I Wanna Rock                                                   4    0.671  \n",
       " (Don't Fear) The Reaper                                        4    0.385  \n",
       " Working on the Highway                                         4    0.967  \n",
       " ...                                                          ...      ...  \n",
       " Rock Me                                                        4    0.133  \n",
       " Paradise                                                       4    0.212  \n",
       " A Whiter Shade of Pale - Original Single Version               4    0.435  \n",
       " Baker Street (8-Bit Computer Game Version)                     4    0.312  \n",
       " I Ain't Gonna Stand For It                                     4    0.816  \n",
       " \n",
       " [4387 rows x 14 columns],\n",
       "                                                   key\n",
       " name                                                 \n",
       " Copacabana (At the Copa)                            7\n",
       " Don't Be Cruel                                      2\n",
       " I Wanna Rock                                        2\n",
       " (Don't Fear) The Reaper                             9\n",
       " Working on the Highway                              0\n",
       " ...                                               ...\n",
       " Rock Me                                             6\n",
       " Paradise                                            5\n",
       " A Whiter Shade of Pale - Original Single Version    0\n",
       " Baker Street (8-Bit Computer Game Version)          7\n",
       " I Ain't Gonna Stand For It                          9\n",
       " \n",
       " [4387 rows x 1 columns])"
      ]
     },
     "execution_count": 14,
     "metadata": {},
     "output_type": "execute_result"
    }
   ],
   "source": [
    "trainX, trainY"
   ]
  },
  {
   "cell_type": "code",
   "execution_count": 15,
   "id": "d2a02edf",
   "metadata": {},
   "outputs": [
    {
     "data": {
      "text/plain": [
       "(                                 artist  release_date    length  popularity  \\\n",
       " name                                                                          \n",
       " Pets                               1027          1993  3.612217          57   \n",
       " Closer to Fine                      640          1989  4.026667          58   \n",
       " See You Someday                     785          1992  5.447333          10   \n",
       " I Hate Children                      31          1981  1.757767          39   \n",
       " Not Fade Away - Mono Version       1516          1964  1.795333          40   \n",
       " ...                                 ...           ...       ...         ...   \n",
       " Along Comes Mary                   1335          1966  2.850000          54   \n",
       " Look Around                        1073          2011  3.466667          59   \n",
       " I Believe                           177          1995  4.457450          47   \n",
       " Hearts on Fire                      590          2002  3.856433          62   \n",
       " All My Loving - Remastered 2009    1344          1963  2.130883          67   \n",
       " \n",
       "                                  danceability  acousticness  energy  \\\n",
       " name                                                                  \n",
       " Pets                                    0.578      0.050000   0.515   \n",
       " Closer to Fine                          0.540      0.368000   0.677   \n",
       " See You Someday                         0.203      0.092400   0.721   \n",
       " I Hate Children                         0.307      0.000684   0.942   \n",
       " Not Fade Away - Mono Version            0.750      0.006610   0.826   \n",
       " ...                                       ...           ...     ...   \n",
       " Along Comes Mary                        0.584      0.088300   0.620   \n",
       " Look Around                             0.560      0.005000   0.953   \n",
       " I Believe                               0.491      0.653000   0.458   \n",
       " Hearts on Fire                          0.577      0.000431   0.901   \n",
       " All My Loving - Remastered 2009         0.416      0.207000   0.563   \n",
       " \n",
       "                                  instrumentalness  liveness  loudness  \\\n",
       " name                                                                    \n",
       " Pets                                     0.026800     0.119    -9.541   \n",
       " Closer to Fine                           0.000000     0.224    -6.349   \n",
       " See You Someday                          0.000000     0.110    -9.043   \n",
       " I Hate Children                          0.000000     0.324    -7.198   \n",
       " Not Fade Away - Mono Version             0.630000     0.153    -9.992   \n",
       " ...                                           ...       ...       ...   \n",
       " Along Comes Mary                         0.000002     0.187    -7.681   \n",
       " Look Around                              0.000016     0.226    -2.372   \n",
       " I Believe                                0.000000     0.164    -8.159   \n",
       " Hearts on Fire                           0.000004     0.672    -5.981   \n",
       " All My Loving - Remastered 2009          0.000000     0.343    -8.724   \n",
       " \n",
       "                                  speechiness    tempo  time_signature  valence  \n",
       " name                                                                            \n",
       " Pets                                  0.0347  112.879               4    0.302  \n",
       " Closer to Fine                        0.0286   98.339               4    0.748  \n",
       " See You Someday                       0.0359  149.741               4    0.227  \n",
       " I Hate Children                       0.0484  148.120               4    0.668  \n",
       " Not Fade Away - Mono Version          0.0472  113.294               4    0.896  \n",
       " ...                                      ...      ...             ...      ...  \n",
       " Along Comes Mary                      0.0513  143.561               4    0.857  \n",
       " Look Around                           0.0851  111.911               4    0.519  \n",
       " I Believe                             0.0270  141.724               4    0.238  \n",
       " Hearts on Fire                        0.0492   90.997               4    0.337  \n",
       " All My Loving - Remastered 2009       0.0298   77.560               4    0.900  \n",
       " \n",
       " [1097 rows x 14 columns],\n",
       "                                  key\n",
       " name                                \n",
       " Pets                              11\n",
       " Closer to Fine                     9\n",
       " See You Someday                    1\n",
       " I Hate Children                    2\n",
       " Not Fade Away - Mono Version       4\n",
       " ...                              ...\n",
       " Along Comes Mary                   7\n",
       " Look Around                        7\n",
       " I Believe                         11\n",
       " Hearts on Fire                     1\n",
       " All My Loving - Remastered 2009    1\n",
       " \n",
       " [1097 rows x 1 columns])"
      ]
     },
     "execution_count": 15,
     "metadata": {},
     "output_type": "execute_result"
    }
   ],
   "source": [
    "testX, testY"
   ]
  },
  {
   "cell_type": "code",
   "execution_count": 16,
   "id": "026b564a",
   "metadata": {},
   "outputs": [
    {
     "data": {
      "text/plain": [
       "DecisionTreeClassifier(criterion='entropy')"
      ]
     },
     "execution_count": 16,
     "metadata": {},
     "output_type": "execute_result"
    }
   ],
   "source": [
    "dt.fit(trainX, trainY)"
   ]
  },
  {
   "cell_type": "code",
   "execution_count": 17,
   "id": "b74c4c70",
   "metadata": {},
   "outputs": [
    {
     "ename": "IndexError",
     "evalue": "list index out of range",
     "output_type": "error",
     "traceback": [
      "\u001b[1;31m---------------------------------------------------------------------------\u001b[0m",
      "\u001b[1;31mIndexError\u001b[0m                                Traceback (most recent call last)",
      "Input \u001b[1;32mIn [17]\u001b[0m, in \u001b[0;36m<cell line: 1>\u001b[1;34m()\u001b[0m\n\u001b[1;32m----> 1\u001b[0m dot_data \u001b[38;5;241m=\u001b[39m \u001b[43mexport_graphviz\u001b[49m\u001b[43m(\u001b[49m\u001b[43mdt\u001b[49m\u001b[43m,\u001b[49m\u001b[43m \u001b[49m\n\u001b[0;32m      2\u001b[0m \u001b[43m                           \u001b[49m\u001b[43mout_file\u001b[49m\u001b[43m \u001b[49m\u001b[38;5;241;43m=\u001b[39;49m\u001b[43m \u001b[49m\u001b[38;5;28;43;01mNone\u001b[39;49;00m\u001b[43m,\u001b[49m\u001b[43m \u001b[49m\n\u001b[0;32m      3\u001b[0m \u001b[43m                           \u001b[49m\u001b[43mfeature_names\u001b[49m\u001b[43m \u001b[49m\u001b[38;5;241;43m=\u001b[39;49m\u001b[43m \u001b[49m\u001b[43mfeatures\u001b[49m\u001b[43m,\u001b[49m\n\u001b[0;32m      4\u001b[0m \u001b[43m                           \u001b[49m\u001b[43mclass_names\u001b[49m\u001b[43m \u001b[49m\u001b[38;5;241;43m=\u001b[39;49m\u001b[43m \u001b[49m\u001b[43mlabels\u001b[49m\u001b[43m,\u001b[49m\n\u001b[0;32m      5\u001b[0m \u001b[43m                           \u001b[49m\u001b[43mfilled\u001b[49m\u001b[43m \u001b[49m\u001b[38;5;241;43m=\u001b[39;49m\u001b[43m \u001b[49m\u001b[38;5;28;43;01mTrue\u001b[39;49;00m\u001b[43m,\u001b[49m\u001b[43m \u001b[49m\n\u001b[0;32m      6\u001b[0m \u001b[43m                           \u001b[49m\u001b[43mrounded\u001b[49m\u001b[43m \u001b[49m\u001b[38;5;241;43m=\u001b[39;49m\u001b[43m \u001b[49m\u001b[38;5;28;43;01mTrue\u001b[39;49;00m\u001b[43m,\u001b[49m\n\u001b[0;32m      7\u001b[0m \u001b[43m                           \u001b[49m\u001b[43mspecial_characters\u001b[49m\u001b[43m \u001b[49m\u001b[38;5;241;43m=\u001b[39;49m\u001b[43m \u001b[49m\u001b[38;5;28;43;01mTrue\u001b[39;49;00m\u001b[43m)\u001b[49m\n\u001b[0;32m      8\u001b[0m graph \u001b[38;5;241m=\u001b[39m graphviz\u001b[38;5;241m.\u001b[39mSource(dot_data)\n\u001b[0;32m      9\u001b[0m graph\u001b[38;5;241m.\u001b[39mrender(\u001b[38;5;124m\"\u001b[39m\u001b[38;5;124mhistory-of-rock-spotify\u001b[39m\u001b[38;5;124m\"\u001b[39m)\n",
      "File \u001b[1;32m~\\AppData\\Local\\Programs\\Python\\Python39\\lib\\site-packages\\sklearn\\tree\\_export.py:889\u001b[0m, in \u001b[0;36mexport_graphviz\u001b[1;34m(decision_tree, out_file, max_depth, feature_names, class_names, label, filled, leaves_parallel, impurity, node_ids, proportion, rotate, rounded, special_characters, precision, fontname)\u001b[0m\n\u001b[0;32m    870\u001b[0m     out_file \u001b[38;5;241m=\u001b[39m StringIO()\n\u001b[0;32m    872\u001b[0m exporter \u001b[38;5;241m=\u001b[39m _DOTTreeExporter(\n\u001b[0;32m    873\u001b[0m     out_file\u001b[38;5;241m=\u001b[39mout_file,\n\u001b[0;32m    874\u001b[0m     max_depth\u001b[38;5;241m=\u001b[39mmax_depth,\n\u001b[1;32m   (...)\u001b[0m\n\u001b[0;32m    887\u001b[0m     fontname\u001b[38;5;241m=\u001b[39mfontname,\n\u001b[0;32m    888\u001b[0m )\n\u001b[1;32m--> 889\u001b[0m \u001b[43mexporter\u001b[49m\u001b[38;5;241;43m.\u001b[39;49m\u001b[43mexport\u001b[49m\u001b[43m(\u001b[49m\u001b[43mdecision_tree\u001b[49m\u001b[43m)\u001b[49m\n\u001b[0;32m    891\u001b[0m \u001b[38;5;28;01mif\u001b[39;00m return_string:\n\u001b[0;32m    892\u001b[0m     \u001b[38;5;28;01mreturn\u001b[39;00m exporter\u001b[38;5;241m.\u001b[39mout_file\u001b[38;5;241m.\u001b[39mgetvalue()\n",
      "File \u001b[1;32m~\\AppData\\Local\\Programs\\Python\\Python39\\lib\\site-packages\\sklearn\\tree\\_export.py:462\u001b[0m, in \u001b[0;36m_DOTTreeExporter.export\u001b[1;34m(self, decision_tree)\u001b[0m\n\u001b[0;32m    460\u001b[0m     \u001b[38;5;28mself\u001b[39m\u001b[38;5;241m.\u001b[39mrecurse(decision_tree, \u001b[38;5;241m0\u001b[39m, criterion\u001b[38;5;241m=\u001b[39m\u001b[38;5;124m\"\u001b[39m\u001b[38;5;124mimpurity\u001b[39m\u001b[38;5;124m\"\u001b[39m)\n\u001b[0;32m    461\u001b[0m \u001b[38;5;28;01melse\u001b[39;00m:\n\u001b[1;32m--> 462\u001b[0m     \u001b[38;5;28;43mself\u001b[39;49m\u001b[38;5;241;43m.\u001b[39;49m\u001b[43mrecurse\u001b[49m\u001b[43m(\u001b[49m\u001b[43mdecision_tree\u001b[49m\u001b[38;5;241;43m.\u001b[39;49m\u001b[43mtree_\u001b[49m\u001b[43m,\u001b[49m\u001b[43m \u001b[49m\u001b[38;5;241;43m0\u001b[39;49m\u001b[43m,\u001b[49m\u001b[43m \u001b[49m\u001b[43mcriterion\u001b[49m\u001b[38;5;241;43m=\u001b[39;49m\u001b[43mdecision_tree\u001b[49m\u001b[38;5;241;43m.\u001b[39;49m\u001b[43mcriterion\u001b[49m\u001b[43m)\u001b[49m\n\u001b[0;32m    464\u001b[0m \u001b[38;5;28mself\u001b[39m\u001b[38;5;241m.\u001b[39mtail()\n",
      "File \u001b[1;32m~\\AppData\\Local\\Programs\\Python\\Python39\\lib\\site-packages\\sklearn\\tree\\_export.py:521\u001b[0m, in \u001b[0;36m_DOTTreeExporter.recurse\u001b[1;34m(self, tree, node_id, criterion, parent, depth)\u001b[0m\n\u001b[0;32m    517\u001b[0m \u001b[38;5;28;01melse\u001b[39;00m:\n\u001b[0;32m    518\u001b[0m     \u001b[38;5;28mself\u001b[39m\u001b[38;5;241m.\u001b[39mranks[\u001b[38;5;28mstr\u001b[39m(depth)]\u001b[38;5;241m.\u001b[39mappend(\u001b[38;5;28mstr\u001b[39m(node_id))\n\u001b[0;32m    520\u001b[0m \u001b[38;5;28mself\u001b[39m\u001b[38;5;241m.\u001b[39mout_file\u001b[38;5;241m.\u001b[39mwrite(\n\u001b[1;32m--> 521\u001b[0m     \u001b[38;5;124m\"\u001b[39m\u001b[38;5;132;01m%d\u001b[39;00m\u001b[38;5;124m [label=\u001b[39m\u001b[38;5;132;01m%s\u001b[39;00m\u001b[38;5;124m\"\u001b[39m \u001b[38;5;241m%\u001b[39m (node_id, \u001b[38;5;28;43mself\u001b[39;49m\u001b[38;5;241;43m.\u001b[39;49m\u001b[43mnode_to_str\u001b[49m\u001b[43m(\u001b[49m\u001b[43mtree\u001b[49m\u001b[43m,\u001b[49m\u001b[43m \u001b[49m\u001b[43mnode_id\u001b[49m\u001b[43m,\u001b[49m\u001b[43m \u001b[49m\u001b[43mcriterion\u001b[49m\u001b[43m)\u001b[49m)\n\u001b[0;32m    522\u001b[0m )\n\u001b[0;32m    524\u001b[0m \u001b[38;5;28;01mif\u001b[39;00m \u001b[38;5;28mself\u001b[39m\u001b[38;5;241m.\u001b[39mfilled:\n\u001b[0;32m    525\u001b[0m     \u001b[38;5;28mself\u001b[39m\u001b[38;5;241m.\u001b[39mout_file\u001b[38;5;241m.\u001b[39mwrite(\n\u001b[0;32m    526\u001b[0m         \u001b[38;5;124m'\u001b[39m\u001b[38;5;124m, fillcolor=\u001b[39m\u001b[38;5;124m\"\u001b[39m\u001b[38;5;132;01m%s\u001b[39;00m\u001b[38;5;124m\"\u001b[39m\u001b[38;5;124m'\u001b[39m \u001b[38;5;241m%\u001b[39m \u001b[38;5;28mself\u001b[39m\u001b[38;5;241m.\u001b[39mget_fill_color(tree, node_id)\n\u001b[0;32m    527\u001b[0m     )\n",
      "File \u001b[1;32m~\\AppData\\Local\\Programs\\Python\\Python39\\lib\\site-packages\\sklearn\\tree\\_export.py:367\u001b[0m, in \u001b[0;36m_BaseTreeExporter.node_to_str\u001b[1;34m(self, tree, node_id, criterion)\u001b[0m\n\u001b[0;32m    365\u001b[0m     node_string \u001b[38;5;241m+\u001b[39m\u001b[38;5;241m=\u001b[39m \u001b[38;5;124m\"\u001b[39m\u001b[38;5;124mclass = \u001b[39m\u001b[38;5;124m\"\u001b[39m\n\u001b[0;32m    366\u001b[0m \u001b[38;5;28;01mif\u001b[39;00m \u001b[38;5;28mself\u001b[39m\u001b[38;5;241m.\u001b[39mclass_names \u001b[38;5;129;01mis\u001b[39;00m \u001b[38;5;129;01mnot\u001b[39;00m \u001b[38;5;28;01mTrue\u001b[39;00m:\n\u001b[1;32m--> 367\u001b[0m     class_name \u001b[38;5;241m=\u001b[39m \u001b[38;5;28;43mself\u001b[39;49m\u001b[38;5;241;43m.\u001b[39;49m\u001b[43mclass_names\u001b[49m\u001b[43m[\u001b[49m\u001b[43mnp\u001b[49m\u001b[38;5;241;43m.\u001b[39;49m\u001b[43margmax\u001b[49m\u001b[43m(\u001b[49m\u001b[43mvalue\u001b[49m\u001b[43m)\u001b[49m\u001b[43m]\u001b[49m\n\u001b[0;32m    368\u001b[0m \u001b[38;5;28;01melse\u001b[39;00m:\n\u001b[0;32m    369\u001b[0m     class_name \u001b[38;5;241m=\u001b[39m \u001b[38;5;124m\"\u001b[39m\u001b[38;5;124my\u001b[39m\u001b[38;5;132;01m%s\u001b[39;00m\u001b[38;5;132;01m%s\u001b[39;00m\u001b[38;5;132;01m%s\u001b[39;00m\u001b[38;5;124m\"\u001b[39m \u001b[38;5;241m%\u001b[39m (\n\u001b[0;32m    370\u001b[0m         characters[\u001b[38;5;241m1\u001b[39m],\n\u001b[0;32m    371\u001b[0m         np\u001b[38;5;241m.\u001b[39margmax(value),\n\u001b[0;32m    372\u001b[0m         characters[\u001b[38;5;241m2\u001b[39m],\n\u001b[0;32m    373\u001b[0m     )\n",
      "\u001b[1;31mIndexError\u001b[0m: list index out of range"
     ]
    }
   ],
   "source": [
    "dot_data = export_graphviz(dt, \n",
    "                           out_file = None, \n",
    "                           feature_names = features,\n",
    "                           class_names = labels,\n",
    "                           filled = True, \n",
    "                           rounded = True,\n",
    "                           special_characters = True)\n",
    "graph = graphviz.Source(dot_data)\n",
    "graph.render(\"history-of-rock-spotify\")"
   ]
  },
  {
   "cell_type": "code",
   "execution_count": 18,
   "id": "87b4cf44",
   "metadata": {},
   "outputs": [],
   "source": [
    "predicted = dt.predict(testX)"
   ]
  },
  {
   "cell_type": "code",
   "execution_count": 19,
   "id": "83755b83",
   "metadata": {},
   "outputs": [
    {
     "data": {
      "text/plain": [
       "array([0.11343366, 0.1198243 , 0.03661834, 0.0526725 , 0.06943185,\n",
       "       0.0825095 , 0.03778698, 0.06093994, 0.10377879, 0.03381122,\n",
       "       0.12816849, 0.10342035, 0.        , 0.0576041 ])"
      ]
     },
     "execution_count": 19,
     "metadata": {},
     "output_type": "execute_result"
    }
   ],
   "source": [
    "dt.feature_importances_"
   ]
  },
  {
   "cell_type": "code",
   "execution_count": 20,
   "id": "c721f301",
   "metadata": {},
   "outputs": [
    {
     "data": {
      "text/plain": [
       "name\n",
       "(Rock) Superstar                                            10\n",
       "DOWN                                                         5\n",
       "Uncle Albert / Admiral Halsey - Medley / Remastered 2012     7\n",
       "Starlight (feat. Myles Kennedy)                              0\n",
       "Love Shack                                                   5\n",
       "                                                            ..\n",
       "Lady Picture Show                                            4\n",
       "Cherub Rock - Remastered 2011                                9\n",
       "Suite: Judy Blue Eyes - 2005 Remaster                        9\n",
       "Open My Eyes                                                 9\n",
       "Miss Misery (Early Version)                                  3\n",
       "Name: key, Length: 1097, dtype: int64"
      ]
     },
     "execution_count": 20,
     "metadata": {},
     "output_type": "execute_result"
    }
   ],
   "source": [
    "testY.key"
   ]
  },
  {
   "cell_type": "code",
   "execution_count": 21,
   "id": "8fef4e3e",
   "metadata": {},
   "outputs": [
    {
     "data": {
      "text/html": [
       "<div>\n",
       "<style scoped>\n",
       "    .dataframe tbody tr th:only-of-type {\n",
       "        vertical-align: middle;\n",
       "    }\n",
       "\n",
       "    .dataframe tbody tr th {\n",
       "        vertical-align: top;\n",
       "    }\n",
       "\n",
       "    .dataframe thead th {\n",
       "        text-align: right;\n",
       "    }\n",
       "</style>\n",
       "<table border=\"1\" class=\"dataframe\">\n",
       "  <thead>\n",
       "    <tr style=\"text-align: right;\">\n",
       "      <th></th>\n",
       "      <th>actual</th>\n",
       "      <th>predicted</th>\n",
       "    </tr>\n",
       "    <tr>\n",
       "      <th>name</th>\n",
       "      <th></th>\n",
       "      <th></th>\n",
       "    </tr>\n",
       "  </thead>\n",
       "  <tbody>\n",
       "    <tr>\n",
       "      <th>(Rock) Superstar</th>\n",
       "      <td>10</td>\n",
       "      <td>7</td>\n",
       "    </tr>\n",
       "    <tr>\n",
       "      <th>DOWN</th>\n",
       "      <td>5</td>\n",
       "      <td>9</td>\n",
       "    </tr>\n",
       "    <tr>\n",
       "      <th>Uncle Albert / Admiral Halsey - Medley / Remastered 2012</th>\n",
       "      <td>7</td>\n",
       "      <td>7</td>\n",
       "    </tr>\n",
       "    <tr>\n",
       "      <th>Starlight (feat. Myles Kennedy)</th>\n",
       "      <td>0</td>\n",
       "      <td>2</td>\n",
       "    </tr>\n",
       "    <tr>\n",
       "      <th>Love Shack</th>\n",
       "      <td>5</td>\n",
       "      <td>2</td>\n",
       "    </tr>\n",
       "    <tr>\n",
       "      <th>...</th>\n",
       "      <td>...</td>\n",
       "      <td>...</td>\n",
       "    </tr>\n",
       "    <tr>\n",
       "      <th>Lady Picture Show</th>\n",
       "      <td>4</td>\n",
       "      <td>2</td>\n",
       "    </tr>\n",
       "    <tr>\n",
       "      <th>Cherub Rock - Remastered 2011</th>\n",
       "      <td>9</td>\n",
       "      <td>7</td>\n",
       "    </tr>\n",
       "    <tr>\n",
       "      <th>Suite: Judy Blue Eyes - 2005 Remaster</th>\n",
       "      <td>9</td>\n",
       "      <td>9</td>\n",
       "    </tr>\n",
       "    <tr>\n",
       "      <th>Open My Eyes</th>\n",
       "      <td>9</td>\n",
       "      <td>9</td>\n",
       "    </tr>\n",
       "    <tr>\n",
       "      <th>Miss Misery (Early Version)</th>\n",
       "      <td>3</td>\n",
       "      <td>3</td>\n",
       "    </tr>\n",
       "  </tbody>\n",
       "</table>\n",
       "<p>1097 rows × 2 columns</p>\n",
       "</div>"
      ],
      "text/plain": [
       "                                                    actual  predicted\n",
       "name                                                                 \n",
       "(Rock) Superstar                                        10          7\n",
       "DOWN                                                     5          9\n",
       "Uncle Albert / Admiral Halsey - Medley / Remast...       7          7\n",
       "Starlight (feat. Myles Kennedy)                          0          2\n",
       "Love Shack                                               5          2\n",
       "...                                                    ...        ...\n",
       "Lady Picture Show                                        4          2\n",
       "Cherub Rock - Remastered 2011                            9          7\n",
       "Suite: Judy Blue Eyes - 2005 Remaster                    9          9\n",
       "Open My Eyes                                             9          9\n",
       "Miss Misery (Early Version)                              3          3\n",
       "\n",
       "[1097 rows x 2 columns]"
      ]
     },
     "execution_count": 21,
     "metadata": {},
     "output_type": "execute_result"
    }
   ],
   "source": [
    "result_df = pd.DataFrame({\"actual\":testY.key,\"predicted\":predicted})\n",
    "result_df"
   ]
  },
  {
   "cell_type": "code",
   "execution_count": 22,
   "id": "8f0fc93a",
   "metadata": {},
   "outputs": [
    {
     "data": {
      "text/html": [
       "<div>\n",
       "<style scoped>\n",
       "    .dataframe tbody tr th:only-of-type {\n",
       "        vertical-align: middle;\n",
       "    }\n",
       "\n",
       "    .dataframe tbody tr th {\n",
       "        vertical-align: top;\n",
       "    }\n",
       "\n",
       "    .dataframe thead th {\n",
       "        text-align: right;\n",
       "    }\n",
       "</style>\n",
       "<table border=\"1\" class=\"dataframe\">\n",
       "  <thead>\n",
       "    <tr style=\"text-align: right;\">\n",
       "      <th>Predicted</th>\n",
       "      <th>0</th>\n",
       "      <th>1</th>\n",
       "      <th>2</th>\n",
       "      <th>3</th>\n",
       "      <th>4</th>\n",
       "      <th>5</th>\n",
       "      <th>6</th>\n",
       "      <th>7</th>\n",
       "      <th>8</th>\n",
       "      <th>9</th>\n",
       "      <th>10</th>\n",
       "      <th>11</th>\n",
       "    </tr>\n",
       "    <tr>\n",
       "      <th>Actual</th>\n",
       "      <th></th>\n",
       "      <th></th>\n",
       "      <th></th>\n",
       "      <th></th>\n",
       "      <th></th>\n",
       "      <th></th>\n",
       "      <th></th>\n",
       "      <th></th>\n",
       "      <th></th>\n",
       "      <th></th>\n",
       "      <th></th>\n",
       "      <th></th>\n",
       "    </tr>\n",
       "  </thead>\n",
       "  <tbody>\n",
       "    <tr>\n",
       "      <th>0</th>\n",
       "      <td>9</td>\n",
       "      <td>4</td>\n",
       "      <td>36</td>\n",
       "      <td>0</td>\n",
       "      <td>3</td>\n",
       "      <td>5</td>\n",
       "      <td>0</td>\n",
       "      <td>43</td>\n",
       "      <td>0</td>\n",
       "      <td>28</td>\n",
       "      <td>1</td>\n",
       "      <td>9</td>\n",
       "    </tr>\n",
       "    <tr>\n",
       "      <th>1</th>\n",
       "      <td>9</td>\n",
       "      <td>4</td>\n",
       "      <td>17</td>\n",
       "      <td>0</td>\n",
       "      <td>3</td>\n",
       "      <td>1</td>\n",
       "      <td>0</td>\n",
       "      <td>15</td>\n",
       "      <td>0</td>\n",
       "      <td>24</td>\n",
       "      <td>1</td>\n",
       "      <td>4</td>\n",
       "    </tr>\n",
       "    <tr>\n",
       "      <th>2</th>\n",
       "      <td>16</td>\n",
       "      <td>11</td>\n",
       "      <td>38</td>\n",
       "      <td>3</td>\n",
       "      <td>3</td>\n",
       "      <td>1</td>\n",
       "      <td>0</td>\n",
       "      <td>42</td>\n",
       "      <td>0</td>\n",
       "      <td>37</td>\n",
       "      <td>0</td>\n",
       "      <td>6</td>\n",
       "    </tr>\n",
       "    <tr>\n",
       "      <th>3</th>\n",
       "      <td>8</td>\n",
       "      <td>1</td>\n",
       "      <td>3</td>\n",
       "      <td>2</td>\n",
       "      <td>2</td>\n",
       "      <td>2</td>\n",
       "      <td>0</td>\n",
       "      <td>6</td>\n",
       "      <td>0</td>\n",
       "      <td>3</td>\n",
       "      <td>1</td>\n",
       "      <td>1</td>\n",
       "    </tr>\n",
       "    <tr>\n",
       "      <th>4</th>\n",
       "      <td>11</td>\n",
       "      <td>8</td>\n",
       "      <td>26</td>\n",
       "      <td>1</td>\n",
       "      <td>3</td>\n",
       "      <td>2</td>\n",
       "      <td>0</td>\n",
       "      <td>24</td>\n",
       "      <td>0</td>\n",
       "      <td>24</td>\n",
       "      <td>2</td>\n",
       "      <td>5</td>\n",
       "    </tr>\n",
       "    <tr>\n",
       "      <th>5</th>\n",
       "      <td>9</td>\n",
       "      <td>6</td>\n",
       "      <td>15</td>\n",
       "      <td>0</td>\n",
       "      <td>2</td>\n",
       "      <td>3</td>\n",
       "      <td>1</td>\n",
       "      <td>16</td>\n",
       "      <td>1</td>\n",
       "      <td>17</td>\n",
       "      <td>0</td>\n",
       "      <td>10</td>\n",
       "    </tr>\n",
       "    <tr>\n",
       "      <th>6</th>\n",
       "      <td>5</td>\n",
       "      <td>6</td>\n",
       "      <td>16</td>\n",
       "      <td>0</td>\n",
       "      <td>3</td>\n",
       "      <td>0</td>\n",
       "      <td>0</td>\n",
       "      <td>18</td>\n",
       "      <td>1</td>\n",
       "      <td>11</td>\n",
       "      <td>0</td>\n",
       "      <td>4</td>\n",
       "    </tr>\n",
       "    <tr>\n",
       "      <th>7</th>\n",
       "      <td>16</td>\n",
       "      <td>8</td>\n",
       "      <td>32</td>\n",
       "      <td>0</td>\n",
       "      <td>7</td>\n",
       "      <td>2</td>\n",
       "      <td>0</td>\n",
       "      <td>39</td>\n",
       "      <td>1</td>\n",
       "      <td>16</td>\n",
       "      <td>2</td>\n",
       "      <td>5</td>\n",
       "    </tr>\n",
       "    <tr>\n",
       "      <th>8</th>\n",
       "      <td>5</td>\n",
       "      <td>4</td>\n",
       "      <td>10</td>\n",
       "      <td>0</td>\n",
       "      <td>1</td>\n",
       "      <td>1</td>\n",
       "      <td>0</td>\n",
       "      <td>12</td>\n",
       "      <td>0</td>\n",
       "      <td>7</td>\n",
       "      <td>2</td>\n",
       "      <td>7</td>\n",
       "    </tr>\n",
       "    <tr>\n",
       "      <th>9</th>\n",
       "      <td>17</td>\n",
       "      <td>10</td>\n",
       "      <td>37</td>\n",
       "      <td>0</td>\n",
       "      <td>3</td>\n",
       "      <td>3</td>\n",
       "      <td>0</td>\n",
       "      <td>34</td>\n",
       "      <td>1</td>\n",
       "      <td>35</td>\n",
       "      <td>1</td>\n",
       "      <td>5</td>\n",
       "    </tr>\n",
       "    <tr>\n",
       "      <th>10</th>\n",
       "      <td>2</td>\n",
       "      <td>4</td>\n",
       "      <td>12</td>\n",
       "      <td>0</td>\n",
       "      <td>0</td>\n",
       "      <td>1</td>\n",
       "      <td>0</td>\n",
       "      <td>10</td>\n",
       "      <td>0</td>\n",
       "      <td>7</td>\n",
       "      <td>3</td>\n",
       "      <td>5</td>\n",
       "    </tr>\n",
       "    <tr>\n",
       "      <th>11</th>\n",
       "      <td>6</td>\n",
       "      <td>3</td>\n",
       "      <td>20</td>\n",
       "      <td>1</td>\n",
       "      <td>1</td>\n",
       "      <td>1</td>\n",
       "      <td>0</td>\n",
       "      <td>17</td>\n",
       "      <td>1</td>\n",
       "      <td>20</td>\n",
       "      <td>2</td>\n",
       "      <td>6</td>\n",
       "    </tr>\n",
       "  </tbody>\n",
       "</table>\n",
       "</div>"
      ],
      "text/plain": [
       "Predicted  0   1   2   3   4   5   6   7   8   9   10  11\n",
       "Actual                                                   \n",
       "0           9   4  36   0   3   5   0  43   0  28   1   9\n",
       "1           9   4  17   0   3   1   0  15   0  24   1   4\n",
       "2          16  11  38   3   3   1   0  42   0  37   0   6\n",
       "3           8   1   3   2   2   2   0   6   0   3   1   1\n",
       "4          11   8  26   1   3   2   0  24   0  24   2   5\n",
       "5           9   6  15   0   2   3   1  16   1  17   0  10\n",
       "6           5   6  16   0   3   0   0  18   1  11   0   4\n",
       "7          16   8  32   0   7   2   0  39   1  16   2   5\n",
       "8           5   4  10   0   1   1   0  12   0   7   2   7\n",
       "9          17  10  37   0   3   3   0  34   1  35   1   5\n",
       "10          2   4  12   0   0   1   0  10   0   7   3   5\n",
       "11          6   3  20   1   1   1   0  17   1  20   2   6"
      ]
     },
     "execution_count": 22,
     "metadata": {},
     "output_type": "execute_result"
    }
   ],
   "source": [
    "confusion_matrix = pd.crosstab(result_df['actual'], result_df['predicted'], rownames=['Actual'], colnames=['Predicted'])\n",
    "confusion_matrix"
   ]
  },
  {
   "cell_type": "code",
   "execution_count": 23,
   "id": "a4348f20",
   "metadata": {},
   "outputs": [
    {
     "data": {
      "image/png": "[encoded data removed]",
      "text/plain": [
       "<Figure size 1440x1440 with 2 Axes>"
      ]
     },
     "metadata": {
      "needs_background": "light"
     },
     "output_type": "display_data"
    }
   ],
   "source": [
    "fig = plt.figure(figsize=(20,20))\n",
    "sn.heatmap(confusion_matrix, annot=True)\n",
    "plt.show()"
   ]
  },
  {
   "cell_type": "code",
   "execution_count": 24,
   "id": "11187cd0",
   "metadata": {},
   "outputs": [
    {
     "data": {
      "text/plain": [
       "0.12944393801276208"
      ]
     },
     "execution_count": 24,
     "metadata": {},
     "output_type": "execute_result"
    }
   ],
   "source": [
    "accuracy_score(result_df['actual'], result_df['predicted'])"
   ]
  },
  {
   "cell_type": "code",
   "execution_count": 53,
   "id": "7319a099",
   "metadata": {},
   "outputs": [
    {
     "name": "stdout",
     "output_type": "stream",
     "text": [
      "[0, 0, 0, 0, 0, 0, 0, 0, 0, 0, 0, 0, 0, 0, 0, 0, 0, 0, 0, 0, 0, 0, 0, 0, 0, 0, 0, 0, 0, 0, 0, 0, 0, 0, 0, 0, 0, 0, 0, 0, 0, 0, 0, 0, 0, 0, 0, 0, 0, 0, 0, 0, 0, 0, 0, 0, 0, 0, 0, 0, 0, 0, 0, 0, 0, 0, 0, 0, 0, 0, 0, 0, 0, 0, 0, 0, 0, 0, 0, 0, 0, 0, 0, 0, 0, 0, 0, 0, 0, 0, 0, 0, 0, 0, 0, 0, 0, 0, 0, 0, 0, 0, 0, 0, 0, 0, 0, 0, 0, 0, 0, 0, 0, 0, 0, 0, 0, 0, 0, 0, 0, 0, 0, 0, 0, 0, 0, 0, 0, 0, 0, 0, 0, 0, 0, 0, 0, 0, 0, 0, 0, 0, 0, 0, 0, 0, 0, 0, 0, 0, 0, 0, 0, 0, 0, 0, 0, 0, 0, 0, 0, 0, 0, 0, 0, 0, 0, 0, 0, 0, 0, 0, 0, 0, 0, 0, 0, 0, 0, 0, 0, 0, 0, 0, 0, 0, 0, 0, 0, 0, 0, 0, 0, 0, 0, 0, 0, 0, 0, 0, 0, 0, 0, 0, 0, 0, 0, 0, 0, 0, 0, 0, 0, 0, 0, 0, 0, 0, 0, 0, 0, 0, 0, 0, 0, 0, 0, 0, 0, 0, 0, 0, 0, 0, 0, 0, 0, 0, 0, 0, 0, 0, 0, 0, 0, 0, 0, 0, 0, 0, 0, 0, 0, 0, 0, 0, 0, 0, 0, 0, 0, 0, 0, 0, 0, 0, 0, 0, 0, 0, 0, 0, 0, 0, 0, 0, 0, 0, 0, 0, 0, 0, 0, 0, 0, 0, 0, 0, 0, 0, 0, 0, 0, 0, 0, 0, 0, 0, 0, 0, 0, 0, 0, 0, 0, 0, 0, 0, 0, 0, 0, 0, 0, 0, 0, 0, 0, 0, 0, 0, 0, 0, 0, 0, 0, 0, 0, 0, 0, 0, 0, 0, 0, 0, 0, 0, 0, 0, 0, 0, 0, 0, 0, 0, 0, 0, 0, 0, 0, 0, 0, 0, 0, 0, 0, 0, 0, 0, 0, 0, 0, 0, 0, 0, 0, 0, 0, 0, 0, 0, 0, 0, 0, 0, 0, 0, 0, 0, 0, 0, 0, 0, 0, 0, 0, 0, 0, 0, 0, 0, 0, 0, 0, 0, 0, 0, 0, 0, 0, 0, 0, 0, 0, 0, 0, 0, 0, 0, 0, 0, 0, 0, 0, 0, 0, 0, 0, 0, 0, 0, 0, 0, 0, 0, 0, 0, 0, 0, 0, 0, 0, 0, 0, 0, 0, 0, 0, 0, 0, 0, 0, 0, 0, 0, 0, 0, 0, 0, 0, 0, 0, 0, 0, 0, 0, 0, 0, 0, 0, 0, 0, 0, 0, 0, 0, 0, 0, 0, 0, 0, 0, 0, 0, 0, 0, 0, 0, 0, 0, 0, 0, 0, 0, 0, 0, 0, 0, 0, 0, 0, 0, 0, 0, 0, 0, 0, 0, 0, 0, 0, 0, 0, 0, 0, 0, 0, 0, 0, 0, 0, 0, 0, 0, 0, 0, 0, 0, 0, 0, 0, 0, 0, 0, 0, 0, 0, 0, 0, 0, 0, 0, 0, 0, 0, 0, 0, 0, 0, 0, 0, 0, 0, 0, 0, 0, 0, 0, 0, 0, 0, 0, 0, 0, 0, 0, 0, 0, 0, 0, 0, 0, 0, 0, 0, 0, 0, 0, 0, 0, 0, 0, 0, 0, 0, 0, 0, 0, 0, 0, 0, 0, 0, 0, 0, 0, 0, 0, 0, 0, 0, 0, 0, 0, 0, 0, 0, 0, 0, 0, 0, 0, 0, 0, 0, 0, 0, 0, 0, 0, 0, 0, 0, 0, 0, 0, 0, 0, 0, 0, 0, 0, 0, 0, 0, 0, 0, 0, 0, 0, 0, 0, 0, 0, 0, 0, 0, 0, 0, 0, 0, 0, 0, 0, 0, 0, 0, 0, 0, 0, 0, 0, 0, 0, 0, 0, 0, 0, 0, 0, 0, 0, 0, 0, 0, 0, 0, 0, 0, 0, 0, 0, 0, 0, 0, 0, 0, 0, 0, 0, 0, 0, 0, 0, 0, 0, 0, 0, 0, 0, 0, 0, 0, 0, 0, 0, 0, 0, 0, 0, 0, 0, 0, 0, 0, 0, 0, 0, 0, 0, 0, 0, 0, 0, 0, 0, 0, 0, 0, 0, 0, 0, 0, 0, 0, 0, 0, 0, 0, 0, 0, 0, 0, 0, 0, 0, 0, 0, 0, 0, 0, 0, 0, 0, 0, 0, 0, 0, 0, 0, 0, 0, 0, 0, 0, 0, 0, 0, 0, 0, 0, 0, 0, 0, 0, 0, 0, 0, 0, 0, 0, 0, 0, 0, 0, 0, 0, 0, 0, 0, 0, 0, 0, 0, 0, 0, 0, 0, 0, 0, 0, 0, 0, 0, 0, 0, 0, 0, 0, 0, 0, 0, 0, 0, 0, 0, 0, 0, 0, 0, 0, 0, 0, 0, 0, 0, 0, 0, 0, 0, 0, 0, 0, 0, 0, 0, 0, 0, 0, 0, 0, 0, 0, 0, 0, 0, 0, 0, 0, 0, 0, 0, 0, 0, 0, 0, 0, 0, 0, 0, 0, 0, 0, 0, 0, 0, 0, 0, 0, 0, 0, 0, 0, 0, 0, 0, 0, 0, 0, 0, 0, 0, 0, 0, 0, 0, 0, 0, 0, 0, 0, 0, 0, 0, 0, 0, 0, 0, 0, 0, 0, 0, 0, 0, 0, 0, 0, 0, 0, 0, 0, 0, 0, 0, 0, 0, 0, 0, 0, 0, 0, 0, 0, 0, 0, 0, 0, 0, 0, 0, 0, 0, 0, 0, 0, 0, 0, 0, 0, 0, 0, 0, 0, 0, 0, 0, 0, 0, 0, 0, 0, 0, 0, 0, 0, 0, 0, 0, 0, 0, 0, 0, 0, 0, 0, 0, 0, 0, 0, 0, 0, 0, 0, 0, 0, 0, 0, 0, 0, 0, 0, 0, 0, 0, 0, 0, 0, 0, 0, 0, 0, 0, 0, 0, 0, 0, 0, 0, 0, 0, 0, 0, 0, 0, 0, 0, 0, 0, 0, 0, 0, 0, 0, 0, 0, 0, 0, 0, 0, 0, 0, 0, 0, 0, 0, 0, 0, 0, 0, 0, 0, 0, 0, 0, 0, 0, 0, 0, 0, 0, 0, 0, 0, 0, 0, 0, 0, 0, 0, 0, 0, 0, 0, 0, 0, 0, 0, 0, 0, 0, 0, 0, 0, 0, 0, 0, 0, 0, 0, 0, 0, 0, 0, 0, 0, 0, 0, 0, 0, 0, 0, 0, 0, 0, 0, 0, 0, 0, 0, 0, 0, 0, 0, 0, 0, 0, 0, 0, 0, 0, 0, 0, 0, 0, 0, 0, 0, 0, 0, 0, 0, 0, 0, 0, 0, 0, 0, 0, 0, 0, 0, 0, 0, 0, 0, 0, 0, 0, 0, 0, 0, 0, 0, 0, 0, 0, 0, 0, 0, 0, 0, 0, 0, 0, 0, 0, 0, 0, 0, 0, 0, 0, 0, 0, 0, 0, 0, 0, 0, 0, 0, 0, 0, 0, 0, 0, 0, 0, 0, 0, 0, 0, 0, 0, 0, 0, 0, 0, 0, 0, 0, 0, 0, 0, 0, 0, 0, 0, 0, 0, 0, 0, 0, 0, 0, 0, 0, 0, 0, 0, 0, 0, 0, 0, 0, 0, 0, 0, 0, 0, 0, 0, 0, 0, 0, 0, 0, 0, 0, 0, 0, 0, 0, 0, 0, 0, 0, 0, 0, 0, 0, 0, 0, 0, 0, 0, 0, 0, 0, 0, 0, 0, 0, 0, 0, 0, 0, 0, 0, 0, 0, 0, 0, 0, 0, 0, 0, 0, 0, 0, 0, 0, 0, 0, 0, 0, 0, 0, 0, 0, 0, 0, 0, 0, 0, 0, 0, 0, 0, 0, 0, 0, 0, 0, 0, 0, 0, 0, 0, 0, 0, 0, 0, 0, 0, 0, 0, 0, 0, 0, 0, 0, 0, 0, 0, 0, 0, 0, 0, 0, 0, 0, 0, 0, 0, 0, 0, 0, 0, 0, 0, 0, 0, 0, 0, 0, 0, 0, 0, 0, 0, 0, 0, 0, 0, 0, 0, 0, 0, 0, 0, 0, 0, 0, 0, 0, 0, 0, 0, 0, 0, 0, 0, 0, 0, 0, 0, 0, 0, 0, 0, 0, 0, 0, 0, 0, 0, 0, 0, 0, 0, 0, 0, 0, 0, 0, 0, 0, 0, 0, 0, 0, 0, 0, 0, 0, 0, 0, 0, 0, 0, 0, 0, 0, 0, 0, 0, 0, 0, 0, 0, 0, 0, 0, 0, 0, 0, 0, 0, 0, 0, 0, 0, 0, 0, 0, 0, 0, 0, 0, 0, 0, 0, 0, 0, 0, 0, 0, 0, 0, 0, 0, 0, 0, 0, 0, 0, 0, 3, 0, 0, 0, 0, 0, 0, 0, 0, 0, 0, 0, 0, 0, 0, 0, 0, 0, 0, 0, 0, 0, 0, 0, 0, 0, 0, 0, 0, 0, 0, 0, 0, 0, 0, 0, 0, 0, 0, 0, 0, 0, 0, 0, 0, 0, 0, 0, 0, 0, 0, 0, 0, 0, 0, 0, 0, 0, 0, 0, 0, 0, 0, 0, 0, 0, 0, 0, 0, 0, 0, 0, 0, 0, 0, 0, 0, 0, 0, 0, 0, 0, 0, 0, 0, 0, 0, 0, 0, 0, 0, 0, 0, 0, 0, 0, 0, 0, 0, 0, 0, 0, 0, 0, 0, 0, 0, 0, 0, 0, 0, 0, 0, 0, 0, 0, 0, 0, 0, 0, 0, 0, 0, 0, 0, 0, 0, 0, 0, 0, 0, 0, 0, 0, 0, 0, 0, 0, 0, 0, 0, 0, 0, 0, 0, 0, 0, 0, 0, 0, 0, 0, 0, 0, 0, 0, 0, 0, 0, 0, 0, 0, 0, 0, 0, 0, 0, 0, 0, 0, 0, 0, 0, 0, 0, 0, 0, 0, 0, 0, 0, 0, 0, 0, 0, 0, 0, 0, 0, 0, 0, 0, 0, 0, 0, 0, 0, 0, 0, 0, 0, 0, 0, 0, 0, 0, 0, 0, 0, 0, 0, 0, 0, 0, 0, 0, 0, 0, 0, 0, 0, 0, 0, 0, 0, 0, 0, 0, 0, 0, 0, 0, 0, 0, 0, 0, 0, 0, 0, 0, 0, 0, 0, 0, 0, 0, 0, 0, 0, 0, 0, 0, 0, 0, 0, 0, 0, 0, 0, 0, 0, 0, 0, 0, 0, 0, 0, 0, 0, 0, 0, 0, 0, 0, 0, 0, 0, 0, 0, 0, 0, 0, 0, 0, 0, 0, 0, 0, 0, 0, 0, 0, 0, 0, 0, 0, 0, 0, 0, 0, 0, 0, 0, 0, 0, 0, 0, 0, 0, 0, 0, 0, 0, 0, 0, 0, 0, 0, 0, 0, 0, 0, 0, 0, 0, 0, 0, 0, 0, 0, 0, 0, 0, 0, 0, 0, 0, 0, 0, 0, 0, 0, 0, 0, 0, 0, 0, 0, 0, 0, 0, 0, 0, 0, 0, 0, 0, 0, 0, 0, 0, 0, 0, 0, 0, 0, 0, 0, 0, 0, 0, 0, 0, 0, 0, 0, 0, 0, 0, 0, 0, 0, 0, 0, 0, 0, 0, 0, 0, 0, 0, 0, 0, 0, 0, 0, 0, 0, 0, 0, 0, 0, 0, 0, 0, 0, 0, 0, 0, 0, 0, 0, 0, 0, 0, 0, 0, 0, 0, 0, 0, 0, 0, 0, 0, 0, 0, 0, 0, 0, 0, 0, 0, 0, 0, 0, 0, 0, 0, 0, 0, 0, 0, 0, 0, 0, 0, 0, 0, 0, 0, 0, 0, 0, 0, 0, 0, 0, 0, 0, 0, 0, 0, 0, 0, 0, 0, 0, 0, 0, 0, 0, 0, 0, 0, 0, 0, 0, 0, 0, 0, 0, 0, 0, 0, 0, 0, 0, 0, 0, 0, 0, 0, 0, 0, 0, 0, 0, 0, 0, 0, 0, 0, 0, 0, 0, 0, 0, 0, 0, 0, 0, 0, 0, 0, 0, 0, 0, 0, 0, 0, 0, 0, 0, 0, 0, 0, 0, 0, 0, 0, 0, 0, 0, 0, 0, 0, 0, 0, 0, 0, 0, 0, 0, 0, 0, 0, 0, 0, 0, 0, 0, 0, 0, 0, 0, 0, 0, 0, 0, 0, 0, 0, 0, 0, 0, 0, 0, 0, 0, 0, 0, 0, 0, 0, 0, 0, 0, 0, 0, 0, 0, 0, 0, 0, 0, 0, 0, 0, 0, 0, 0, 0, 0, 0, 0, 0, 0, 0, 0, 0, 0, 0, 0, 0, 0, 0, 0, 0, 0, 0, 0, 0, 0, 0, 0, 0, 0, 0, 0, 0, 0, 0, 0, 0, 0, 0, 0, 0, 0, 0, 0, 0, 0, 0, 0, 0, 0, 0, 0, 0, 0, 0, 0, 0, 0, 0, 0, 0, 0, 0, 0, 0, 0, 0, 0, 0, 0, 0, 0, 0, 0, 0, 0, 0, 0, 0, 0, 0, 0, 0, 0, 0, 0, 0, 0, 0, 0, 0, 0, 0, 0, 0, 0, 0, 0, 0, 0, 0, 0, 0, 0, 0, 0, 0, 0, 0, 0, 0, 0, 0, 0, 0, 0, 0, 0, 0, 0, 0, 0, 0, 0, 0, 0, 0, 0, 0, 0, 0, 0, 0, 0, 0, 0, 0, 0, 0, 0, 0, 0, 0, 0, 0, 0, 0, 0, 0, 0, 0, 0, 0, 0, 0, 0, 0, 0, 0, 0, 0, 0, 0, 0, 0, 0, 0, 0, 0, 0, 0, 0, 0, 0, 0, 0, 0, 0, 0, 0, 0, 0, 0, 0, 0, 0, 0, 0, 0, 0, 0, 0, 0, 0, 0, 0, 0, 0, 0, 0, 0, 0, 0, 0, 0, 0, 0, 0, 0, 0, 0, 0, 0, 0, 0, 0, 0, 0, 0, 0, 0, 0, 0, 0, 0, 0, 0, 0, 0, 0, 0, 0, 0, 0, 0, 0, 0, 0, 0, 0, 0, 0, 0, 0, 0, 0, 0, 0, 0, 0, 0, 0, 0, 0, 0, 0, 0, 0, 0, 0, 0, 0, 0, 0, 0, 0, 0, 0, 0, 0, 0, 0, 0, 0, 0, 0, 0, 0, 0, 0, 0, 0, 0, 0, 0, 0, 0, 0, 0, 0, 0, 0, 0, 0, 0, 0, 0, 0, 0, 0, 0, 0, 0, 0, 0, 0, 0, 0, 0, 0, 0, 0, 0, 0, 0, 0, 0, 0, 0, 0, 0, 0, 0, 0, 0, 0, 0, 0, 0, 0, 0, 0, 0, 0, 0, 0, 0, 0, 0, 0, 0, 0, 0, 0, 0, 0, 0, 0, 0, 0, 0, 0, 0, 0, 0, 0, 0, 0, 0, 0, 0, 0, 0, 0, 0, 0, 0, 0, 0, 0, 0, 0, 0, 0, 0, 0, 0, 0, 0, 0, 0, 0, 0, 0, 0, 0, 0, 0, 0, 0, 0, 0, 0, 0, 0, 0, 0, 0, 0, 0, 0, 0, 0, 0, 0, 0, 0, 0, 0, 0, 0, 0, 0, 0, 0, 0, 0, 0, 0, 0, 0, 0, 0, 0, 0, 0, 0, 0, 0, 0, 0, 0, 0, 0, 0, 0, 0, 0, 0, 0, 0, 0, 0, 0, 0, 0, 0, 0, 0, 0, 0, 0, 0, 0, 0, 0, 0, 0, 0, 0, 0, 0, 0, 0, 0, 0, 0, 0, 0, 0, 0, 0, 0, 0, 0, 0, 0, 0, 0, 0, 0, 0, 0, 0, 0, 0, 0, 0, 0, 0, 0, 0, 0, 0, 0, 0, 0, 0, 0, 0, 0, 0, 0, 0, 0, 0, 0, 0, 0, 0, 0, 0, 0, 0, 0, 0, 0, 0, 0, 0, 0, 0, 0, 0, 0, 0, 0, 0, 0, 0, 0, 0, 0, 0, 0, 0, 0, 0, 0, 0, 0, 0, 0, 0, 0, 0, 0, 0, 0, 0, 0, 0, 0, 0, 0, 0, 0, 0, 0, 0, 0, 0, 0, 0, 0, 0, 0, 0, 0, 0, 0, 0, 0, 0, 0, 0, 0, 0, 0, 0, 0, 0, 0, 0, 0, 0, 0, 0, 0, 0, 0, 0, 0, 0, 0, 0, 0, 0, 0, 0, 0, 0, 0, 0, 0, 0, 0, 0, 0, 0, 0, 0, 0, 0, 0, 0, 0, 0, 0, 0, 0, 0, 0, 0, 0, 0, 0, 0, 0, 0, 0, 0, 0, 0, 0, 0, 0, 0, 0, 0, 0, 0, 0, 0, 0, 0, 0, 0, 0, 0, 0, 0, 0, 0, 0, 0, 0, 0, 0, 0, 0, 0, 0, 0, 0, 0, 0, 0, 0, 0, 0, 0, 0, 0, 0, 0, 0, 0, 0, 0, 0, 0, 0, 0, 0, 0, 0, 0, 0, 0, 0, 0, 0, 0, 0, 0, 0, 0, 0, 0, 0, 0, 0, 0, 0, 0, 0, 0, 0, 0, 0, 0, 0, 0, 0, 0, 0, 0, 0, 0, 0, 0, 0, 0, 0, 0, 0, 0, 0, 0, 0, 0, 0, 0, 0, 0, 0, 0, 0, 0, 0, 0, 0, 0, 0, 0, 0, 0, 0, 0, 0, 0, 0, 0, 0, 0, 0, 0, 0, 0, 0, 0, 0, 0, 0, 0, 0, 0, 0, 0, 0, 0, 0, 0, 0, 0, 0, 0, 0, 0, 0, 0, 0, 0, 0, 0, 0, 0, 0, 0, 0, 0, 0, 0, 0, 0, 0, 0, 0, 0, 0, 0, 0, 0, 0, 0, 0, 0, 0, 0, 0, 0, 0, 0, 0, 0, 0, 0, 0, 0, 0, 0, 0, 0, 0, 0, 0, 0, 0, 0, 0, 0, 0, 0, 0, 0, 0, 0, 0, 0, 0, 0, 0, 0, 0, 0, 0, 0, 0, 0, 0, 0, 0, 0, 0, 0, 0, 0, 0, 0, 0, 0, 0, 0, 0, 0, 0, 0, 0, 0, 0, 0, 0, 0, 0, 0, 0, 0, 0, 0, 0, 0, 0, 0, 0, 0, 0, 0, 0, 0, 0, 0, 0, 0, 0, 0, 0, 0, 0, 0, 0, 0, 0, 0, 0, 0, 0, 0, 0, 0, 0, 0, 0, 0, 0, 0, 0, 0, 0, 0, 0, 0, 0, 0, 0, 0, 0, 0, 0, 0, 0, 0, 0, 0, 0, 0, 0, 0, 0, 0, 0, 0, 0, 0, 0, 0, 0, 0, 0, 0, 0, 0, 0, 0, 0, 0, 0, 0, 0, 0, 0, 0, 0, 0, 0, 0, 0, 0, 0, 0, 0, 0, 0, 0, 0, 0, 0, 0, 0, 0, 0, 0, 0, 0, 0, 0, 0, 0, 0, 0, 0, 0, 0, 0, 0, 0, 0, 0, 0, 0, 0, 0, 0, 0, 0, 0, 0, 0, 0, 0, 0, 0, 0, 0, 0, 0, 0, 0, 0, 0, 0, 0, 0, 0, 0, 0, 0, 0, 0, 0, 0, 0, 0, 0, 0, 0, 0, 0, 0, 0, 0, 0, 0, 0, 0, 0, 0, 0, 0, 0, 0, 0, 0, 0, 0, 0, 0, 0, 0, 0, 0, 0, 0, 0, 0, 0, 0, 0, 0, 0, 0, 0, 0, 0, 0, 0, 0, 0, 0, 0, 0, 0, 0, 0, 0, 0, 0, 0, 0, 0, 0, 0, 0, 0, 0, 0, 0, 0, 0, 0, 0, 0, 0, 0, 0, 0, 0, 0, 0, 0, 0, 0, 0, 0, 0, 0, 0, 0, 0, 0, 0, 0, 0, 0, 0, 0, 0, 0, 0, 0, 0, 0, 0, 0, 0, 0, 0, 0, 0, 0, 0, 0, 0, 0, 0, 0, 0, 0, 0, 0, 0, 0, 0, 0, 0, 0, 0, 0, 0, 0, 0, 0, 0, 0, 0, 0, 0, 0, 0, 0, 0, 0, 0, 0, 0, 0, 0, 0, 0, 0, 0, 0, 0, 0, 0, 0, 0, 0, 0, 0, 0, 0, 0, 0, 0, 0, 0, 0, 0, 0, 0, 0, 0, 0, 0, 0, 0, 0, 0, 0, 0, 0, 0, 0, 0, 0, 0, 0, 0, 0, 0, 0, 0, 0, 0, 0, 0, 0, 0, 0, 0, 0, 0, 0, 0, 0, 0, 0, 0, 0, 0, 0, 0, 0, 0, 0, 0, 0, 0, 0, 0, 0, 0, 0, 0, 0, 0, 0, 0, 0, 0, 0, 0, 0, 0, 0, 0, 0, 0, 0, 0, 0, 0, 0, 0, 0, 0, 0, 0, 0, 0, 0, 0, 0, 0, 0, 0, 0, 0, 0, 0, 0, 0, 0, 0, 0, 0, 0, 0, 0, 0, 0, 0, 0, 0, 0, 0, 0, 0, 0, 0, 0, 0, 0, 0, 0, 0, 0, 0, 0, 0, 0, 0, 0, 0, 0, 0, 0, 0, 0, 0, 0, 0, 0, 0, 0, 0, 0, 0, 0, 0, 0, 0, 0, 0, 0, 0, 0, 0, 0, 0, 0, 0, 0, 0, 0, 0, 0, 0, 0, 0, 0, 0, 0, 0, 0, 0, 0, 0, 0, 0, 0, 0, 0, 0, 0, 0, 0, 0, 0, 0, 0, 0, 0, 0, 0, 0, 0, 0, 0, 0, 0, 0, 0, 0, 0, 0, 0, 0, 0, 0, 0, 0, 0, 0, 0, 0, 0, 0, 0, 0, 0, 0, 0, 0, 0, 0, 0, 0, 0, 0, 0, 0, 0, 0, 0, 0, 0, 0, 0, 0, 0, 0, 0, 0, 0, 0, 0, 0, 0, 0, 0, 0, 0, 0, 0, 0, 0, 0, 0, 0, 0, 0, 0, 0, 0, 0, 0, 0, 0, 0, 0, 0, 0, 0, 0, 0, 0, 0, 0, 0, 0, 0, 0, 0, 0, 0, 0, 0, 0, 0, 0, 0, 0, 0, 0, 0, 0, 0, 0, 0, 0, 0, 0, 0, 0, 0, 0, 0, 0, 0, 0, 0, 0, 0, 0, 0, 0, 0, 0, 0, 0, 0, 0, 0, 0, 0, 0, 0, 0, 0, 0, 0, 0, 0, 0, 0, 0, 0, 0, 0, 0, 0, 0, 0, 0, 0, 0, 0, 0, 0, 0, 0, 0, 0, 0, 0, 0, 0, 0, 0, 0, 0, 0, 0, 0, 0, 0, 0, 0, 0, 0, 0, 0, 0, 0, 0, 0, 0, 0, 0, 0, 0, 0, 0, 0, 0, 0, 0, 0, 0, 0, 0, 0, 0, 0, 0, 0, 0, 0, 0, 0, 0, 0, 0, 0, 0, 0, 0, 0, 0, 0, 0, 0, 0, 0, 0, 0, 0, 0, 0, 0, 0, 0, 0, 0, 0, 0, 0, 0, 0, 0, 0, 0, 0, 0, 0, 0, 0, 0, 0, 0, 0, 0, 0, 0, 0, 0, 0, 0, 0, 0, 0, 0, 0, 0, 0, 0, 0, 0, 0, 0, 0, 0, 0, 0, 0, 0, 0, 0, 0, 0, 0, 0, 0, 0, 0, 0, 0, 0, 0, 0, 0, 0, 0, 0, 0, 0, 0, 0, 0, 0, 0, 0, 0, 0, 0, 0, 0, 0, 0, 0, 0, 0, 0, 0, 0, 0, 0, 0, 0, 0, 0, 0, 0, 0, 0, 0, 0, 0, 0, 0, 0, 0, 0, 0, 0, 0, 0, 0, 0, 0, 0, 0, 0, 0, 0, 0, 0, 0, 0, 0, 0, 0, 0, 0, 0, 0, 0, 0, 0, 0, 0, 0, 0, 0, 0, 0, 0, 0, 0, 0, 0, 0, 0, 0, 0, 0, 0, 0, 0, 0, 0, 0, 0, 0, 0, 0, 0, 0, 0, 0, 0, 0, 0, 0, 0, 0, 0, 0, 0, 0, 0, 0, 0, 0, 0, 0, 0, 0, 0, 0, 0, 0, 0, 0, 0, 0, 0, 0, 0, 0, 0, 0, 0, 0, 0, 0, 0, 0, 0, 0, 0, 0, 0, 0, 0, 0, 0, 0, 0, 0, 0, 0, 0, 0, 0, 0, 0, 0, 0, 0, 0, 0, 0, 0, 0, 0, 0, 0, 0, 0, 0, 0, 0, 0, 0, 0, 0, 0, 0, 0, 0, 0, 0, 0, 0, 0, 0, 0, 0, 0, 0, 0, 0, 0, 0, 0, 0, 0, 0, 0, 0, 0, 0, 0, 0, 0, 0, 0, 0, 0, 0, 0, 0, 0, 0, 0, 0, 0, 0, 0, 0, 0, 0, 0, 0, 0, 0, 0, 0, 0, 0, 0, 0, 0, 0, 0, 0, 0, 0, 0, 0, 0, 0, 0, 0, 0, 0, 0, 0, 0, 0, 0, 0, 0, 0, 0, 0, 0, 0, 0, 0, 0, 0, 0, 0, 0, 0, 0, 0, 0, 0, 0, 0, 0, 0, 0, 0, 0, 0, 0, 0, 0, 0, 0, 0, 0, 0, 0, 0, 0, 0, 0, 0, 0, 0, 0, 0, 0, 0, 0, 0, 0, 0, 0, 0, 0, 0, 0, 0, 0, 0, 0, 0, 0, 0, 0, 0, 0, 0, 0, 0, 0, 0, 0, 0, 0, 0, 0, 0, 0, 0, 0, 0, 0, 0, 0, 0, 0, 0, 0, 0, 0, 0, 0, 0, 0, 0, 0, 0, 0, 0, 0, 0, 0, 0, 0, 0, 0, 0, 0, 0, 0, 0, 0, 0, 0, 0, 0, 0, 0, 0, 0, 0, 0, 0, 0, 0, 0, 0, 0, 0, 0, 0, 0, 0, 0, 0, 0, 0, 0, 0, 0, 0, 0, 0, 0, 0, 0, 0, 0, 0, 0, 0, 0, 0, 0, 0, 0, 0, 0, 0, 0, 0, 0, 0, 0, 0, 0, 0, 0, 0, 0, 0, 0, 0, 0, 0, 0, 0, 0, 0, 0, 0, 0, 0, 0, 0, 0, 0, 0, 0, 0, 0, 0, 0, 0, 0, 0, 0, 0, 0, 0, 0, 0, 0, 0, 0, 0, 0, 0, 0, 0, 0, 0, 0, 0, 0, 0, 0, 0, 0, 0, 0, 0, 0, 0, 0, 0, 0, 0, 0, 0, 0, 0, 0, 0, 0, 0, 0, 0, 0, 0, 0, 0, 0, 0, 0, 0, 0, 0, 0, 0, 0, 0, 0, 0, 0, 0, 0, 0, 0, 0, 0, 0, 0, 0, 0, 0, 0, 0, 0, 0, 0, 0, 0, 0, 0, 0, 0, 0, 0, 0, 0, 0, 0, 0, 0, 0, 0, 0, 0, 0, 0, 0, 0, 0, 0, 0, 0, 0, 0, 0, 0, 0, 0, 0, 0, 0, 0, 0, 0, 0, 0, 0, 0, 0, 0, 0, 0, 0, 0, 0, 0, 0, 0, 0, 0, 0, 0, 0, 0, 0, 0, 0, 0, 0, 0, 0, 0, 0, 0, 0, 0, 0, 0, 0, 0, 0, 0, 0, 0, 0, 0, 0, 0, 0, 0, 0, 0, 0, 0, 0, 0, 0, 0, 0, 0, 0, 0, 0, 0, 0, 0, 0, 0, 0, 0, 0, 0, 0, 0, 0, 0, 0, 0, 0, 0, 0, 0, 0, 0, 0, 0, 0, 0, 0, 0, 0, 0, 0, 0, 0, 0, 0, 0, 0, 0, 0, 0, 0, 0, 0, 0, 0, 0, 0, 0, 0, 0, 0, 0, 0, 0, 0, 0, 0, 0, 0, 0, 0, 0, 0, 0, 0, 0, 0, 0, 0, 0, 0, 0, 0, 0, 0, 0, 0, 0, 0, 0, 0, 0, 0, 0, 0, 0, 0, 0, 0, 0, 0, 0, 0, 0, 0, 0, 0, 0, 0, 0, 0, 0, 0, 0, 0, 0, 0, 0, 0, 0, 0, 0, 0, 0, 0, 0, 0, 0, 0, 0, 0, 0, 0, 0, 0, 0, 0, 0, 0, 0, 0, 0, 0, 0, 0, 0, 0, 0, 0, 0, 0, 0, 0, 0, 0, 0, 0, 0, 0, 0, 0, 0, 0, 0, 0, 0, 0, 0, 0, 0, 0, 0, 0, 0, 0, 0, 0, 0, 0, 0, 0, 0, 0, 0, 0, 0, 0, 0, 0, 0, 0, 0, 0, 0, 0, 0, 0, 0, 0, 0, 0, 0, 0, 0, 0, 0, 0, 0, 0, 0, 0, 0, 0, 0, 0, 0, 0, 0, 0, 0, 0, 0, 0, 0, 0, 0, 0, 0, 0, 0, 0, 0, 0, 0, 0, 0, 0, 0, 0, 0, 0, 0, 0, 0, 0, 0, 0, 0, 0, 0, 0, 0, 0, 0, 0, 0, 0, 0, 0, 0, 0, 0, 0, 0, 0, 0, 0, 0, 0, 0, 0, 0, 0, 0, 0, 0, 0, 0, 0, 0, 0, 0, 0, 0, 0, 0, 0, 0, 0, 0, 0, 0, 0, 0, 0, 0, 0, 0, 0, 0, 0, 0, 0, 0, 0, 0, 0, 0, 0, 0, 0, 0, 0, 0, 0, 0, 0, 0, 0, 0, 0, 0, 0, 0, 0, 0, 0, 0, 0, 0, 0, 0, 0, 0, 0, 0, 0, 0, 0, 0, 0, 0, 0, 0, 0, 0, 0, 0, 0, 0, 0, 0, 0, 0, 0, 0, 0, 0, 0, 0, 0, 0, 0, 0, 0, 0, 0, 0, 0, 0, 0, 0, 0, 0, 0, 0, 0, 0, 0, 0, 0, 0, 0, 0, 0, 0, 0, 0, 0, 0, 0, 0, 0, 0, 0, 0, 0, 0, 0, 0, 0, 0, 0, 0, 0, 0, 0, 0, 0, 0, 0, 0, 0, 0, 0, 0, 0, 0, 0, 0, 0, 0, 0, 0, 0, 0, 0, 0, 0, 0, 0, 0, 0, 0, 0, 0, 0, 0, 0, 0, 0, 0, 0, 0, 0, 0, 0, 0, 0, 0, 0, 0, 0, 0, 0, 0, 0, 0, 0, 0, 0, 0, 0, 0, 0, 0, 0, 0, 0, 0, 0, 0, 0, 0, 0, 0, 0, 0, 0, 0, 0, 0, 0, 0, 0, 0, 0, 0, 0, 0, 0, 0, 0, 0, 0, 0, 0, 0, 0, 0, 0, 0, 0, 0, 0, 0, 0, 0, 0, 0, 0, 0, 0, 0, 0, 0, 0, 0, 0, 0, 0, 0, 0, 0, 0, 0, 0, 0, 0, 0, 0, 0, 0, 0, 0, 0, 0, 0, 0, 0, 0, 0, 0, 0, 0, 0, 0, 0, 0, 0, 0, 0, 0, 0, 0, 0, 0, 0, 0, 0, 0, 0, 0, 0, 0, 0, 0, 0, 0, 0, 0, 0, 0, 0, 0, 0, 0, 0, 0, 0, 0, 0, 0, 0, 0, 0, 0, 0, 0, 0, 0, 0, 0, 0, 0, 0, 0, 0, 0, 0, 0, 0, 0, 0, 0, 0, 0, 0, 0, 0, 0, 0, 0, 0, 0, 0, 0, 0, 0, 0, 0, 0, 0, 0, 0, 0, 0, 0, 0, 0, 0, 0, 0, 0, 0, 0, 0, 0, 0, 0, 0, 0, 0, 0, 0, 0, 0, 0, 0, 0, 0, 0, 0, 0, 0, 0, 0, 0, 0, 0, 0, 0, 0, 0, 0, 0, 0, 0, 0, 0, 0, 0, 0, 0, 0, 0, 0, 0, 0, 0, 0, 0, 0, 0, 0, 0, 0, 0, 0, 0, 0, 0, 0, 0, 0, 0, 0, 0, 0, 0, 0, 0, 0, 0, 0, 0, 0, 0, 0, 0, 0, 0, 0, 0, 0, 0, 0, 0, 0, 0, 0, 0, 0, 0, 0, 0, 0, 0, 0, 0, 0, 0, 0, 0, 0, 0, 0, 0, 0, 0, 0, 0, 0, 0, 0, 0, 0, 0, 0, 0, 0, 0, 0, 0, 0, 0, 0, 0, 0, 0, 0, 0, 0, 0, 0, 0, 0, 0, 0, 0, 0, 0, 0, 0, 0, 0, 0, 0, 0, 0, 0, 0, 0, 0, 0, 0, 0, 0, 0, 0, 0, 0, 0, 0, 0, 0, 0, 0, 0, 0, 0, 0, 0, 0, 0, 0, 0, 0, 0, 0, 0, 0, 0, 0, 0, 0, 0, 0, 0, 0, 0, 0, 0, 0, 0, 0, 0, 0, 0, 0, 0, 0, 0, 0, 0, 0, 0, 0, 0, 0, 0, 0, 0, 0, 0, 0, 0, 0, 0, 0, 0, 0, 0, 0, 0, 0, 0, 0, 0, 0, 0, 0, 0, 0, 0, 0, 0, 0, 0, 0, 0, 0, 0, 0, 0, 0, 0, 0, 0, 0, 0, 0, 0, 0, 0, 0, 0, 0, 0, 0, 0, 0, 0, 0, 0, 0, 0, 0, 0, 0, 0, 0, 0, 0, 0, 0, 0, 0, 0, 0, 0, 0, 0, 0, 0, 0, 0, 0, 0, 0, 0, 0, 0, 0, 0, 0, 0, 0, 0, 0, 0, 0, 0, 0, 0, 0, 0, 0, 0, 0, 0, 0, 0, 0, 0, 0, 0, 0, 0, 0, 0, 0, 0, 0, 0, 0, 0, 0, 0, 0, 0, 0, 0, 0, 0, 0, 0, 0, 0, 0, 0, 0, 0, 0, 0, 0, 0, 0, 0, 0, 0, 0, 0, 0, 0, 0, 0, 0, 0, 0, 0, 0, 0, 0, 0, 0, 0, 0, 0, 0, 0, 0, 0, 0, 0, 0, 0, 0, 0, 0, 0, 0, 0, 0, 0, 0, 0, 0, 0, 0, 0, 0, 0, 0, 0, 0, 0, 0, 0, 0, 0, 0, 0, 0, 0, 0, 0, 0, 0, 0, 0, 0, 0, 0, 0, 0, 0, 0, 0, 0, 0, 0, 0, 0, 0, 0, 0, 0, 0, 0, 0, 0, 0, 0, 0, 0, 0, 0, 0, 0, 0, 0, 0, 0, 0, 0, 0, 0, 0, 0, 0, 0, 0, 0, 0, 0, 0, 0, 0, 0, 0, 0, 0, 0, 0, 0, 0, 0, 0, 0, 0, 0, 0, 0, 0, 0, 0, 0, 0, 0, 0, 0, 0, 0, 0, 0, 0, 0, 0, 0, 0, 0, 0, 0, 0, 0, 0, 0, 0, 0, 0, 0, 0, 0, 0, 0, 0, 0, 0, 0, 0, 0, 0, 0, 0, 0, 0, 0, 0, 0, 0, 0, 0, 0, 0, 0, 0, 0, 0, 0, 0, 0, 0, 0, 0, 0, 0, 0, 0, 0, 0, 0, 0, 0, 0, 0, 0, 0, 0, 0, 0, 0, 0, 0, 0, 0, 0, 0]\n",
      "[1, 9, 0, 0, 2, 2, 6, 9, 11, 0, 4, 0, 10, 4, 0, 0, 9, 9, 7, 2, 6, 1, 0, 8, 4, 7, 2, 3, 2, 7, 0, 1, 1, 7, 11, 2, 0, 4, 2, 4, 1, 6, 9, 9, 0, 5, 2, 8, 9, 0, 9, 1, 4, 9, 2, 4, 1, 4, 3, 11, 10, 0, 2, 4, 11, 9, 0, 9, 9, 4, 9, 2, 1, 2, 9, 9, 2, 7, 5, 5, 5, 2, 8, 2, 2, 3, 10, 2, 0, 11, 7, 9, 2, 7, 9, 7, 6, 2, 1, 6, 2, 7, 2, 10, 11, 4, 2, 7, 8, 9, 5, 9, 8, 2, 0, 2, 11, 9, 7, 5, 9, 0, 4, 4, 0, 10, 0, 9, 8, 8, 4, 8, 0, 7, 9, 4, 7, 0, 2, 9, 0, 4, 9, 7, 1, 4, 9, 8, 7, 5, 1, 7, 0, 5, 11, 10, 11, 7, 6, 5, 0, 11, 0, 8, 2, 8, 9, 7, 5, 7, 5, 11, 9, 4, 4, 10, 4, 4, 0, 3, 0, 9, 0, 4, 4, 4, 5, 0, 4, 6, 4, 2, 4, 3, 1, 4, 1, 2, 7, 0, 9, 4, 0, 7, 7, 2, 2, 1, 11, 5, 11, 0, 4, 9, 9, 7, 2, 0, 5, 9, 2, 0, 10, 9, 6, 0, 7, 2, 11, 9, 0, 0, 4, 9, 4, 11, 9, 9, 6, 7, 8, 4, 2, 2, 2, 11, 7, 4, 2, 11, 0, 6, 4, 9, 6, 9, 4, 8, 1, 10, 2, 0, 9, 4, 9, 1, 5, 2, 10, 6, 1, 10, 2, 4, 7, 0, 2, 2, 7, 1, 1, 1, 9, 7, 9, 6, 2, 2, 6, 0, 9, 9, 1, 9, 5, 2, 11, 7, 1, 8, 0, 7, 9, 11, 4, 2, 3, 7, 9, 3, 7, 9, 4, 7, 0, 0, 2, 10, 2, 7, 0, 0, 4, 5, 4, 5, 9, 4, 6, 7, 4, 0, 3, 7, 7, 10, 9, 4, 9, 0, 10, 1, 7, 0, 6, 0, 9, 7, 0, 9, 5, 3, 10, 0, 10, 10, 9, 10, 11, 7, 11, 7, 9, 0, 0, 5, 9, 4, 0, 4, 0, 11, 11, 2, 9, 0, 2, 5, 0, 2, 4, 2, 4, 8, 9, 2, 7, 0, 6, 9, 0, 3, 7, 5, 2, 1, 5, 7, 4, 9, 0, 11, 9, 1, 4, 2, 2, 1, 5, 5, 7, 10, 4, 3, 6, 9, 7, 5, 9, 5, 7, 0, 7, 2, 3, 9, 10, 8, 7, 7, 4, 0, 10, 7, 4, 0, 6, 4, 7, 10, 2, 5, 4, 9, 8, 1, 11, 6, 2, 5, 11, 4, 7, 11, 9, 9, 9, 11, 1, 9, 7, 9, 8, 7, 7, 5, 2, 7, 0, 2, 10, 4, 2, 11, 4, 0, 1, 4, 6, 9, 0, 11, 4, 7, 8, 1, 0, 1, 1, 6, 0, 7, 1, 2, 7, 5, 11, 1, 4, 2, 4, 7, 6, 2, 9, 5, 7, 1, 8, 0, 2, 7, 2, 9, 5, 0, 0, 7, 0, 5, 4, 11, 5, 8, 9, 5, 4, 5, 4, 0, 2, 2, 6, 1, 11, 2, 2, 1, 5, 11, 7, 7, 9, 9, 0, 2, 0, 4, 2, 2, 7, 9, 11, 9, 2, 8, 7, 4, 2, 2, 4, 0, 7, 0, 4, 4, 2, 2, 4, 0, 4, 9, 9, 0, 7, 2, 2, 1, 8, 7, 8, 6, 9, 4, 7, 2, 9, 4, 7, 2, 7, 4, 0, 5, 4, 4, 5, 8, 11, 9, 9, 2, 7, 7, 2, 0, 6, 6, 11, 4, 3, 0, 11, 0, 7, 1, 7, 7, 1, 7, 2, 9, 4, 7, 0, 0, 0, 2, 9, 0, 10, 9, 9, 2, 4, 9, 9, 9, 0, 6, 0, 5, 7, 9, 2, 0, 0, 7, 0, 8, 2, 4, 1, 2, 0, 2, 2, 11, 2, 9, 11, 0, 11, 8, 4, 10, 9, 2, 10, 7, 7, 9, 0, 4, 6, 9, 0, 9, 0, 3, 0, 2, 2, 9, 5, 0, 2, 8, 7, 9, 11, 2, 1, 1, 9, 2, 9, 9, 8, 4, 6, 9, 2, 9, 5, 2, 9, 9, 0, 1, 2, 6, 1, 9, 8, 6, 4, 7, 0, 7, 2, 0, 5, 1, 9, 4, 4, 4, 0, 9, 10, 5, 9, 0, 7, 2, 1, 2, 4, 4, 6, 4, 4, 2, 9, 11, 9, 5, 7, 4, 10, 2, 4, 9, 9, 10, 10, 4, 7, 1, 10, 2, 4, 5, 11, 6, 7, 2, 2, 10, 2, 4, 7, 1, 5, 0, 5, 9, 2, 4, 2, 8, 4, 2, 0, 3, 1, 8, 1, 4, 0, 2, 0, 4, 7, 3, 3, 0, 0, 7, 3, 9, 9, 11, 2, 2, 0, 11, 4, 11, 4, 9, 8, 2, 4, 0, 4, 4, 7, 2, 4, 1, 8, 1, 4, 8, 7, 7, 11, 7, 8, 9, 5, 7, 9, 6, 4, 4, 4, 1, 2, 7, 0, 8, 10, 5, 7, 1, 0, 0, 11, 1, 0, 7, 7, 8, 7, 1, 0, 4, 4, 9, 11, 0, 6, 7, 0, 4, 8, 8, 9, 9, 2, 4, 3, 4, 9, 7, 2, 2, 6, 8, 9, 4, 8, 9, 9, 8, 8, 10, 1, 1, 2, 6, 7, 10, 9, 2, 10, 9, 0, 1, 4, 7, 11, 2, 7, 7, 5, 7, 6, 5, 7, 7, 11, 11, 11, 4, 9, 1, 11, 7, 5, 0, 11, 4, 5, 9, 9, 4, 2, 0, 4, 2, 7, 7, 6, 11, 0, 10, 0, 8, 9, 4, 9, 0, 1, 7, 2, 5, 6, 6, 2, 9, 9, 11, 6, 7, 2, 7, 3, 5, 8, 9, 10, 5, 11, 2, 9, 4, 2, 7, 7, 8, 1, 6, 5, 8, 7, 5, 7, 8, 9, 9, 3, 9, 5, 7, 10, 3, 8, 7, 7, 7, 2, 1, 0, 10, 5, 9, 2, 5, 2, 0, 9, 2, 6, 2, 4, 9, 7, 2, 7, 9, 10, 9, 1, 7, 6, 9, 9, 2, 4, 7, 9, 9, 4, 7, 7, 2, 11, 9, 7, 5, 10, 1, 3, 9, 7, 2, 9, 4, 5, 1, 4, 8, 4, 5, 10, 9, 4, 0, 2, 9, 7, 6, 0, 11, 0, 5, 1, 11, 9, 11, 8, 7, 4, 5, 3, 0, 5, 9, 11, 11, 7, 7, 3, 8, 8, 0, 5, 7, 2, 2, 2, 5, 4, 6, 6, 11, 5, 11, 2, 0, 2, 9, 2, 7, 10, 0, 5, 9, 9, 2, 0, 7, 6, 7, 1, 0, 1, 0, 3, 7, 4, 11, 5, 1, 4, 4, 11, 2, 5, 0, 0, 9, 7, 4, 7, 0, 2, 5, 3, 1, 8, 4, 8, 2, 6, 0, 9, 0, 9, 7, 11, 9, 6, 7, 1, 8, 9, 9, 5, 4, 9, 6, 8, 7, 5, 10, 0, 0, 4, 0, 4, 4, 2, 5, 4, 2, 3, 4, 0, 0, 0, 5, 6, 9, 3, 7, 5, 7, 1, 10, 10, 4, 2, 7, 5, 9, 5, 7, 2, 0, 7, 7, 8, 9, 7, 7, 7, 5, 9, 7, 7, 4, 2, 10, 4, 9, 2, 6, 7, 8, 0, 4, 0, 8, 11, 7, 3, 6, 5, 4, 2, 2, 5, 9, 10, 9, 1, 9, 2, 11, 4, 11, 4, 0, 0, 6, 7, 9, 3, 6, 4, 0, 9, 4, 8, 5, 7, 3, 8, 2, 4, 7, 7, 11, 5, 0, 0, 5, 3, 4, 6, 5, 6, 0, 6, 0, 7, 2, 10, 6, 2, 9, 1, 4, 4, 2, 7, 0, 9, 5, 9, 0, 11, 7, 9, 0, 0, 5, 11, 9, 5, 11, 9, 2, 4, 11, 9, 9, 1, 9, 4, 10, 6, 0, 1, 11, 11, 1, 9, 11, 5, 8, 7, 10, 9, 10, 1, 0, 0, 0, 10, 6, 7, 4, 2, 8, 1, 5, 2, 9, 6, 4, 0, 8, 11, 4, 4, 2, 4, 11, 1, 9, 0, 9, 2, 9, 10, 6, 1, 0, 4, 1, 0, 2, 0, 9, 0, 7, 5, 6, 2, 4, 5, 4, 11, 5, 6, 2, 7, 9, 0, 7, 6, 3, 5, 11, 4, 5, 4, 2, 11, 3, 0, 2, 5, 1, 1, 2, 2, 2, 9, 3, 6, 5, 1, 9, 10, 6, 4, 2, 2, 5, 5, 10, 11, 7, 7, 2, 10, 10, 4, 9, 7, 1, 5, 6, 5, 1, 2, 1, 1, 0, 9, 9, 9, 7, 3, 9, 0, 9, 9, 0, 9, 0, 11, 2, 7, 11, 11, 9, 7, 6, 4, 0, 7, 0, 8, 9, 4, 11, 7, 4, 10, 9, 4, 5, 4, 2, 0, 7, 0, 11, 10, 2, 7, 8, 6, 7, 10, 1, 4, 2, 4, 2, 9, 0, 6, 0, 9, 7, 6, 6, 10, 5, 10, 0, 4, 1, 0, 4, 7, 0, 9, 9, 9, 2, 5, 6, 2, 0, 2, 2, 11, 2, 11, 6, 4, 0, 10, 7, 7, 7, 4, 9, 4, 7, 11, 6, 2, 2, 3, 2, 9, 2, 5, 5, 0, 6, 8, 5, 1, 7, 9, 9, 2, 0, 1, 5, 9, 0, 4, 5, 0, 8, 7, 4, 7, 2, 2, 2, 7, 4, 4, 8, 9, 2, 2, 10, 9, 1, 2, 2, 0, 7, 0, 5, 7, 0, 0, 11, 3, 1, 5, 4, 2, 0, 5, 9, 2, 1, 11, 7, 5, 5, 1, 3, 9, 7, 0, 7, 7, 5, 1, 4, 4, 7, 0, 7, 2, 0, 7, 0, 4, 7, 3, 2, 2, 9, 0, 2, 7, 2, 2, 6, 0, 4, 7, 7, 6, 9, 4, 0, 1, 7, 1, 2, 9, 6, 4, 1, 1, 2, 3, 11, 6, 4, 0, 9, 9, 1, 5, 1, 6, 7, 4, 6, 6, 2, 10, 9, 2, 2, 5, 6, 1, 4, 6, 6, 11, 6, 2, 9, 7, 6, 9, 7, 4, 7, 8, 4, 0, 2, 2, 7, 0, 10, 2, 7, 9, 1, 5, 7, 5, 9, 1, 7, 1, 2, 9, 9, 9, 4, 2, 9, 7, 7, 7, 4, 10, 2, 10, 2, 7, 0, 2, 0, 10, 4, 9, 4, 4, 0, 3, 9, 0, 7, 9, 10, 11, 1, 11, 4, 4, 0, 7, 2, 1, 11, 5, 7, 1, 0, 2, 6, 11, 9, 5, 1, 9, 2, 1, 9, 2, 9, 7, 0, 4, 10, 7, 11, 9, 2, 9, 8, 0, 0, 2, 6, 8, 6, 7, 9, 7, 1, 7, 9, 9, 7, 2, 2, 2, 9, 9, 9, 6, 2, 8, 4, 0, 4, 5, 2, 0, 5, 2, 9, 7, 9, 4, 6, 8, 9, 9, 4, 10, 5, 8, 4, 0, 7, 2, 1, 6, 0, 9, 2, 11, 10, 7, 8, 0, 1, 2, 0, 8, 7, 0, 0, 9, 6, 7, 4, 4, 9, 9, 11, 5, 11, 1, 11, 10, 0, 0, 5, 2, 7, 1, 5, 7, 11, 0, 0, 1, 11, 1, 2, 7, 2, 6, 0, 9, 0, 0, 4, 4, 9, 6, 2, 4, 9, 2, 4, 8, 1, 4, 7, 3, 8, 11, 7, 9, 0, 4, 7, 4, 8, 7, 6, 0, 5, 9, 9, 7, 10, 7, 2, 4, 8, 2, 1, 7, 9, 1, 1, 7, 7, 7, 2, 5, 2, 9, 2, 2, 6, 7, 3, 1, 0, 7, 3, 1, 4, 2, 11, 0, 7, 9, 1, 8, 9, 11, 8, 4, 3, 9, 2, 4, 2, 5, 4, 11, 7, 0, 6, 7, 9, 1, 0, 5, 1, 5, 0, 1, 7, 11, 5, 7, 0, 2, 5, 0, 0, 7, 0, 11, 10, 11, 9, 11, 9, 1, 5, 1, 9, 9, 9, 5, 4, 1, 7, 9, 7, 9, 0, 1, 9, 2, 0, 0, 7, 0, 9, 1, 2, 1, 4, 7, 1, 2, 5, 2, 8, 2, 2, 2, 4, 4, 2, 10, 4, 4, 2, 5, 1, 7, 1, 4, 9, 10, 2, 4, 4, 7, 9, 9, 8, 8, 8, 0, 6, 9, 9, 10, 10, 8, 11, 4, 2, 1, 6, 5, 2, 6, 11, 5, 7, 11, 2, 7, 4, 7, 9, 7, 7, 7, 0, 5, 4, 1, 7, 1, 9, 7, 4, 4, 1, 0, 0, 11, 5, 0, 1, 4, 6, 9, 6, 0, 3, 0, 9, 7, 9, 0, 9, 9, 9, 1, 0, 2, 7, 9, 10, 3, 11, 3, 0, 9, 4, 7, 5, 2, 1, 2, 9, 2, 8, 0, 10, 5, 7, 2, 9, 9, 8, 3, 2, 7, 10, 0, 9, 4, 8, 5, 7, 8, 0, 7, 0, 0, 8, 5, 7, 5, 1, 5, 7, 1, 7, 4, 7, 1, 9, 7, 4, 5, 0, 4, 1, 5, 0, 9, 6, 10, 2, 4, 5, 0, 7, 4, 5, 4, 4, 7, 9, 9, 9, 0, 2, 2, 8, 11, 8, 9, 6, 1, 1, 2, 4, 6, 6, 7, 7, 9, 1, 11, 6, 0, 7, 8, 8, 10, 0, 7, 11, 7, 5, 11, 5, 10, 6, 1, 5, 0, 8, 11, 9, 6, 8, 4, 2, 0, 7, 4, 3, 9, 7, 7, 4, 7, 5, 0, 5, 10, 1, 11, 6, 5, 6, 7, 4, 7, 11, 4, 9, 7, 2, 9, 10, 9, 2, 2, 6, 4, 7, 2, 9, 5, 0, 1, 9, 7, 7, 0, 10, 4, 4, 11, 6, 0, 6, 5, 11, 8, 3, 2, 6, 9, 3, 5, 4, 9, 5, 11, 6, 10, 7, 5, 0, 10, 2, 11, 10, 11, 7, 8, 6, 9, 0, 0, 0, 4, 5, 1, 1, 2, 0, 9, 6, 10, 9, 2, 3, 6, 11, 0, 9, 0, 10, 2, 7, 6, 2, 5, 7, 2, 4, 1, 0, 5, 1, 0, 9, 9, 0, 9, 5, 9, 11, 4, 1, 6, 5, 10, 1, 8, 9, 9, 1, 4, 3, 9, 4, 2, 4, 6, 0, 0, 9, 0, 0, 6, 3, 2, 8, 4, 11, 6, 2, 4, 6, 1, 7, 7, 11, 2, 11, 2, 0, 9, 5, 2, 9, 7, 7, 0, 9, 7, 7, 3, 4, 2, 9, 9, 3, 7, 4, 9, 9, 1, 9, 5, 11, 6, 9, 11, 6, 9, 1, 2, 9, 0, 4, 2, 8, 0, 4, 7, 2, 4, 0, 0, 1, 2, 10, 5, 0, 0, 0, 2, 2, 7, 0, 2, 2, 9, 10, 0, 4, 7, 0, 9, 1, 1, 7, 0, 7, 9, 4, 0, 0, 9, 11, 5, 1, 1, 4, 0, 0, 4, 7, 1, 1, 6, 5, 0, 9, 10, 4, 3, 11, 2, 1, 1, 8, 0, 5, 4, 2, 6, 0, 9, 2, 9, 2, 0, 1, 2, 2, 0, 2, 2, 5, 10, 0, 2, 5, 9, 8, 9, 0, 2, 2, 11, 7, 0, 10, 0, 10, 0, 0, 6, 7, 0, 7, 4, 0, 2, 5, 4, 7, 0, 4, 7, 8, 10, 7, 5, 7, 6, 6, 5, 0, 4, 2, 2, 4, 11, 8, 4, 3, 0, 4, 0, 0, 2, 9, 6, 0, 11, 6, 7, 0, 2, 7, 7, 11, 9, 2, 1, 0, 10, 0, 2, 2, 7, 11, 10, 2, 7, 4, 6, 11, 3, 7, 9, 9, 7, 4, 5, 11, 2, 2, 9, 6, 4, 0, 9, 6, 3, 6, 1, 1, 2, 7, 7, 0, 8, 4, 7, 8, 9, 7, 4, 7, 1, 5, 2, 8, 11, 2, 0, 2, 7, 10, 7, 0, 4, 0, 2, 0, 0, 9, 9, 2, 7, 4, 10, 5, 5, 9, 5, 8, 6, 11, 1, 2, 9, 0, 4, 9, 2, 3, 4, 9, 2, 10, 1, 8, 6, 9, 2, 3, 9, 6, 9, 10, 1, 0, 0, 7, 11, 11, 5, 0, 2, 9, 6, 7, 2, 7, 4, 7, 8, 0, 9, 7, 9, 5, 11, 7, 7, 6, 2, 4, 9, 9, 9, 7, 5, 4, 5, 1, 0, 1, 10, 9, 9, 3, 2, 1, 4, 7, 0, 6, 9, 3, 10, 0, 2, 2, 4, 7, 8, 3, 6, 9, 7, 7, 8, 9, 10, 9, 2, 2, 0, 11, 0, 9, 0, 2, 11, 10, 10, 11, 4, 10, 4, 2, 7, 9, 1, 9, 2, 10, 11, 9, 2, 2, 4, 3, 1, 9, 5, 7, 9, 0, 8, 7, 3, 9, 2, 1, 5, 9, 5, 10, 6, 2, 0, 6, 1, 3, 5, 11, 10, 2, 9, 4, 9, 7, 2, 10, 11, 11, 4, 7, 7, 0, 10, 4, 0, 9, 0, 6, 9, 4, 4, 6, 9, 10, 1, 7, 7, 0, 11, 9, 0, 0, 0, 4, 9, 2, 6, 0, 6, 7, 1, 1, 1, 9, 1, 6, 9, 2, 2, 9, 11, 7, 11, 10, 0, 2, 7, 4, 9, 7, 7, 3, 7, 1, 9, 8, 3, 5, 11, 2, 10, 7, 2, 6, 8, 11, 2, 2, 7, 1, 7, 7, 1, 6, 7, 1, 0, 2, 0, 1, 7, 7, 7, 0, 10, 11, 5, 10, 5, 0, 7, 9, 4, 6, 8, 9, 7, 9, 7, 11, 1, 1, 7, 7, 11, 2, 9, 2, 2, 10, 4, 4, 10, 6, 4, 4, 3, 11, 7, 2, 0, 6, 9, 1, 4, 3, 7, 5, 11, 0, 3, 1, 0, 7, 1, 3, 3, 3, 1, 11, 9, 6, 9, 11, 0, 6, 9, 3, 4, 8, 8, 6, 6, 4, 9, 6, 7, 5, 1, 2, 7, 11, 0, 1, 2, 5, 4, 1, 7, 0, 2, 10, 9, 0, 7, 0, 10, 9, 2, 11, 2, 2, 11, 11, 0, 3, 6, 4, 8, 4, 9, 2, 0, 9, 5, 1, 4, 7, 0, 9, 4, 7, 4, 7, 7, 9, 10, 9, 0, 7, 3, 2, 9, 5, 2, 1, 0, 2, 0, 7, 6, 0, 7, 10, 0, 10, 9, 2, 9, 8, 0, 1, 5, 0, 6, 7, 9, 0, 0, 8, 0, 7, 8, 2, 7, 11, 9, 0, 4, 4, 5, 9, 9, 6, 7, 7, 4, 9, 6, 8, 0, 6, 2, 9, 11, 0, 4, 1, 3, 5, 2, 9, 1, 10, 9, 9, 1, 0, 7, 1, 2, 9, 2, 11, 2, 11, 7, 10, 5, 10, 0, 1, 4, 7, 2, 2, 5, 4, 7, 3, 0, 0, 9, 0, 0, 2, 5, 9, 10, 2, 7, 1, 11, 4, 2, 10, 10, 7, 9, 2, 4, 2, 8, 5, 7, 8, 9, 8, 8, 4, 7, 7, 0, 5, 9, 3, 9, 0, 10, 4, 4, 9, 2, 5, 10, 9, 5, 2, 7, 4, 4, 4, 2, 2, 2, 5, 10, 0, 6, 0, 7, 0, 1, 11, 7, 6, 2, 1, 0, 9, 6, 9, 1, 2, 2, 0, 5, 1, 2, 7, 2, 9, 2, 0, 7, 3, 2, 4, 7, 0, 5, 8, 9, 5, 2, 9, 2, 0, 11, 9, 2, 1, 7, 2, 8, 7, 11, 11, 2, 9, 4, 2, 11, 9, 4, 6, 9, 2, 2, 9, 2, 4, 2, 7, 0, 7, 2, 9, 0, 4, 5, 2, 4, 1, 4, 9, 5, 7, 1, 10, 10, 11, 2, 10, 9, 10, 5, 7, 2, 4, 6, 9, 5, 10, 4, 2, 7, 2, 7, 2, 4, 6, 11, 0, 5, 7, 2, 5, 9, 9, 2, 1, 1, 11, 2, 6, 6, 2, 6, 0, 5, 4, 8, 2, 9, 2, 11, 6, 7, 11, 0, 7, 1, 6, 1, 4, 0, 1, 1, 5, 2, 5, 11, 7, 0, 5, 9, 2, 7, 0, 9, 4, 9, 10, 10, 9, 8, 7, 2, 9, 7, 4, 7, 10, 6, 9, 7, 10, 11, 9, 7, 1, 7, 10, 7, 8, 0, 9, 7, 11, 2, 4, 6, 10, 5, 2, 7, 5, 0, 2, 4, 8, 5, 2, 0, 0, 2, 9, 6, 4, 11, 1, 1, 2, 9, 5, 0, 7, 0, 9, 0, 1, 3, 11, 9, 11, 1, 11, 4, 10, 11, 9, 8, 7, 2, 2, 9, 7, 9, 6, 2, 11, 3, 2, 7, 6, 4, 2, 7, 8, 5, 9, 7, 4, 9, 3, 3, 0, 5, 7, 11, 2, 9, 8, 3, 5, 2, 1, 8, 7, 2, 1, 1, 9, 2, 9, 9, 2, 2, 9, 7, 7, 0, 7, 5, 1, 11, 6, 5, 11, 3, 9, 9, 6, 11, 11, 0, 2, 1, 11, 9, 10, 10, 11, 5, 2, 6, 5, 5, 7, 5, 1, 4, 10, 2, 1, 0, 9, 4, 11, 7, 4, 10, 1, 11, 0, 2, 5, 10, 5, 1, 4, 9, 0, 2, 7, 4, 4, 9, 6, 9, 6, 0, 7, 7, 3, 0, 4, 9, 1, 11, 7, 2, 6, 8, 10, 8, 9, 5, 11, 2, 7, 1, 9, 4, 9, 2, 7, 9, 4, 7, 8, 8, 9, 9, 9, 4, 11, 7, 9, 4, 4, 9, 11, 9, 7, 5, 10, 4, 11, 4, 4, 10, 7, 7, 5, 9, 4, 11, 10, 2, 9, 2, 7, 9, 0, 7, 7, 4, 2, 4, 9, 1, 11, 9, 7, 0, 5, 8, 6, 0, 7, 11, 5, 2, 5, 9, 7, 10, 11, 8, 6, 2, 2, 1, 7, 2, 5, 1, 7, 5, 0, 4, 0, 9, 11, 0, 10, 5, 2, 9, 9, 7, 2, 9, 9, 7, 0, 1, 8, 7, 6, 6, 10, 2, 5, 4, 9, 7, 0, 1, 2, 7, 9, 6, 2, 10, 7, 9, 0, 2, 0, 5, 9, 11, 1, 2, 7, 5, 9, 7, 10, 5, 9, 2, 0, 5, 0, 4, 2, 7, 7, 2, 8, 2, 4, 8, 0, 0, 2, 1, 9, 7, 9, 2, 0, 3, 4, 2, 7, 2, 7, 2, 0, 2, 9, 8, 4, 0, 4, 9, 8, 7, 5, 7, 5, 7, 1, 7, 9, 0, 7, 2, 7, 6, 11, 11, 7, 1, 3, 11, 0, 0, 5, 10, 8, 6, 5, 2, 7, 3, 8, 0, 11, 6, 0, 9, 4, 1, 2, 2, 2, 8, 8, 6, 9, 10, 4, 6, 2, 2, 2, 7, 1, 1, 9, 2, 9, 9, 5, 0, 5, 10, 2, 0, 8, 7, 4, 2, 4, 11, 11, 7, 2, 1, 9, 0, 7, 9, 7, 9, 1, 7, 4, 5, 8, 11, 0, 4, 11, 7, 2, 0, 9, 0, 9, 1, 10, 1, 0, 3, 8, 10, 0, 1, 2, 7, 2, 5, 2, 6, 7, 0, 10, 0, 0, 0, 0, 9, 7, 10, 2, 7, 9, 9, 6, 4, 1, 0, 9, 6, 9, 1, 0, 9, 2, 11, 2, 10, 4, 6, 9, 4, 4, 10, 9, 9, 4, 6, 0, 11, 4, 9, 9, 2, 0, 7, 7, 11, 0, 9, 9, 10, 9, 5, 0, 7, 0, 3, 5, 5, 2, 2, 9, 4, 1, 9, 4, 3, 5, 10, 1, 4, 6, 2, 9, 4, 7, 2, 11, 8, 10, 1, 11, 7, 0, 7, 2, 7, 2, 0, 4, 0, 6, 0, 2, 5, 2, 7, 0, 5, 2, 7, 9, 9, 9, 6, 9, 4, 9, 11, 9, 7, 7, 0, 7, 5, 4, 7, 2, 0, 4, 2, 6, 7, 4, 0, 10, 1, 6, 2, 6, 5, 11, 5, 2, 8, 5, 9, 1, 10, 0, 1, 11, 5, 7, 7, 6, 2, 5, 10, 11, 6, 2, 8, 5, 4, 2, 1, 6, 9, 10, 0, 5, 7, 4, 9, 9, 4, 5, 9, 9, 0, 11, 0, 9, 2, 0, 9, 10, 1, 2, 2, 1, 4, 7, 2, 7, 4, 6, 9, 5, 4, 0, 9, 2, 6, 11, 1, 5, 3, 0, 7, 2, 10, 9, 6, 0, 10, 2, 9, 11, 9, 0, 4, 0, 4, 9, 7, 5, 0, 1, 4, 2, 11, 9, 5, 9, 2, 4, 4, 0, 2, 0, 7, 5, 7, 9, 8, 4, 0, 0, 5, 7, 7, 2, 2, 7, 4, 0, 1, 0, 0, 6, 4, 9, 7, 2, 5, 7, 5, 9, 11, 9, 8, 5, 4, 0, 7, 10, 1, 2, 10, 2, 2, 0, 0, 6, 11, 3, 1, 5, 3, 2, 0, 6, 7, 1, 0, 4, 4, 8, 4, 9, 2, 0, 5, 0, 9, 2, 5, 2, 9, 0, 4, 1, 1, 7, 9, 9, 4, 0, 11, 7, 2, 7, 0, 0, 7, 2, 9, 6, 11, 7, 7, 6, 6, 2, 9, 9, 7, 7, 9, 1, 4, 0, 0, 7, 11, 4, 3, 7, 8, 7, 2, 9, 0, 7, 9, 2, 5, 0, 7, 9, 1, 4, 2, 0, 9, 9, 6, 5, 0, 4, 9, 7, 0, 7, 0, 4, 4, 11, 0, 9, 4, 9, 0, 4, 9, 3, 7, 8, 4, 0, 6, 6, 10, 3, 2, 4, 1, 3, 4, 10, 2, 2, 7, 7, 9, 7, 5, 7, 9, 4, 2, 9, 2, 1, 7, 7, 4, 7, 4, 9, 2, 10, 0, 0, 6, 7, 0, 5, 5, 9, 6, 9, 2, 1, 5, 7, 1, 0, 7, 4, 4, 11, 9, 2, 11, 4, 2, 0, 2, 5, 11, 7, 2, 10, 4, 7, 11, 2, 0, 1, 2, 8, 2, 5, 6, 1, 7, 10, 1, 11, 2, 5, 0, 8, 1, 7, 2, 0, 6, 2, 11, 11, 0, 1, 9, 2, 2, 2, 11, 2, 7, 8, 9, 7, 11, 1, 4, 0, 7, 10, 11, 0, 1, 7, 7, 0, 0, 2, 3, 9, 6, 7, 4, 0, 7, 0, 2, 10, 1, 9, 2, 2, 5, 11, 11, 6, 7, 8, 2, 11, 0, 6, 9, 4, 2, 0, 11, 7, 2, 2, 7, 11, 11, 9, 2, 4, 7, 8, 9, 9, 4, 8, 2, 9, 4, 4, 2, 7, 9, 10, 0, 0, 11, 6, 2, 5, 5, 0, 6, 4, 7, 5, 7, 0, 5, 9, 8, 8, 1, 10, 5, 1, 9, 11, 1, 10, 2, 1, 2, 9, 7, 9, 7, 11, 11, 7, 8, 2, 11, 9, 2, 4, 1, 11, 10, 9, 2, 1, 4, 4, 5, 9, 9, 0, 2, 11, 1, 9, 2, 0, 2, 7, 6, 7, 0, 4, 1, 0, 4, 6, 0, 5, 2, 5, 8, 9, 9, 2, 4, 5, 11, 7, 10, 4, 7, 5, 7, 3, 2, 9, 0, 4, 10, 2, 0, 8, 9, 0, 0, 9, 2, 9, 9, 11, 9, 0, 1, 7, 7, 0, 9, 2, 4, 3, 1, 9, 6, 7, 2, 9, 5, 3, 4, 8, 2, 8, 0, 1, 4, 8, 7, 11, 4, 4, 0, 0, 6, 1, 2, 9, 10, 0, 7, 9, 1, 2, 5, 9, 7, 9, 7, 9, 0, 9, 0, 9, 5, 9, 9, 8, 9, 9, 1, 8, 7, 6, 1, 2, 2, 0, 0, 7, 2, 4, 2, 7, 2, 3, 6, 3, 7, 2, 4, 8, 8, 0, 6, 1, 6, 5, 11, 0, 9, 0, 6, 2, 6, 1, 1, 7, 11, 5, 7, 7, 9, 5, 5, 0, 5, 9, 0, 7, 2, 8, 2, 8, 9, 0, 2, 7, 8, 7, 6, 9, 6, 8, 10, 1, 5, 11, 0, 9, 4, 7, 6, 10, 5, 2, 0, 1, 5, 10, 0, 2, 4, 4, 7, 6, 9, 11, 10, 0, 9, 0, 11, 1, 6, 0, 0, 7, 6, 2, 5, 5, 9, 9, 0, 9, 2, 7, 9, 7, 9, 2, 7, 3, 0, 5, 9, 2, 11, 7, 1, 11, 5, 6, 3, 9, 2, 9, 11, 1, 2, 2, 2, 0, 2, 7, 11, 0, 7, 7, 10, 8, 0, 0, 9, 4, 2, 9, 7, 7, 5, 10, 7, 4, 10, 8, 2, 2, 1, 10, 2, 11, 9, 1, 1, 4, 2, 0, 10, 4, 9, 6, 9, 0, 0, 9, 7, 0, 0, 7, 5, 2, 7, 6, 9, 6, 1, 2, 11, 7, 2, 6, 11, 9, 7, 9, 7, 10, 7, 0, 5, 8, 11, 7, 5, 10, 9, 7, 7, 10, 4, 2, 2, 7, 1, 0, 4, 0, 5, 4, 0, 6, 0, 2, 9, 2, 3, 10, 2, 0, 9, 2, 9, 7, 0, 7, 9, 7, 9, 1, 7, 6, 4, 0, 6, 1, 7, 0, 6, 3, 11, 6, 9, 11, 4, 8, 1, 5, 7, 9, 2, 6, 2, 9, 9, 7, 10, 2, 9, 0, 8, 4, 11, 1, 0, 9, 9, 7, 2, 5, 9, 2, 4, 1, 11, 5, 7, 1, 2, 0, 5, 9, 9, 0, 11, 11, 9, 2, 3, 11, 7, 6, 4, 1, 7, 9, 2, 2, 7, 2, 0, 9, 4, 9, 4, 2, 0, 1, 4, 2, 5, 1, 8, 2, 11, 4, 4, 7, 0, 9, 8, 7, 2, 2, 9, 3, 7, 1, 11, 9, 8, 4, 0, 11, 0, 11, 9, 4, 8, 7, 4, 9, 2, 5, 4, 2, 7, 0, 5, 2, 5, 2, 10, 9, 0, 2, 5, 4, 4, 4, 11, 4, 11, 4, 1, 0, 11, 9, 11, 10, 7, 6, 7, 9, 6, 0, 11, 11, 5, 9, 4, 0, 8, 4, 7, 9, 7, 9, 8, 0, 10, 4, 11, 9, 0, 6, 1, 7, 6, 2, 11, 5, 6, 0, 1, 9, 5, 0, 9, 2, 6, 7, 4, 11, 5, 6, 10, 11, 0, 9, 4, 10, 1, 0, 8, 7, 0, 10, 0, 4, 11, 7, 2, 3, 7, 11, 10, 6, 7, 1, 6, 10, 9, 9, 10, 7, 0, 2, 9, 11, 2, 9, 7, 9, 9, 4, 2, 4, 10, 1, 2, 8, 1, 4, 5, 0, 5, 7, 9, 6, 7, 7, 9, 10, 4, 6, 2, 2, 2, 0, 9, 2, 1, 6, 5, 9, 5, 8, 5, 9, 7, 2, 4, 9, 4, 0, 9, 4, 5, 2, 6, 2, 1, 2, 10, 2, 9, 7, 10, 3, 8, 2, 9, 9, 2, 7, 6, 9, 4, 9, 2, 0, 6, 0, 10, 7, 8, 2, 10, 6, 9, 7, 10, 6, 4, 0, 7, 2, 0, 2, 9, 10, 0, 7, 9, 9, 8, 1, 10, 6, 0, 9, 1, 2, 2, 10, 0, 9, 11, 8, 2, 4, 2, 8, 2, 7, 7, 10, 0, 9, 2, 6, 7, 1, 7, 9, 6, 8, 0, 4, 4, 2, 7, 7, 9, 9, 1, 1, 7, 4, 7, 10, 0, 2, 8, 0, 2, 2, 0, 11, 5, 8, 8, 0, 6, 0, 9, 5, 0, 5, 4, 1, 4, 0, 2, 7, 7, 7, 7, 2, 1, 9, 1, 2, 7, 11, 6, 9, 2, 4, 5, 1, 1, 2, 11, 6, 8, 1, 2, 9, 9, 5, 1, 6, 8, 4, 9, 11, 9, 7, 11, 8, 7, 11, 7, 9, 11, 2, 1, 9, 11, 5, 8, 11, 3, 2, 7, 10, 10, 5, 9, 2, 5, 4, 10, 0, 9, 9, 9, 5, 0, 7, 7, 11, 0, 11, 9, 9, 11, 2, 11, 0, 0, 10, 9, 1, 7, 2, 0, 4, 9, 7, 2, 7, 5, 1, 10, 7, 4, 1, 4, 11, 9, 7, 7, 2, 5, 9, 9, 9, 7, 7, 1, 0, 11, 9, 2, 11, 8, 9, 7, 5, 4, 2, 2, 1, 8, 0, 0, 1, 6, 7, 2, 8, 1, 2, 9, 1, 9, 10, 7, 2, 2, 1, 2, 2, 3, 1, 5, 5, 5, 0, 9, 2, 7, 5, 4, 11, 0, 1, 0, 1, 3, 8, 1, 6, 9, 6, 6, 4, 4, 9, 0, 0, 6, 2, 0, 9, 7, 10, 7, 2, 0, 4, 9, 2, 2, 2, 6, 3, 4, 2, 11, 6, 4, 6, 0, 7, 5, 7, 6, 7, 11, 1, 4, 7, 4, 8, 7, 2, 11, 0, 10, 11, 4, 7, 1, 10, 2, 2, 10, 5, 7, 1, 11, 10, 10, 7, 11, 1, 4, 4, 0, 8, 4, 6, 6, 10, 6, 2, 8, 9, 4, 7, 7, 1, 9, 0, 1, 8, 6, 2, 6, 1, 9, 2, 9, 9, 2, 7, 11, 10, 9, 4, 0, 0, 2, 9, 6, 2, 9, 3, 6, 1, 2, 1, 2, 7, 9, 8, 11, 2, 11, 2, 4, 2, 1, 11, 5, 4, 4, 0, 2, 9, 2, 10, 1, 10, 2, 5, 2, 11, 5, 8, 6, 11, 11, 5, 1, 5, 7, 0, 8, 7, 3, 8, 11, 10, 10, 7, 10, 2, 9, 6, 1, 5, 11, 4, 11, 9, 2, 0, 10, 2, 2, 7, 0, 8, 3, 1, 0, 4, 4, 7, 4, 1, 4, 10, 0, 2, 8, 3, 3, 8, 9, 11, 4, 5, 7, 0, 5, 6, 7, 5, 2, 5, 1, 11, 2, 6, 6, 4, 2, 5, 9, 2, 11, 7, 11, 2, 2, 9, 6, 6, 7, 9, 4, 6]\n"
     ]
    },
    {
     "data": {
      "image/png": "[encoded data removed]",
      "text/plain": [
       "<Figure size 1440x1440 with 2 Axes>"
      ]
     },
     "metadata": {
      "needs_background": "light"
     },
     "output_type": "display_data"
    }
   ],
   "source": [
    "loo = LeaveOneOut()\n",
    "\n",
    "X = encoder[['artist', 'release_date', 'length', 'popularity', 'danceability', 'acousticness', 'energy', 'instrumentalness',\n",
    "            'liveness', 'loudness', 'speechiness', 'tempo', 'time_signature', 'valence']].to_numpy()\n",
    "y = encoder[['key']].to_numpy()\n",
    "\n",
    "# X = encoder[[features]].to_numpy()\n",
    "# y = encoder[[labels]].to_numpy()\n",
    "\n",
    "predicted = []\n",
    "actual = []\n",
    "\n",
    "for train_index, test_index in loo.split(X):\n",
    "    X_train, X_test = X[train_index], X[test_index]\n",
    "    y_train, y_test = y[train_index], y[test_index]\n",
    "    \n",
    "    dt.fit(trainX,trainY)\n",
    "    predicted_value = dt.predict(X_test)\n",
    "    predicted.append(predicted_value[0])\n",
    "    actual.append(y_test[0][0])\n",
    "    \n",
    "print(predicted)\n",
    "print(actual)\n",
    "\n",
    "result_df = pd.DataFrame({\"actual\":actual,\"predicted\":predicted})\n",
    "confusion_matrix = pd.crosstab(result_df['actual'], result_df['predicted'], rownames=['Actual'], colnames=['Predicted'])\n",
    "\n",
    "fig = plt.figure(figsize=(20,20))\n",
    "sn.heatmap(confusion_matrix, annot=True)\n",
    "plt.show()"
   ]
  },
  {
   "cell_type": "code",
   "execution_count": 54,
   "id": "e069368b",
   "metadata": {},
   "outputs": [
    {
     "data": {
      "text/plain": [
       "0.11980306345733041"
      ]
     },
     "execution_count": 54,
     "metadata": {},
     "output_type": "execute_result"
    }
   ],
   "source": [
    "accuracy_score(actual, predicted)"
   ]
  },
  {
   "cell_type": "code",
   "execution_count": 55,
   "id": "69b098e6",
   "metadata": {},
   "outputs": [
    {
     "data": {
      "text/plain": [
       "0.11980306345733041"
      ]
     },
     "execution_count": 55,
     "metadata": {},
     "output_type": "execute_result"
    }
   ],
   "source": [
    "precision_score(actual, predicted, average='micro')"
   ]
  },
  {
   "cell_type": "code",
   "execution_count": 56,
   "id": "a2bd32b1",
   "metadata": {},
   "outputs": [
    {
     "data": {
      "text/plain": [
       "0.11980306345733041"
      ]
     },
     "execution_count": 56,
     "metadata": {},
     "output_type": "execute_result"
    }
   ],
   "source": [
    "recall_score(actual, predicted, average='micro')"
   ]
  },
  {
   "cell_type": "code",
   "execution_count": 57,
   "id": "3ded73cf",
   "metadata": {},
   "outputs": [
    {
     "data": {
      "text/plain": [
       "0.11980306345733041"
      ]
     },
     "execution_count": 57,
     "metadata": {},
     "output_type": "execute_result"
    }
   ],
   "source": [
    "f1_score(actual, predicted, average='micro')"
   ]
  },
  {
   "cell_type": "code",
   "execution_count": 260,
   "id": "f90e8f83",
   "metadata": {},
   "outputs": [
    {
     "ename": "ValueError",
     "evalue": "Expected 'estimator' to be a binary classifier, but got DecisionTreeClassifier fit on multiclass (12 classes) data",
     "output_type": "error",
     "traceback": [
      "\u001b[1;31m---------------------------------------------------------------------------\u001b[0m",
      "\u001b[1;31mValueError\u001b[0m                                Traceback (most recent call last)",
      "Input \u001b[1;32mIn [260]\u001b[0m, in \u001b[0;36m<cell line: 2>\u001b[1;34m()\u001b[0m\n\u001b[0;32m      1\u001b[0m plt\u001b[38;5;241m.\u001b[39mfigure(figsize\u001b[38;5;241m=\u001b[39m(\u001b[38;5;241m10\u001b[39m,\u001b[38;5;241m10\u001b[39m))\n\u001b[1;32m----> 2\u001b[0m \u001b[43mplot_roc_curve\u001b[49m\u001b[43m(\u001b[49m\u001b[43mdt\u001b[49m\u001b[43m,\u001b[49m\u001b[43m \u001b[49m\u001b[43mtestX\u001b[49m\u001b[43m,\u001b[49m\u001b[43m \u001b[49m\u001b[43mtestY\u001b[49m\u001b[43m)\u001b[49m\n\u001b[0;32m      3\u001b[0m plt\u001b[38;5;241m.\u001b[39mshow()\n",
      "File \u001b[1;32m~\\AppData\\Local\\Programs\\Python\\Python39\\lib\\site-packages\\sklearn\\utils\\deprecation.py:88\u001b[0m, in \u001b[0;36mdeprecated._decorate_fun.<locals>.wrapped\u001b[1;34m(*args, **kwargs)\u001b[0m\n\u001b[0;32m     85\u001b[0m \u001b[38;5;129m@functools\u001b[39m\u001b[38;5;241m.\u001b[39mwraps(fun)\n\u001b[0;32m     86\u001b[0m \u001b[38;5;28;01mdef\u001b[39;00m \u001b[38;5;21mwrapped\u001b[39m(\u001b[38;5;241m*\u001b[39margs, \u001b[38;5;241m*\u001b[39m\u001b[38;5;241m*\u001b[39mkwargs):\n\u001b[0;32m     87\u001b[0m     warnings\u001b[38;5;241m.\u001b[39mwarn(msg, category\u001b[38;5;241m=\u001b[39m\u001b[38;5;167;01mFutureWarning\u001b[39;00m)\n\u001b[1;32m---> 88\u001b[0m     \u001b[38;5;28;01mreturn\u001b[39;00m fun(\u001b[38;5;241m*\u001b[39margs, \u001b[38;5;241m*\u001b[39m\u001b[38;5;241m*\u001b[39mkwargs)\n",
      "File \u001b[1;32m~\\AppData\\Local\\Programs\\Python\\Python39\\lib\\site-packages\\sklearn\\metrics\\_plot\\roc_curve.py:451\u001b[0m, in \u001b[0;36mplot_roc_curve\u001b[1;34m(estimator, X, y, sample_weight, drop_intermediate, response_method, name, ax, pos_label, **kwargs)\u001b[0m\n\u001b[0;32m    371\u001b[0m \u001b[38;5;124;03m\"\"\"Plot Receiver operating characteristic (ROC) curve.\u001b[39;00m\n\u001b[0;32m    372\u001b[0m \n\u001b[0;32m    373\u001b[0m \u001b[38;5;124;03mExtra keyword arguments will be passed to matplotlib's `plot`.\u001b[39;00m\n\u001b[1;32m   (...)\u001b[0m\n\u001b[0;32m    447\u001b[0m \u001b[38;5;124;03m>>> plt.show()\u001b[39;00m\n\u001b[0;32m    448\u001b[0m \u001b[38;5;124;03m\"\"\"\u001b[39;00m\n\u001b[0;32m    449\u001b[0m check_matplotlib_support(\u001b[38;5;124m\"\u001b[39m\u001b[38;5;124mplot_roc_curve\u001b[39m\u001b[38;5;124m\"\u001b[39m)\n\u001b[1;32m--> 451\u001b[0m y_pred, pos_label \u001b[38;5;241m=\u001b[39m \u001b[43m_get_response\u001b[49m\u001b[43m(\u001b[49m\n\u001b[0;32m    452\u001b[0m \u001b[43m    \u001b[49m\u001b[43mX\u001b[49m\u001b[43m,\u001b[49m\u001b[43m \u001b[49m\u001b[43mestimator\u001b[49m\u001b[43m,\u001b[49m\u001b[43m \u001b[49m\u001b[43mresponse_method\u001b[49m\u001b[43m,\u001b[49m\u001b[43m \u001b[49m\u001b[43mpos_label\u001b[49m\u001b[38;5;241;43m=\u001b[39;49m\u001b[43mpos_label\u001b[49m\n\u001b[0;32m    453\u001b[0m \u001b[43m\u001b[49m\u001b[43m)\u001b[49m\n\u001b[0;32m    455\u001b[0m fpr, tpr, _ \u001b[38;5;241m=\u001b[39m roc_curve(\n\u001b[0;32m    456\u001b[0m     y,\n\u001b[0;32m    457\u001b[0m     y_pred,\n\u001b[1;32m   (...)\u001b[0m\n\u001b[0;32m    460\u001b[0m     drop_intermediate\u001b[38;5;241m=\u001b[39mdrop_intermediate,\n\u001b[0;32m    461\u001b[0m )\n\u001b[0;32m    462\u001b[0m roc_auc \u001b[38;5;241m=\u001b[39m auc(fpr, tpr)\n",
      "File \u001b[1;32m~\\AppData\\Local\\Programs\\Python\\Python39\\lib\\site-packages\\sklearn\\metrics\\_plot\\base.py:108\u001b[0m, in \u001b[0;36m_get_response\u001b[1;34m(X, estimator, response_method, pos_label)\u001b[0m\n\u001b[0;32m    106\u001b[0m     y_pred_shape \u001b[38;5;241m=\u001b[39m y_pred\u001b[38;5;241m.\u001b[39mshape[\u001b[38;5;241m1\u001b[39m]\n\u001b[0;32m    107\u001b[0m     \u001b[38;5;28;01mif\u001b[39;00m y_pred_shape \u001b[38;5;241m!=\u001b[39m \u001b[38;5;241m2\u001b[39m:\n\u001b[1;32m--> 108\u001b[0m         \u001b[38;5;28;01mraise\u001b[39;00m \u001b[38;5;167;01mValueError\u001b[39;00m(\n\u001b[0;32m    109\u001b[0m             \u001b[38;5;124mf\u001b[39m\u001b[38;5;124m\"\u001b[39m\u001b[38;5;132;01m{\u001b[39;00mclassification_error\u001b[38;5;132;01m}\u001b[39;00m\u001b[38;5;124m fit on multiclass (\u001b[39m\u001b[38;5;132;01m{\u001b[39;00my_pred_shape\u001b[38;5;132;01m}\u001b[39;00m\u001b[38;5;124m classes)\u001b[39m\u001b[38;5;124m\"\u001b[39m\n\u001b[0;32m    110\u001b[0m             \u001b[38;5;124m\"\u001b[39m\u001b[38;5;124m data\u001b[39m\u001b[38;5;124m\"\u001b[39m\n\u001b[0;32m    111\u001b[0m         )\n\u001b[0;32m    112\u001b[0m     y_pred \u001b[38;5;241m=\u001b[39m y_pred[:, class_idx]\n\u001b[0;32m    113\u001b[0m \u001b[38;5;28;01melif\u001b[39;00m pos_label \u001b[38;5;241m==\u001b[39m estimator\u001b[38;5;241m.\u001b[39mclasses_[\u001b[38;5;241m0\u001b[39m]:  \u001b[38;5;66;03m# `decision_function`\u001b[39;00m\n",
      "\u001b[1;31mValueError\u001b[0m: Expected 'estimator' to be a binary classifier, but got DecisionTreeClassifier fit on multiclass (12 classes) data"
     ]
    },
    {
     "data": {
      "text/plain": [
       "<Figure size 720x720 with 0 Axes>"
      ]
     },
     "metadata": {},
     "output_type": "display_data"
    }
   ],
   "source": [
    "plt.figure(figsize=(10,10))\n",
    "plot_roc_curve(dt, testX, testY)\n",
    "plt.show()"
   ]
  },
  {
   "cell_type": "code",
   "execution_count": 177,
   "id": "38ba5da4",
   "metadata": {},
   "outputs": [
    {
     "data": {
      "text/plain": [
       "<AxesSubplot:xlabel='release_date', ylabel='Count'>"
      ]
     },
     "execution_count": 177,
     "metadata": {},
     "output_type": "execute_result"
    },
    {
     "data": {
      "image/png": "[encoded data removed]",
      "text/plain": [
       "<Figure size 432x288 with 1 Axes>"
      ]
     },
     "metadata": {
      "needs_background": "light"
     },
     "output_type": "display_data"
    }
   ],
   "source": [
    "sn.histplot(dataset['release_date'], kde=0)"
   ]
  },
  {
   "cell_type": "code",
   "execution_count": 231,
   "id": "25df2465",
   "metadata": {},
   "outputs": [
    {
     "data": {
      "text/plain": [
       "<matplotlib.legend.Legend at 0x1d42e9d9d30>"
      ]
     },
     "execution_count": 231,
     "metadata": {},
     "output_type": "execute_result"
    },
    {
     "data": {
      "image/png": "[encoded data removed]",
      "text/plain": [
       "<Figure size 720x720 with 1 Axes>"
      ]
     },
     "metadata": {
      "needs_background": "light"
     },
     "output_type": "display_data"
    }
   ],
   "source": [
    "plt.figure(figsize=(10,10))\n",
    "for i in dataset.key.unique():\n",
    "    sn.histplot(dataset['release_date'][dataset.key==i], kde=True, label='{}'.format(i))\n",
    "plt.legend()"
   ]
  },
  {
   "cell_type": "code",
   "execution_count": 261,
   "id": "327abef8",
   "metadata": {},
   "outputs": [
    {
     "ename": "TypeError",
     "evalue": "'DataFrame' object is not callable",
     "output_type": "error",
     "traceback": [
      "\u001b[1;31m---------------------------------------------------------------------------\u001b[0m",
      "\u001b[1;31mTypeError\u001b[0m                                 Traceback (most recent call last)",
      "Input \u001b[1;32mIn [261]\u001b[0m, in \u001b[0;36m<cell line: 1>\u001b[1;34m()\u001b[0m\n\u001b[1;32m----> 1\u001b[0m X, y \u001b[38;5;241m=\u001b[39m \u001b[43mdataset\u001b[49m\u001b[43m(\u001b[49m\u001b[43mreturn_X_y\u001b[49m\u001b[38;5;241;43m=\u001b[39;49m\u001b[38;5;28;43;01mTrue\u001b[39;49;00m\u001b[43m)\u001b[49m\n\u001b[0;32m      2\u001b[0m \u001b[38;5;28mprint\u001b[39m(X\u001b[38;5;241m.\u001b[39mshape, y\u001b[38;5;241m.\u001b[39mshape)\n\u001b[0;32m      3\u001b[0m dt \u001b[38;5;241m=\u001b[39m DecisionTreeClassifier(criterion\u001b[38;5;241m=\u001b[39m\u001b[38;5;124m'\u001b[39m\u001b[38;5;124mentropy\u001b[39m\u001b[38;5;124m'\u001b[39m)\n",
      "\u001b[1;31mTypeError\u001b[0m: 'DataFrame' object is not callable"
     ]
    }
   ],
   "source": [
    "X, y = dataset(return_X_y=True)\n",
    "print(X.shape, y.shape)\n",
    "dt = DecisionTreeClassifier(criterion='entropy')"
   ]
  },
  {
   "cell_type": "code",
   "execution_count": 233,
   "id": "e305c2d5",
   "metadata": {},
   "outputs": [
    {
     "data": {
      "text/plain": [
       "array([0.08109596, 0.07334763, 0.07010978, 0.07618149, 0.07053283])"
      ]
     },
     "execution_count": 233,
     "metadata": {},
     "output_type": "execute_result"
    }
   ],
   "source": [
    "scores = cross_val_score(dt, X, y, cv=5, scoring='f1_macro')\n",
    "scores"
   ]
  },
  {
   "cell_type": "code",
   "execution_count": 236,
   "id": "8cbd04b9",
   "metadata": {},
   "outputs": [
    {
     "name": "stdout",
     "output_type": "stream",
     "text": [
      "0.07 f1 with a standard deviation of 0.00\n"
     ]
    }
   ],
   "source": [
    "print(\"%0.2f f1 with a standard deviation of %0.2f\" % (scores.mean(), scores.std()))"
   ]
  },
  {
   "cell_type": "code",
   "execution_count": 237,
   "id": "cfe705d2",
   "metadata": {},
   "outputs": [
    {
     "data": {
      "text/plain": [
       "{'fit_time': array([0.31920004, 0.25017118, 0.25699067, 0.24955344, 0.2359724 ]),\n",
       " 'score_time': array([0.00500011, 0.00500011, 0.00500512, 0.00500011, 0.01563907]),\n",
       " 'test_precision_macro': array([0.09616857, 0.17286403, 0.08248689, 0.09920364, 0.07749902]),\n",
       " 'test_recall_macro': array([0.09713736, 0.08922522, 0.08338668, 0.09014823, 0.0889913 ])}"
      ]
     },
     "execution_count": 237,
     "metadata": {},
     "output_type": "execute_result"
    }
   ],
   "source": [
    "scoring = ['precision_macro', 'recall_macro']\n",
    "scores = cross_validate(dt, X, y, cv=5, scoring=scoring)\n",
    "scores"
   ]
  },
  {
   "cell_type": "markdown",
   "id": "133b9f99",
   "metadata": {},
   "source": [
    "### Prunning"
   ]
  },
  {
   "cell_type": "code",
   "execution_count": 239,
   "id": "fb7324f3",
   "metadata": {},
   "outputs": [
    {
     "name": "stdout",
     "output_type": "stream",
     "text": [
      "[0.         0.00019451 0.00019451 ... 0.00095334 0.00106123 0.00164095] [0.00000000e+00 3.89010455e-04 7.78020909e-04 ... 8.97030618e-01\n",
      " 8.98091852e-01 8.99732804e-01]\n"
     ]
    }
   ],
   "source": [
    "X_train, X_test, y_train, y_test = train_test_split(X, y, random_state=0)\n",
    "\n",
    "clf = DecisionTreeClassifier(random_state=0)\n",
    "path = clf.cost_complexity_pruning_path(X_train, y_train)\n",
    "ccp_alphas, impurities = path.ccp_alphas, path.impurities\n",
    "print(ccp_alphas, impurities)"
   ]
  },
  {
   "cell_type": "code",
   "execution_count": 243,
   "id": "9e0fa370",
   "metadata": {},
   "outputs": [
    {
     "data": {
      "text/plain": [
       "Text(0.5, 1.0, 'Total Impurity vs effective alpha for training set')"
      ]
     },
     "execution_count": 243,
     "metadata": {},
     "output_type": "execute_result"
    },
    {
     "data": {
      "image/png": "[encoded data removed]",
      "text/plain": [
       "<Figure size 432x288 with 1 Axes>"
      ]
     },
     "metadata": {
      "needs_background": "light"
     },
     "output_type": "display_data"
    }
   ],
   "source": [
    "fig, ax = plt.subplots()\n",
    "ax.plot(ccp_alphas[:-1], impurities[:-1], marker='o', drawstyle=\"steps-post\")\n",
    "ax.set_xlabel(\"effective alpha\")\n",
    "ax.set_ylabel(\"total impurity of leaves\")\n",
    "ax.set_title(\"Total Impurity vs effective alpha for training set\")"
   ]
  },
  {
   "cell_type": "code",
   "execution_count": 244,
   "id": "fd5cdb6d",
   "metadata": {},
   "outputs": [],
   "source": [
    "clfs = []\n",
    "for ccp_alpha in ccp_alphas:\n",
    "        clf = DecisionTreeClassifier(random_state=0, ccp_alpha=ccp_alpha)\n",
    "        clf.fit(X_train, y_train)\n",
    "        clfs.append(clf)"
   ]
  },
  {
   "cell_type": "code",
   "execution_count": 251,
   "id": "5bf7bc10",
   "metadata": {},
   "outputs": [
    {
     "data": {
      "text/plain": [
       "Text(0, 0.5, 'total depth')"
      ]
     },
     "execution_count": 251,
     "metadata": {},
     "output_type": "execute_result"
    },
    {
     "data": {
      "image/png": "[encoded data removed]",
      "text/plain": [
       "<Figure size 720x432 with 1 Axes>"
      ]
     },
     "metadata": {
      "needs_background": "light"
     },
     "output_type": "display_data"
    }
   ],
   "source": [
    "tree_depths = [clf.tree_.max_depth for clf in clfs]\n",
    "plt.figure(figsize=(10,6))\n",
    "plt.plot(ccp_alphas[:-1], tree_depths[:-1])\n",
    "plt.xlabel(\"effective alpha\")\n",
    "plt.ylabel(\"total depth\")"
   ]
  },
  {
   "cell_type": "code",
   "execution_count": 252,
   "id": "593f005e",
   "metadata": {},
   "outputs": [
    {
     "data": {
      "text/plain": [
       "Text(0, 0.5, 'Accuracy scores')"
      ]
     },
     "execution_count": 252,
     "metadata": {},
     "output_type": "execute_result"
    },
    {
     "data": {
      "image/png": "[encoded data removed]",
      "text/plain": [
       "<Figure size 720x432 with 1 Axes>"
      ]
     },
     "metadata": {
      "needs_background": "light"
     },
     "output_type": "display_data"
    }
   ],
   "source": [
    "acc_scores = [accuracy_score(y_test, clf.predict(X_test)) for clf in clfs]\n",
    "\n",
    "tree_depths = [clf.tree_.max_depth for clf in clfs]\n",
    "plt.figure(figsize=(10,  6))\n",
    "plt.grid()\n",
    "plt.plot(ccp_alphas[:-1], acc_scores[:-1])\n",
    "plt.xlabel(\"effective alpha\")\n",
    "plt.ylabel(\"Accuracy scores\")"
   ]
  },
  {
   "cell_type": "code",
   "execution_count": 254,
   "id": "0bb96d46",
   "metadata": {},
   "outputs": [
    {
     "data": {
      "text/plain": [
       "RandomForestClassifier(max_depth=10, max_samples=15)"
      ]
     },
     "execution_count": 254,
     "metadata": {},
     "output_type": "execute_result"
    }
   ],
   "source": [
    "clf = RandomForestClassifier(max_depth=10, max_samples=15)\n",
    "clf.fit(X_train, y_train)"
   ]
  },
  {
   "cell_type": "code",
   "execution_count": 257,
   "id": "28031d3d",
   "metadata": {},
   "outputs": [
    {
     "data": {
      "text/plain": [
       "array([9, 0, 9, ..., 7, 0, 9], dtype=int64)"
      ]
     },
     "execution_count": 257,
     "metadata": {},
     "output_type": "execute_result"
    }
   ],
   "source": [
    "y_predicted = clf.predict(X_test)\n",
    "y_predicted"
   ]
  },
  {
   "cell_type": "code",
   "execution_count": 256,
   "id": "784c67bd",
   "metadata": {},
   "outputs": [
    {
     "data": {
      "text/plain": [
       "array([[1],\n",
       "       [9],\n",
       "       [0],\n",
       "       ...,\n",
       "       [9],\n",
       "       [7],\n",
       "       [8]], dtype=int64)"
      ]
     },
     "execution_count": 256,
     "metadata": {},
     "output_type": "execute_result"
    }
   ],
   "source": [
    "y_test"
   ]
  },
  {
   "cell_type": "code",
   "execution_count": 258,
   "id": "d80d504d",
   "metadata": {},
   "outputs": [
    {
     "data": {
      "text/plain": [
       "0.1363967906637491"
      ]
     },
     "execution_count": 258,
     "metadata": {},
     "output_type": "execute_result"
    }
   ],
   "source": [
    "accuracy_score(y_test, y_predicted)"
   ]
  },
  {
   "cell_type": "code",
   "execution_count": 14,
   "id": "403f906a",
   "metadata": {},
   "outputs": [
    {
     "name": "stdout",
     "output_type": "stream",
     "text": [
      "Note: you may need to restart the kernel to use updated packages.\n"
     ]
    },
    {
     "name": "stderr",
     "output_type": "stream",
     "text": [
      "ERROR: Could not find a version that satisfies the requirement python-graphviz (from versions: none)\n",
      "ERROR: No matching distribution found for python-graphviz\n"
     ]
    }
   ],
   "source": [
    "pip install python-graphviz"
   ]
  },
  {
   "cell_type": "code",
   "execution_count": 15,
   "id": "528d006f",
   "metadata": {},
   "outputs": [
    {
     "name": "stdout",
     "output_type": "stream",
     "text": [
      "Collecting pydot\n",
      "  Downloading pydot-1.4.2-py2.py3-none-any.whl (21 kB)\n",
      "Requirement already satisfied: pyparsing>=2.1.4 in c:\\users\\danilo\\appdata\\local\\programs\\python\\python39\\lib\\site-packages (from pydot) (3.0.7)\n",
      "Installing collected packages: pydot\n",
      "Successfully installed pydot-1.4.2\n",
      "Note: you may need to restart the kernel to use updated packages.\n"
     ]
    }
   ],
   "source": [
    "pip install pydot"
   ]
  },
  {
   "cell_type": "code",
   "execution_count": null,
   "id": "63140ea5",
   "metadata": {},
   "outputs": [],
   "source": []
  }
 ],
 "metadata": {
  "kernelspec": {
   "display_name": "Python 3 (ipykernel)",
   "language": "python",
   "name": "python3"
  },
  "language_info": {
   "codemirror_mode": {
    "name": "ipython",
    "version": 3
   },
   "file_extension": ".py",
   "mimetype": "text/x-python",
   "name": "python",
   "nbconvert_exporter": "python",
   "pygments_lexer": "ipython3",
   "version": "3.9.2"
  }
 },
 "nbformat": 4,
 "nbformat_minor": 5
}
