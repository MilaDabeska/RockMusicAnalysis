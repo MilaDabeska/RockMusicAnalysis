{
 "cells": [
  {
   "cell_type": "code",
   "execution_count": 1,
   "id": "fe5a48bb",
   "metadata": {},
   "outputs": [],
   "source": [
    "import numpy as np\n",
    "import matplotlib.pyplot as plt\n",
    "import pandas as pd\n",
    "from sklearn.tree import DecisionTreeClassifier\n",
    "from sklearn.naive_bayes import GaussianNB\n",
    "from sklearn.model_selection import train_test_split, LeaveOneOut, cross_val_score, cross_validate, cross_val_predict\n",
    "from sklearn.preprocessing import OneHotEncoder, LabelEncoder, StandardScaler\n",
    "from sklearn.metrics import accuracy_score, precision_score, recall_score, f1_score, plot_roc_curve\n",
    "from sklearn.neighbors import KNeighborsClassifier\n",
    "from sklearn.metrics import confusion_matrix, classification_report, f1_score, accuracy_score, precision_score, recall_score, plot_roc_curve, mean_squared_error\n",
    "from sklearn.neighbors import KNeighborsRegressor\n",
    "from sklearn.ensemble import RandomForestClassifier\n",
    "from pomegranate import *\n",
    "from sklearn import preprocessing\n",
    "import seaborn as sn\n",
    "%matplotlib inline\n",
    "import warnings\n",
    "warnings.filterwarnings(\"ignore\")"
   ]
  },
  {
   "cell_type": "code",
   "execution_count": 2,
   "id": "16559f02",
   "metadata": {},
   "outputs": [
    {
     "data": {
      "text/html": [
       "<div>\n",
       "<style scoped>\n",
       "    .dataframe tbody tr th:only-of-type {\n",
       "        vertical-align: middle;\n",
       "    }\n",
       "\n",
       "    .dataframe tbody tr th {\n",
       "        vertical-align: top;\n",
       "    }\n",
       "\n",
       "    .dataframe thead th {\n",
       "        text-align: right;\n",
       "    }\n",
       "</style>\n",
       "<table border=\"1\" class=\"dataframe\">\n",
       "  <thead>\n",
       "    <tr style=\"text-align: right;\">\n",
       "      <th></th>\n",
       "      <th>artist</th>\n",
       "      <th>release_date</th>\n",
       "      <th>duration</th>\n",
       "      <th>popularity</th>\n",
       "      <th>danceability</th>\n",
       "      <th>acousticness</th>\n",
       "      <th>energy</th>\n",
       "      <th>instrumentalness</th>\n",
       "      <th>key</th>\n",
       "      <th>liveness</th>\n",
       "      <th>loudness</th>\n",
       "      <th>speechiness</th>\n",
       "      <th>tempo</th>\n",
       "      <th>time_signature</th>\n",
       "      <th>valence</th>\n",
       "      <th>hit</th>\n",
       "    </tr>\n",
       "    <tr>\n",
       "      <th>name</th>\n",
       "      <th></th>\n",
       "      <th></th>\n",
       "      <th></th>\n",
       "      <th></th>\n",
       "      <th></th>\n",
       "      <th></th>\n",
       "      <th></th>\n",
       "      <th></th>\n",
       "      <th></th>\n",
       "      <th></th>\n",
       "      <th></th>\n",
       "      <th></th>\n",
       "      <th></th>\n",
       "      <th></th>\n",
       "      <th></th>\n",
       "      <th></th>\n",
       "    </tr>\n",
       "  </thead>\n",
       "  <tbody>\n",
       "    <tr>\n",
       "      <th>Smells Like Teen Spirit</th>\n",
       "      <td>Nirvana</td>\n",
       "      <td>1991</td>\n",
       "      <td>5.03</td>\n",
       "      <td>74</td>\n",
       "      <td>0.502</td>\n",
       "      <td>0.000025</td>\n",
       "      <td>0.912</td>\n",
       "      <td>0.000173</td>\n",
       "      <td>1</td>\n",
       "      <td>0.1060</td>\n",
       "      <td>-4.556</td>\n",
       "      <td>0.0564</td>\n",
       "      <td>116.761</td>\n",
       "      <td>4</td>\n",
       "      <td>0.720</td>\n",
       "      <td>1</td>\n",
       "    </tr>\n",
       "    <tr>\n",
       "      <th>Stairway to Heaven - Remaster</th>\n",
       "      <td>Led Zeppelin</td>\n",
       "      <td>1971</td>\n",
       "      <td>8.05</td>\n",
       "      <td>78</td>\n",
       "      <td>0.338</td>\n",
       "      <td>0.580000</td>\n",
       "      <td>0.340</td>\n",
       "      <td>0.003200</td>\n",
       "      <td>9</td>\n",
       "      <td>0.1160</td>\n",
       "      <td>-12.049</td>\n",
       "      <td>0.0339</td>\n",
       "      <td>82.433</td>\n",
       "      <td>4</td>\n",
       "      <td>0.197</td>\n",
       "      <td>1</td>\n",
       "    </tr>\n",
       "    <tr>\n",
       "      <th>Bohemian Rhapsody - Remastered 2011</th>\n",
       "      <td>Queen</td>\n",
       "      <td>1975</td>\n",
       "      <td>5.91</td>\n",
       "      <td>74</td>\n",
       "      <td>0.392</td>\n",
       "      <td>0.288000</td>\n",
       "      <td>0.402</td>\n",
       "      <td>0.000000</td>\n",
       "      <td>0</td>\n",
       "      <td>0.2430</td>\n",
       "      <td>-9.961</td>\n",
       "      <td>0.0536</td>\n",
       "      <td>143.883</td>\n",
       "      <td>4</td>\n",
       "      <td>0.228</td>\n",
       "      <td>1</td>\n",
       "    </tr>\n",
       "    <tr>\n",
       "      <th>Imagine - Remastered 2010</th>\n",
       "      <td>John Lennon</td>\n",
       "      <td>1971</td>\n",
       "      <td>3.13</td>\n",
       "      <td>77</td>\n",
       "      <td>0.547</td>\n",
       "      <td>0.907000</td>\n",
       "      <td>0.257</td>\n",
       "      <td>0.183000</td>\n",
       "      <td>0</td>\n",
       "      <td>0.0935</td>\n",
       "      <td>-12.358</td>\n",
       "      <td>0.0252</td>\n",
       "      <td>75.752</td>\n",
       "      <td>4</td>\n",
       "      <td>0.169</td>\n",
       "      <td>1</td>\n",
       "    </tr>\n",
       "    <tr>\n",
       "      <th>(I Can't Get No) Satisfaction - Mono Version</th>\n",
       "      <td>The Rolling Stones</td>\n",
       "      <td>1965</td>\n",
       "      <td>3.71</td>\n",
       "      <td>77</td>\n",
       "      <td>0.723</td>\n",
       "      <td>0.038300</td>\n",
       "      <td>0.863</td>\n",
       "      <td>0.031700</td>\n",
       "      <td>2</td>\n",
       "      <td>0.1280</td>\n",
       "      <td>-7.890</td>\n",
       "      <td>0.0338</td>\n",
       "      <td>136.302</td>\n",
       "      <td>4</td>\n",
       "      <td>0.931</td>\n",
       "      <td>1</td>\n",
       "    </tr>\n",
       "    <tr>\n",
       "      <th>...</th>\n",
       "      <td>...</td>\n",
       "      <td>...</td>\n",
       "      <td>...</td>\n",
       "      <td>...</td>\n",
       "      <td>...</td>\n",
       "      <td>...</td>\n",
       "      <td>...</td>\n",
       "      <td>...</td>\n",
       "      <td>...</td>\n",
       "      <td>...</td>\n",
       "      <td>...</td>\n",
       "      <td>...</td>\n",
       "      <td>...</td>\n",
       "      <td>...</td>\n",
       "      <td>...</td>\n",
       "      <td>...</td>\n",
       "    </tr>\n",
       "    <tr>\n",
       "      <th>I'm In Your Mind</th>\n",
       "      <td>King Gizzard &amp; The Lizard Wizard</td>\n",
       "      <td>2014</td>\n",
       "      <td>3.56</td>\n",
       "      <td>47</td>\n",
       "      <td>0.296</td>\n",
       "      <td>0.005910</td>\n",
       "      <td>0.776</td>\n",
       "      <td>0.801000</td>\n",
       "      <td>6</td>\n",
       "      <td>0.5970</td>\n",
       "      <td>-5.630</td>\n",
       "      <td>0.0597</td>\n",
       "      <td>93.481</td>\n",
       "      <td>4</td>\n",
       "      <td>0.406</td>\n",
       "      <td>0</td>\n",
       "    </tr>\n",
       "    <tr>\n",
       "      <th>Cellophane</th>\n",
       "      <td>King Gizzard &amp; The Lizard Wizard</td>\n",
       "      <td>2014</td>\n",
       "      <td>3.18</td>\n",
       "      <td>44</td>\n",
       "      <td>0.432</td>\n",
       "      <td>0.002130</td>\n",
       "      <td>0.887</td>\n",
       "      <td>0.916000</td>\n",
       "      <td>7</td>\n",
       "      <td>0.1200</td>\n",
       "      <td>-6.175</td>\n",
       "      <td>0.1230</td>\n",
       "      <td>92.965</td>\n",
       "      <td>4</td>\n",
       "      <td>0.357</td>\n",
       "      <td>0</td>\n",
       "    </tr>\n",
       "    <tr>\n",
       "      <th>Hot Water</th>\n",
       "      <td>King Gizzard &amp; The Lizard Wizard</td>\n",
       "      <td>2014</td>\n",
       "      <td>3.40</td>\n",
       "      <td>40</td>\n",
       "      <td>0.627</td>\n",
       "      <td>0.860000</td>\n",
       "      <td>0.609</td>\n",
       "      <td>0.890000</td>\n",
       "      <td>9</td>\n",
       "      <td>0.1160</td>\n",
       "      <td>-9.387</td>\n",
       "      <td>0.0332</td>\n",
       "      <td>86.861</td>\n",
       "      <td>4</td>\n",
       "      <td>0.734</td>\n",
       "      <td>0</td>\n",
       "    </tr>\n",
       "    <tr>\n",
       "      <th>Vitamin C - 2004 Remastered Version</th>\n",
       "      <td>CAN</td>\n",
       "      <td>1972</td>\n",
       "      <td>3.57</td>\n",
       "      <td>52</td>\n",
       "      <td>0.643</td>\n",
       "      <td>0.006690</td>\n",
       "      <td>0.644</td>\n",
       "      <td>0.673000</td>\n",
       "      <td>4</td>\n",
       "      <td>0.1620</td>\n",
       "      <td>-12.615</td>\n",
       "      <td>0.0462</td>\n",
       "      <td>117.225</td>\n",
       "      <td>4</td>\n",
       "      <td>0.853</td>\n",
       "      <td>0</td>\n",
       "    </tr>\n",
       "    <tr>\n",
       "      <th>~</th>\n",
       "      <td>Touché Amoré</td>\n",
       "      <td>2011</td>\n",
       "      <td>1.49</td>\n",
       "      <td>0</td>\n",
       "      <td>0.222</td>\n",
       "      <td>0.000258</td>\n",
       "      <td>0.959</td>\n",
       "      <td>0.000275</td>\n",
       "      <td>6</td>\n",
       "      <td>0.1540</td>\n",
       "      <td>-5.134</td>\n",
       "      <td>0.2080</td>\n",
       "      <td>161.693</td>\n",
       "      <td>4</td>\n",
       "      <td>0.128</td>\n",
       "      <td>0</td>\n",
       "    </tr>\n",
       "  </tbody>\n",
       "</table>\n",
       "<p>5484 rows × 16 columns</p>\n",
       "</div>"
      ],
      "text/plain": [
       "                                                                        artist  \\\n",
       "name                                                                             \n",
       "Smells Like Teen Spirit                                                Nirvana   \n",
       "Stairway to Heaven - Remaster                                     Led Zeppelin   \n",
       "Bohemian Rhapsody - Remastered 2011                                      Queen   \n",
       "Imagine - Remastered 2010                                          John Lennon   \n",
       "(I Can't Get No) Satisfaction - Mono Version                The Rolling Stones   \n",
       "...                                                                        ...   \n",
       "I'm In Your Mind                              King Gizzard & The Lizard Wizard   \n",
       "Cellophane                                    King Gizzard & The Lizard Wizard   \n",
       "Hot Water                                     King Gizzard & The Lizard Wizard   \n",
       "Vitamin C - 2004 Remastered Version                                        CAN   \n",
       "~                                                                 Touché Amoré   \n",
       "\n",
       "                                              release_date  duration  \\\n",
       "name                                                                   \n",
       "Smells Like Teen Spirit                               1991      5.03   \n",
       "Stairway to Heaven - Remaster                         1971      8.05   \n",
       "Bohemian Rhapsody - Remastered 2011                   1975      5.91   \n",
       "Imagine - Remastered 2010                             1971      3.13   \n",
       "(I Can't Get No) Satisfaction - Mono Version          1965      3.71   \n",
       "...                                                    ...       ...   \n",
       "I'm In Your Mind                                      2014      3.56   \n",
       "Cellophane                                            2014      3.18   \n",
       "Hot Water                                             2014      3.40   \n",
       "Vitamin C - 2004 Remastered Version                   1972      3.57   \n",
       "~                                                     2011      1.49   \n",
       "\n",
       "                                              popularity  danceability  \\\n",
       "name                                                                     \n",
       "Smells Like Teen Spirit                               74         0.502   \n",
       "Stairway to Heaven - Remaster                         78         0.338   \n",
       "Bohemian Rhapsody - Remastered 2011                   74         0.392   \n",
       "Imagine - Remastered 2010                             77         0.547   \n",
       "(I Can't Get No) Satisfaction - Mono Version          77         0.723   \n",
       "...                                                  ...           ...   \n",
       "I'm In Your Mind                                      47         0.296   \n",
       "Cellophane                                            44         0.432   \n",
       "Hot Water                                             40         0.627   \n",
       "Vitamin C - 2004 Remastered Version                   52         0.643   \n",
       "~                                                      0         0.222   \n",
       "\n",
       "                                              acousticness  energy  \\\n",
       "name                                                                 \n",
       "Smells Like Teen Spirit                           0.000025   0.912   \n",
       "Stairway to Heaven - Remaster                     0.580000   0.340   \n",
       "Bohemian Rhapsody - Remastered 2011               0.288000   0.402   \n",
       "Imagine - Remastered 2010                         0.907000   0.257   \n",
       "(I Can't Get No) Satisfaction - Mono Version      0.038300   0.863   \n",
       "...                                                    ...     ...   \n",
       "I'm In Your Mind                                  0.005910   0.776   \n",
       "Cellophane                                        0.002130   0.887   \n",
       "Hot Water                                         0.860000   0.609   \n",
       "Vitamin C - 2004 Remastered Version               0.006690   0.644   \n",
       "~                                                 0.000258   0.959   \n",
       "\n",
       "                                              instrumentalness  key  liveness  \\\n",
       "name                                                                            \n",
       "Smells Like Teen Spirit                               0.000173    1    0.1060   \n",
       "Stairway to Heaven - Remaster                         0.003200    9    0.1160   \n",
       "Bohemian Rhapsody - Remastered 2011                   0.000000    0    0.2430   \n",
       "Imagine - Remastered 2010                             0.183000    0    0.0935   \n",
       "(I Can't Get No) Satisfaction - Mono Version          0.031700    2    0.1280   \n",
       "...                                                        ...  ...       ...   \n",
       "I'm In Your Mind                                      0.801000    6    0.5970   \n",
       "Cellophane                                            0.916000    7    0.1200   \n",
       "Hot Water                                             0.890000    9    0.1160   \n",
       "Vitamin C - 2004 Remastered Version                   0.673000    4    0.1620   \n",
       "~                                                     0.000275    6    0.1540   \n",
       "\n",
       "                                              loudness  speechiness    tempo  \\\n",
       "name                                                                           \n",
       "Smells Like Teen Spirit                         -4.556       0.0564  116.761   \n",
       "Stairway to Heaven - Remaster                  -12.049       0.0339   82.433   \n",
       "Bohemian Rhapsody - Remastered 2011             -9.961       0.0536  143.883   \n",
       "Imagine - Remastered 2010                      -12.358       0.0252   75.752   \n",
       "(I Can't Get No) Satisfaction - Mono Version    -7.890       0.0338  136.302   \n",
       "...                                                ...          ...      ...   \n",
       "I'm In Your Mind                                -5.630       0.0597   93.481   \n",
       "Cellophane                                      -6.175       0.1230   92.965   \n",
       "Hot Water                                       -9.387       0.0332   86.861   \n",
       "Vitamin C - 2004 Remastered Version            -12.615       0.0462  117.225   \n",
       "~                                               -5.134       0.2080  161.693   \n",
       "\n",
       "                                              time_signature  valence  hit  \n",
       "name                                                                        \n",
       "Smells Like Teen Spirit                                    4    0.720    1  \n",
       "Stairway to Heaven - Remaster                              4    0.197    1  \n",
       "Bohemian Rhapsody - Remastered 2011                        4    0.228    1  \n",
       "Imagine - Remastered 2010                                  4    0.169    1  \n",
       "(I Can't Get No) Satisfaction - Mono Version               4    0.931    1  \n",
       "...                                                      ...      ...  ...  \n",
       "I'm In Your Mind                                           4    0.406    0  \n",
       "Cellophane                                                 4    0.357    0  \n",
       "Hot Water                                                  4    0.734    0  \n",
       "Vitamin C - 2004 Remastered Version                        4    0.853    0  \n",
       "~                                                          4    0.128    0  \n",
       "\n",
       "[5484 rows x 16 columns]"
      ]
     },
     "execution_count": 2,
     "metadata": {},
     "output_type": "execute_result"
    }
   ],
   "source": [
    "dataset=pd.read_csv('data/rock_music.csv')\n",
    "dataset.set_index('name', inplace=True)\n",
    "dataset"
   ]
  },
  {
   "cell_type": "markdown",
   "id": "a8739152-dd55-48bf-b797-d8a2cf67d728",
   "metadata": {},
   "source": [
    "&nbsp;"
   ]
  },
  {
   "cell_type": "markdown",
   "id": "712a0616-e246-432b-a173-b29ab9707361",
   "metadata": {},
   "source": [
    "Поделба на податоците"
   ]
  },
  {
   "cell_type": "code",
   "execution_count": 3,
   "id": "df2517d6",
   "metadata": {},
   "outputs": [],
   "source": [
    "features = dataset.columns.drop(['hit'])\n",
    "labels = ['hit']\n",
    "\n",
    "X = dataset[features]\n",
    "Y = dataset[labels]"
   ]
  },
  {
   "cell_type": "code",
   "execution_count": 4,
   "id": "3b4bc807-a200-4bae-b2d1-7aae57edfc33",
   "metadata": {},
   "outputs": [
    {
     "data": {
      "text/html": [
       "<div>\n",
       "<style scoped>\n",
       "    .dataframe tbody tr th:only-of-type {\n",
       "        vertical-align: middle;\n",
       "    }\n",
       "\n",
       "    .dataframe tbody tr th {\n",
       "        vertical-align: top;\n",
       "    }\n",
       "\n",
       "    .dataframe thead th {\n",
       "        text-align: right;\n",
       "    }\n",
       "</style>\n",
       "<table border=\"1\" class=\"dataframe\">\n",
       "  <thead>\n",
       "    <tr style=\"text-align: right;\">\n",
       "      <th></th>\n",
       "      <th>artist</th>\n",
       "      <th>release_date</th>\n",
       "      <th>duration</th>\n",
       "      <th>popularity</th>\n",
       "      <th>danceability</th>\n",
       "      <th>acousticness</th>\n",
       "      <th>energy</th>\n",
       "      <th>instrumentalness</th>\n",
       "      <th>key</th>\n",
       "      <th>liveness</th>\n",
       "      <th>loudness</th>\n",
       "      <th>speechiness</th>\n",
       "      <th>tempo</th>\n",
       "      <th>time_signature</th>\n",
       "      <th>valence</th>\n",
       "    </tr>\n",
       "    <tr>\n",
       "      <th>name</th>\n",
       "      <th></th>\n",
       "      <th></th>\n",
       "      <th></th>\n",
       "      <th></th>\n",
       "      <th></th>\n",
       "      <th></th>\n",
       "      <th></th>\n",
       "      <th></th>\n",
       "      <th></th>\n",
       "      <th></th>\n",
       "      <th></th>\n",
       "      <th></th>\n",
       "      <th></th>\n",
       "      <th></th>\n",
       "      <th></th>\n",
       "    </tr>\n",
       "  </thead>\n",
       "  <tbody>\n",
       "    <tr>\n",
       "      <th>Smells Like Teen Spirit</th>\n",
       "      <td>942</td>\n",
       "      <td>1991</td>\n",
       "      <td>5.03</td>\n",
       "      <td>74</td>\n",
       "      <td>0.502</td>\n",
       "      <td>0.000025</td>\n",
       "      <td>0.912</td>\n",
       "      <td>0.000173</td>\n",
       "      <td>1</td>\n",
       "      <td>0.1060</td>\n",
       "      <td>-4.556</td>\n",
       "      <td>0.0564</td>\n",
       "      <td>116.761</td>\n",
       "      <td>4</td>\n",
       "      <td>0.720</td>\n",
       "    </tr>\n",
       "    <tr>\n",
       "      <th>Stairway to Heaven - Remaster</th>\n",
       "      <td>772</td>\n",
       "      <td>1971</td>\n",
       "      <td>8.05</td>\n",
       "      <td>78</td>\n",
       "      <td>0.338</td>\n",
       "      <td>0.580000</td>\n",
       "      <td>0.340</td>\n",
       "      <td>0.003200</td>\n",
       "      <td>9</td>\n",
       "      <td>0.1160</td>\n",
       "      <td>-12.049</td>\n",
       "      <td>0.0339</td>\n",
       "      <td>82.433</td>\n",
       "      <td>4</td>\n",
       "      <td>0.197</td>\n",
       "    </tr>\n",
       "    <tr>\n",
       "      <th>Bohemian Rhapsody - Remastered 2011</th>\n",
       "      <td>1045</td>\n",
       "      <td>1975</td>\n",
       "      <td>5.91</td>\n",
       "      <td>74</td>\n",
       "      <td>0.392</td>\n",
       "      <td>0.288000</td>\n",
       "      <td>0.402</td>\n",
       "      <td>0.000000</td>\n",
       "      <td>0</td>\n",
       "      <td>0.2430</td>\n",
       "      <td>-9.961</td>\n",
       "      <td>0.0536</td>\n",
       "      <td>143.883</td>\n",
       "      <td>4</td>\n",
       "      <td>0.228</td>\n",
       "    </tr>\n",
       "    <tr>\n",
       "      <th>Imagine - Remastered 2010</th>\n",
       "      <td>704</td>\n",
       "      <td>1971</td>\n",
       "      <td>3.13</td>\n",
       "      <td>77</td>\n",
       "      <td>0.547</td>\n",
       "      <td>0.907000</td>\n",
       "      <td>0.257</td>\n",
       "      <td>0.183000</td>\n",
       "      <td>0</td>\n",
       "      <td>0.0935</td>\n",
       "      <td>-12.358</td>\n",
       "      <td>0.0252</td>\n",
       "      <td>75.752</td>\n",
       "      <td>4</td>\n",
       "      <td>0.169</td>\n",
       "    </tr>\n",
       "    <tr>\n",
       "      <th>(I Can't Get No) Satisfaction - Mono Version</th>\n",
       "      <td>1516</td>\n",
       "      <td>1965</td>\n",
       "      <td>3.71</td>\n",
       "      <td>77</td>\n",
       "      <td>0.723</td>\n",
       "      <td>0.038300</td>\n",
       "      <td>0.863</td>\n",
       "      <td>0.031700</td>\n",
       "      <td>2</td>\n",
       "      <td>0.1280</td>\n",
       "      <td>-7.890</td>\n",
       "      <td>0.0338</td>\n",
       "      <td>136.302</td>\n",
       "      <td>4</td>\n",
       "      <td>0.931</td>\n",
       "    </tr>\n",
       "  </tbody>\n",
       "</table>\n",
       "</div>"
      ],
      "text/plain": [
       "                                              artist  release_date  duration  \\\n",
       "name                                                                           \n",
       "Smells Like Teen Spirit                          942          1991      5.03   \n",
       "Stairway to Heaven - Remaster                    772          1971      8.05   \n",
       "Bohemian Rhapsody - Remastered 2011             1045          1975      5.91   \n",
       "Imagine - Remastered 2010                        704          1971      3.13   \n",
       "(I Can't Get No) Satisfaction - Mono Version    1516          1965      3.71   \n",
       "\n",
       "                                              popularity  danceability  \\\n",
       "name                                                                     \n",
       "Smells Like Teen Spirit                               74         0.502   \n",
       "Stairway to Heaven - Remaster                         78         0.338   \n",
       "Bohemian Rhapsody - Remastered 2011                   74         0.392   \n",
       "Imagine - Remastered 2010                             77         0.547   \n",
       "(I Can't Get No) Satisfaction - Mono Version          77         0.723   \n",
       "\n",
       "                                              acousticness  energy  \\\n",
       "name                                                                 \n",
       "Smells Like Teen Spirit                           0.000025   0.912   \n",
       "Stairway to Heaven - Remaster                     0.580000   0.340   \n",
       "Bohemian Rhapsody - Remastered 2011               0.288000   0.402   \n",
       "Imagine - Remastered 2010                         0.907000   0.257   \n",
       "(I Can't Get No) Satisfaction - Mono Version      0.038300   0.863   \n",
       "\n",
       "                                              instrumentalness  key  liveness  \\\n",
       "name                                                                            \n",
       "Smells Like Teen Spirit                               0.000173    1    0.1060   \n",
       "Stairway to Heaven - Remaster                         0.003200    9    0.1160   \n",
       "Bohemian Rhapsody - Remastered 2011                   0.000000    0    0.2430   \n",
       "Imagine - Remastered 2010                             0.183000    0    0.0935   \n",
       "(I Can't Get No) Satisfaction - Mono Version          0.031700    2    0.1280   \n",
       "\n",
       "                                              loudness  speechiness    tempo  \\\n",
       "name                                                                           \n",
       "Smells Like Teen Spirit                         -4.556       0.0564  116.761   \n",
       "Stairway to Heaven - Remaster                  -12.049       0.0339   82.433   \n",
       "Bohemian Rhapsody - Remastered 2011             -9.961       0.0536  143.883   \n",
       "Imagine - Remastered 2010                      -12.358       0.0252   75.752   \n",
       "(I Can't Get No) Satisfaction - Mono Version    -7.890       0.0338  136.302   \n",
       "\n",
       "                                              time_signature  valence  \n",
       "name                                                                   \n",
       "Smells Like Teen Spirit                                    4    0.720  \n",
       "Stairway to Heaven - Remaster                              4    0.197  \n",
       "Bohemian Rhapsody - Remastered 2011                        4    0.228  \n",
       "Imagine - Remastered 2010                                  4    0.169  \n",
       "(I Can't Get No) Satisfaction - Mono Version               4    0.931  "
      ]
     },
     "execution_count": 4,
     "metadata": {},
     "output_type": "execute_result"
    }
   ],
   "source": [
    "encoder =  LabelEncoder()\n",
    "X['artist'] = encoder.fit_transform(X['artist'])\n",
    "X.head()"
   ]
  },
  {
   "cell_type": "code",
   "execution_count": 5,
   "id": "3973af9b-db1e-461d-b28e-e9c792184eb0",
   "metadata": {},
   "outputs": [],
   "source": [
    "scaler = StandardScaler()"
   ]
  },
  {
   "cell_type": "code",
   "execution_count": 6,
   "id": "b8b15fc9",
   "metadata": {},
   "outputs": [],
   "source": [
    "trainX, testX, trainY, testY = train_test_split(X, Y, test_size=0.2)"
   ]
  },
  {
   "cell_type": "code",
   "execution_count": 7,
   "id": "a229e51b-2c8c-47e8-a0fe-4381f09a73ed",
   "metadata": {},
   "outputs": [],
   "source": [
    "scaler.fit(trainX)\n",
    "trainX = scaler.transform(trainX)\n",
    "testX = scaler.transform(testX)\n",
    "X = pd.DataFrame(scaler.transform(X))"
   ]
  },
  {
   "cell_type": "code",
   "execution_count": 8,
   "id": "7b997fd6",
   "metadata": {},
   "outputs": [
    {
     "data": {
      "text/plain": [
       "0    2844\n",
       "1    2640\n",
       "Name: hit, dtype: int64"
      ]
     },
     "execution_count": 8,
     "metadata": {},
     "output_type": "execute_result"
    }
   ],
   "source": [
    "dataset.hit.value_counts()"
   ]
  },
  {
   "cell_type": "markdown",
   "id": "27722d84-bf96-4dc5-b321-fcfa9a56b3ed",
   "metadata": {},
   "source": [
    "&nbsp;"
   ]
  },
  {
   "cell_type": "markdown",
   "id": "e0a30f1b",
   "metadata": {},
   "source": [
    "## Decision Tree Classifier"
   ]
  },
  {
   "cell_type": "code",
   "execution_count": 9,
   "id": "8607ff88",
   "metadata": {},
   "outputs": [
    {
     "data": {
      "text/plain": [
       "DecisionTreeClassifier(criterion='entropy', max_depth=7)"
      ]
     },
     "execution_count": 9,
     "metadata": {},
     "output_type": "execute_result"
    }
   ],
   "source": [
    "dt = DecisionTreeClassifier(criterion = 'entropy', max_depth=7)\n",
    "dt.fit(trainX, trainY)"
   ]
  },
  {
   "cell_type": "code",
   "execution_count": 10,
   "id": "87b4cf44",
   "metadata": {},
   "outputs": [],
   "source": [
    "predicted = dt.predict(testX)"
   ]
  },
  {
   "cell_type": "code",
   "execution_count": 11,
   "id": "83755b83",
   "metadata": {},
   "outputs": [
    {
     "data": {
      "text/plain": [
       "array([0., 0., 0., 1., 0., 0., 0., 0., 0., 0., 0., 0., 0., 0., 0.])"
      ]
     },
     "execution_count": 11,
     "metadata": {},
     "output_type": "execute_result"
    }
   ],
   "source": [
    "dt.feature_importances_"
   ]
  },
  {
   "cell_type": "code",
   "execution_count": 12,
   "id": "8fef4e3e",
   "metadata": {},
   "outputs": [
    {
     "data": {
      "text/html": [
       "<div>\n",
       "<style scoped>\n",
       "    .dataframe tbody tr th:only-of-type {\n",
       "        vertical-align: middle;\n",
       "    }\n",
       "\n",
       "    .dataframe tbody tr th {\n",
       "        vertical-align: top;\n",
       "    }\n",
       "\n",
       "    .dataframe thead th {\n",
       "        text-align: right;\n",
       "    }\n",
       "</style>\n",
       "<table border=\"1\" class=\"dataframe\">\n",
       "  <thead>\n",
       "    <tr style=\"text-align: right;\">\n",
       "      <th></th>\n",
       "      <th>actual</th>\n",
       "      <th>predicted</th>\n",
       "    </tr>\n",
       "    <tr>\n",
       "      <th>name</th>\n",
       "      <th></th>\n",
       "      <th></th>\n",
       "    </tr>\n",
       "  </thead>\n",
       "  <tbody>\n",
       "    <tr>\n",
       "      <th>When Something Is Wrong With My Baby (feat. John Farnham) - Live At The Palais</th>\n",
       "      <td>0</td>\n",
       "      <td>0</td>\n",
       "    </tr>\n",
       "    <tr>\n",
       "      <th>No Ordinary Thing</th>\n",
       "      <td>0</td>\n",
       "      <td>0</td>\n",
       "    </tr>\n",
       "    <tr>\n",
       "      <th>Chest Fever - Remastered</th>\n",
       "      <td>0</td>\n",
       "      <td>0</td>\n",
       "    </tr>\n",
       "    <tr>\n",
       "      <th>YYZ</th>\n",
       "      <td>1</td>\n",
       "      <td>1</td>\n",
       "    </tr>\n",
       "    <tr>\n",
       "      <th>Mother</th>\n",
       "      <td>1</td>\n",
       "      <td>1</td>\n",
       "    </tr>\n",
       "    <tr>\n",
       "      <th>...</th>\n",
       "      <td>...</td>\n",
       "      <td>...</td>\n",
       "    </tr>\n",
       "    <tr>\n",
       "      <th>Sweet Mary Jane</th>\n",
       "      <td>0</td>\n",
       "      <td>0</td>\n",
       "    </tr>\n",
       "    <tr>\n",
       "      <th>Gloria</th>\n",
       "      <td>1</td>\n",
       "      <td>1</td>\n",
       "    </tr>\n",
       "    <tr>\n",
       "      <th>You're All I've Got Tonight</th>\n",
       "      <td>0</td>\n",
       "      <td>0</td>\n",
       "    </tr>\n",
       "    <tr>\n",
       "      <th>Face To Face</th>\n",
       "      <td>1</td>\n",
       "      <td>1</td>\n",
       "    </tr>\n",
       "    <tr>\n",
       "      <th>Thunder Road</th>\n",
       "      <td>1</td>\n",
       "      <td>1</td>\n",
       "    </tr>\n",
       "  </tbody>\n",
       "</table>\n",
       "<p>1097 rows × 2 columns</p>\n",
       "</div>"
      ],
      "text/plain": [
       "                                                    actual  predicted\n",
       "name                                                                 \n",
       "When Something Is Wrong With My Baby (feat. Joh...       0          0\n",
       "No Ordinary Thing                                        0          0\n",
       "Chest Fever - Remastered                                 0          0\n",
       "YYZ                                                      1          1\n",
       "Mother                                                   1          1\n",
       "...                                                    ...        ...\n",
       "Sweet Mary Jane                                          0          0\n",
       "Gloria                                                   1          1\n",
       "You're All I've Got Tonight                              0          0\n",
       "Face To Face                                             1          1\n",
       "Thunder Road                                             1          1\n",
       "\n",
       "[1097 rows x 2 columns]"
      ]
     },
     "execution_count": 12,
     "metadata": {},
     "output_type": "execute_result"
    }
   ],
   "source": [
    "result_df = pd.DataFrame({\"actual\" : testY.hit, \"predicted\" : predicted})\n",
    "result_df"
   ]
  },
  {
   "cell_type": "code",
   "execution_count": 13,
   "id": "8f0fc93a",
   "metadata": {},
   "outputs": [
    {
     "data": {
      "text/html": [
       "<div>\n",
       "<style scoped>\n",
       "    .dataframe tbody tr th:only-of-type {\n",
       "        vertical-align: middle;\n",
       "    }\n",
       "\n",
       "    .dataframe tbody tr th {\n",
       "        vertical-align: top;\n",
       "    }\n",
       "\n",
       "    .dataframe thead th {\n",
       "        text-align: right;\n",
       "    }\n",
       "</style>\n",
       "<table border=\"1\" class=\"dataframe\">\n",
       "  <thead>\n",
       "    <tr style=\"text-align: right;\">\n",
       "      <th>Predicted</th>\n",
       "      <th>0</th>\n",
       "      <th>1</th>\n",
       "    </tr>\n",
       "    <tr>\n",
       "      <th>Actual</th>\n",
       "      <th></th>\n",
       "      <th></th>\n",
       "    </tr>\n",
       "  </thead>\n",
       "  <tbody>\n",
       "    <tr>\n",
       "      <th>0</th>\n",
       "      <td>552</td>\n",
       "      <td>0</td>\n",
       "    </tr>\n",
       "    <tr>\n",
       "      <th>1</th>\n",
       "      <td>0</td>\n",
       "      <td>545</td>\n",
       "    </tr>\n",
       "  </tbody>\n",
       "</table>\n",
       "</div>"
      ],
      "text/plain": [
       "Predicted    0    1\n",
       "Actual             \n",
       "0          552    0\n",
       "1            0  545"
      ]
     },
     "execution_count": 13,
     "metadata": {},
     "output_type": "execute_result"
    }
   ],
   "source": [
    "confusion_matrix = pd.crosstab(result_df['actual'], result_df['predicted'], rownames=['Actual'], colnames=['Predicted'])\n",
    "confusion_matrix"
   ]
  },
  {
   "cell_type": "code",
   "execution_count": 14,
   "id": "75821a06-3400-4aa2-922a-7c8c5b9adece",
   "metadata": {},
   "outputs": [
    {
     "name": "stdout",
     "output_type": "stream",
     "text": [
      "Accuracy: 1.0\n",
      "Recall: 1.0\n",
      "Precision: 1.0\n",
      "F1 score: 1.0\n"
     ]
    }
   ],
   "source": [
    "accuracy = accuracy_score(testY, predicted)\n",
    "recall = recall_score(testY, predicted)\n",
    "precision = precision_score(testY, predicted)\n",
    "f1 = f1_score(testY, predicted)\n",
    "\n",
    "print(f'Accuracy: {accuracy}')\n",
    "print(f'Recall: {recall}')\n",
    "print(f'Precision: {precision}')\n",
    "print(f'F1 score: {f1}')"
   ]
  },
  {
   "cell_type": "code",
   "execution_count": 15,
   "id": "f90e8f83",
   "metadata": {},
   "outputs": [
    {
     "data": {
      "text/plain": [
       "<Figure size 720x720 with 0 Axes>"
      ]
     },
     "metadata": {},
     "output_type": "display_data"
    },
    {
     "data": {
      "image/png": "[encoded data removed]",
      "text/plain": [
       "<Figure size 432x288 with 1 Axes>"
      ]
     },
     "metadata": {
      "needs_background": "light"
     },
     "output_type": "display_data"
    }
   ],
   "source": [
    "plt.figure(figsize=(10,10))\n",
    "plot_roc_curve(dt, testX, testY)\n",
    "plt.title('Decision tree classifier Roc Curve')\n",
    "plt.show()"
   ]
  },
  {
   "cell_type": "markdown",
   "id": "03e21e47-f5b0-4a04-9f37-4f7c7e19af74",
   "metadata": {},
   "source": [
    "&nbsp;"
   ]
  },
  {
   "cell_type": "markdown",
   "id": "f1ddfa96-ddc3-4227-b6e3-f7de92a7a058",
   "metadata": {},
   "source": [
    "## Naive Bayes"
   ]
  },
  {
   "cell_type": "code",
   "execution_count": 16,
   "id": "f9d3e8b9-3cd4-4c97-97fb-13f94d4762cc",
   "metadata": {},
   "outputs": [
    {
     "data": {
      "text/plain": [
       "GaussianNB()"
      ]
     },
     "execution_count": 16,
     "metadata": {},
     "output_type": "execute_result"
    }
   ],
   "source": [
    "model = GaussianNB()\n",
    "model.fit(trainX, trainY)"
   ]
  },
  {
   "cell_type": "code",
   "execution_count": 17,
   "id": "9d0d126c-26f7-4563-ba2c-7884f2e6f12f",
   "metadata": {},
   "outputs": [],
   "source": [
    "predicted = model.predict(testX)"
   ]
  },
  {
   "cell_type": "code",
   "execution_count": 18,
   "id": "3be0dfd6-c87e-4861-8020-cdba7bfd480f",
   "metadata": {},
   "outputs": [
    {
     "data": {
      "text/html": [
       "<div>\n",
       "<style scoped>\n",
       "    .dataframe tbody tr th:only-of-type {\n",
       "        vertical-align: middle;\n",
       "    }\n",
       "\n",
       "    .dataframe tbody tr th {\n",
       "        vertical-align: top;\n",
       "    }\n",
       "\n",
       "    .dataframe thead th {\n",
       "        text-align: right;\n",
       "    }\n",
       "</style>\n",
       "<table border=\"1\" class=\"dataframe\">\n",
       "  <thead>\n",
       "    <tr style=\"text-align: right;\">\n",
       "      <th></th>\n",
       "      <th>actual</th>\n",
       "      <th>predicted</th>\n",
       "    </tr>\n",
       "    <tr>\n",
       "      <th>name</th>\n",
       "      <th></th>\n",
       "      <th></th>\n",
       "    </tr>\n",
       "  </thead>\n",
       "  <tbody>\n",
       "    <tr>\n",
       "      <th>When Something Is Wrong With My Baby (feat. John Farnham) - Live At The Palais</th>\n",
       "      <td>0</td>\n",
       "      <td>0</td>\n",
       "    </tr>\n",
       "    <tr>\n",
       "      <th>No Ordinary Thing</th>\n",
       "      <td>0</td>\n",
       "      <td>0</td>\n",
       "    </tr>\n",
       "    <tr>\n",
       "      <th>Chest Fever - Remastered</th>\n",
       "      <td>0</td>\n",
       "      <td>0</td>\n",
       "    </tr>\n",
       "    <tr>\n",
       "      <th>YYZ</th>\n",
       "      <td>1</td>\n",
       "      <td>0</td>\n",
       "    </tr>\n",
       "    <tr>\n",
       "      <th>Mother</th>\n",
       "      <td>1</td>\n",
       "      <td>1</td>\n",
       "    </tr>\n",
       "    <tr>\n",
       "      <th>...</th>\n",
       "      <td>...</td>\n",
       "      <td>...</td>\n",
       "    </tr>\n",
       "    <tr>\n",
       "      <th>Sweet Mary Jane</th>\n",
       "      <td>0</td>\n",
       "      <td>0</td>\n",
       "    </tr>\n",
       "    <tr>\n",
       "      <th>Gloria</th>\n",
       "      <td>1</td>\n",
       "      <td>1</td>\n",
       "    </tr>\n",
       "    <tr>\n",
       "      <th>You're All I've Got Tonight</th>\n",
       "      <td>0</td>\n",
       "      <td>1</td>\n",
       "    </tr>\n",
       "    <tr>\n",
       "      <th>Face To Face</th>\n",
       "      <td>1</td>\n",
       "      <td>1</td>\n",
       "    </tr>\n",
       "    <tr>\n",
       "      <th>Thunder Road</th>\n",
       "      <td>1</td>\n",
       "      <td>1</td>\n",
       "    </tr>\n",
       "  </tbody>\n",
       "</table>\n",
       "<p>1097 rows × 2 columns</p>\n",
       "</div>"
      ],
      "text/plain": [
       "                                                    actual  predicted\n",
       "name                                                                 \n",
       "When Something Is Wrong With My Baby (feat. Joh...       0          0\n",
       "No Ordinary Thing                                        0          0\n",
       "Chest Fever - Remastered                                 0          0\n",
       "YYZ                                                      1          0\n",
       "Mother                                                   1          1\n",
       "...                                                    ...        ...\n",
       "Sweet Mary Jane                                          0          0\n",
       "Gloria                                                   1          1\n",
       "You're All I've Got Tonight                              0          1\n",
       "Face To Face                                             1          1\n",
       "Thunder Road                                             1          1\n",
       "\n",
       "[1097 rows x 2 columns]"
      ]
     },
     "execution_count": 18,
     "metadata": {},
     "output_type": "execute_result"
    }
   ],
   "source": [
    "result_df = pd.DataFrame({\"actual\" : testY.hit, \"predicted\" : predicted})\n",
    "result_df"
   ]
  },
  {
   "cell_type": "code",
   "execution_count": 19,
   "id": "f7bb69dc-0b15-489d-a9d6-b3413dc80966",
   "metadata": {},
   "outputs": [
    {
     "data": {
      "text/html": [
       "<div>\n",
       "<style scoped>\n",
       "    .dataframe tbody tr th:only-of-type {\n",
       "        vertical-align: middle;\n",
       "    }\n",
       "\n",
       "    .dataframe tbody tr th {\n",
       "        vertical-align: top;\n",
       "    }\n",
       "\n",
       "    .dataframe thead th {\n",
       "        text-align: right;\n",
       "    }\n",
       "</style>\n",
       "<table border=\"1\" class=\"dataframe\">\n",
       "  <thead>\n",
       "    <tr style=\"text-align: right;\">\n",
       "      <th>Predicted</th>\n",
       "      <th>0</th>\n",
       "      <th>1</th>\n",
       "    </tr>\n",
       "    <tr>\n",
       "      <th>Actual</th>\n",
       "      <th></th>\n",
       "      <th></th>\n",
       "    </tr>\n",
       "  </thead>\n",
       "  <tbody>\n",
       "    <tr>\n",
       "      <th>0</th>\n",
       "      <td>470</td>\n",
       "      <td>82</td>\n",
       "    </tr>\n",
       "    <tr>\n",
       "      <th>1</th>\n",
       "      <td>46</td>\n",
       "      <td>499</td>\n",
       "    </tr>\n",
       "  </tbody>\n",
       "</table>\n",
       "</div>"
      ],
      "text/plain": [
       "Predicted    0    1\n",
       "Actual             \n",
       "0          470   82\n",
       "1           46  499"
      ]
     },
     "execution_count": 19,
     "metadata": {},
     "output_type": "execute_result"
    }
   ],
   "source": [
    "confusion_matrix = pd.crosstab(result_df['actual'], result_df['predicted'], rownames=['Actual'], colnames=['Predicted'])\n",
    "confusion_matrix"
   ]
  },
  {
   "cell_type": "code",
   "execution_count": 20,
   "id": "c33b87b9-e2d3-4dd4-a42e-4c97f70af12f",
   "metadata": {},
   "outputs": [
    {
     "name": "stdout",
     "output_type": "stream",
     "text": [
      "Accuracy: 0.8833181403828624\n",
      "Recall: 0.9155963302752294\n",
      "Precision: 0.8588640275387264\n",
      "F1 score: 0.8863232682060391\n"
     ]
    }
   ],
   "source": [
    "accuracy = accuracy_score(testY, predicted)\n",
    "recall = recall_score(testY, predicted)\n",
    "precision = precision_score(testY, predicted)\n",
    "f1 = f1_score(testY, predicted)\n",
    "\n",
    "print(f'Accuracy: {accuracy}')\n",
    "print(f'Recall: {recall}')\n",
    "print(f'Precision: {precision}')\n",
    "print(f'F1 score: {f1}')"
   ]
  },
  {
   "cell_type": "code",
   "execution_count": 21,
   "id": "38084ca5-14c8-49eb-832a-5fac3f5dbea9",
   "metadata": {},
   "outputs": [
    {
     "data": {
      "text/plain": [
       "<Figure size 720x720 with 0 Axes>"
      ]
     },
     "metadata": {},
     "output_type": "display_data"
    },
    {
     "data": {
      "image/png": "[encoded data removed]",
      "text/plain": [
       "<Figure size 432x288 with 1 Axes>"
      ]
     },
     "metadata": {
      "needs_background": "light"
     },
     "output_type": "display_data"
    }
   ],
   "source": [
    "plt.figure(figsize=(10,10))\n",
    "plot_roc_curve(model, testX, testY)\n",
    "plt.title('Naive Bayes classifier Roc Curve')\n",
    "plt.show()"
   ]
  },
  {
   "cell_type": "markdown",
   "id": "282d3e10-f45c-4b9b-9c4d-623dd7eda268",
   "metadata": {},
   "source": [
    "&nbsp;"
   ]
  },
  {
   "cell_type": "markdown",
   "id": "89ff23c4-3ecd-4aac-9a35-6294c7aa779c",
   "metadata": {},
   "source": [
    "## KNN"
   ]
  },
  {
   "cell_type": "code",
   "execution_count": 22,
   "id": "79f191ac-1ef2-4a9c-a7f8-74458d9ef1c2",
   "metadata": {},
   "outputs": [
    {
     "data": {
      "text/plain": [
       "KNeighborsClassifier()"
      ]
     },
     "execution_count": 22,
     "metadata": {},
     "output_type": "execute_result"
    }
   ],
   "source": [
    "knn = KNeighborsClassifier(n_neighbors=5)\n",
    "knn.fit(trainX, trainY)"
   ]
  },
  {
   "cell_type": "code",
   "execution_count": 23,
   "id": "a05a51a1-e00d-4f9c-9810-223d1d8dd26b",
   "metadata": {},
   "outputs": [],
   "source": [
    "predicted = knn.predict(testX)"
   ]
  },
  {
   "cell_type": "code",
   "execution_count": 24,
   "id": "2091c754-ea6f-430a-8bb9-ff0a87966710",
   "metadata": {},
   "outputs": [
    {
     "data": {
      "text/html": [
       "<div>\n",
       "<style scoped>\n",
       "    .dataframe tbody tr th:only-of-type {\n",
       "        vertical-align: middle;\n",
       "    }\n",
       "\n",
       "    .dataframe tbody tr th {\n",
       "        vertical-align: top;\n",
       "    }\n",
       "\n",
       "    .dataframe thead th {\n",
       "        text-align: right;\n",
       "    }\n",
       "</style>\n",
       "<table border=\"1\" class=\"dataframe\">\n",
       "  <thead>\n",
       "    <tr style=\"text-align: right;\">\n",
       "      <th></th>\n",
       "      <th>actual</th>\n",
       "      <th>predicted</th>\n",
       "    </tr>\n",
       "    <tr>\n",
       "      <th>name</th>\n",
       "      <th></th>\n",
       "      <th></th>\n",
       "    </tr>\n",
       "  </thead>\n",
       "  <tbody>\n",
       "    <tr>\n",
       "      <th>When Something Is Wrong With My Baby (feat. John Farnham) - Live At The Palais</th>\n",
       "      <td>0</td>\n",
       "      <td>0</td>\n",
       "    </tr>\n",
       "    <tr>\n",
       "      <th>No Ordinary Thing</th>\n",
       "      <td>0</td>\n",
       "      <td>0</td>\n",
       "    </tr>\n",
       "    <tr>\n",
       "      <th>Chest Fever - Remastered</th>\n",
       "      <td>0</td>\n",
       "      <td>0</td>\n",
       "    </tr>\n",
       "    <tr>\n",
       "      <th>YYZ</th>\n",
       "      <td>1</td>\n",
       "      <td>1</td>\n",
       "    </tr>\n",
       "    <tr>\n",
       "      <th>Mother</th>\n",
       "      <td>1</td>\n",
       "      <td>1</td>\n",
       "    </tr>\n",
       "    <tr>\n",
       "      <th>...</th>\n",
       "      <td>...</td>\n",
       "      <td>...</td>\n",
       "    </tr>\n",
       "    <tr>\n",
       "      <th>Sweet Mary Jane</th>\n",
       "      <td>0</td>\n",
       "      <td>0</td>\n",
       "    </tr>\n",
       "    <tr>\n",
       "      <th>Gloria</th>\n",
       "      <td>1</td>\n",
       "      <td>1</td>\n",
       "    </tr>\n",
       "    <tr>\n",
       "      <th>You're All I've Got Tonight</th>\n",
       "      <td>0</td>\n",
       "      <td>0</td>\n",
       "    </tr>\n",
       "    <tr>\n",
       "      <th>Face To Face</th>\n",
       "      <td>1</td>\n",
       "      <td>1</td>\n",
       "    </tr>\n",
       "    <tr>\n",
       "      <th>Thunder Road</th>\n",
       "      <td>1</td>\n",
       "      <td>0</td>\n",
       "    </tr>\n",
       "  </tbody>\n",
       "</table>\n",
       "<p>1097 rows × 2 columns</p>\n",
       "</div>"
      ],
      "text/plain": [
       "                                                    actual  predicted\n",
       "name                                                                 \n",
       "When Something Is Wrong With My Baby (feat. Joh...       0          0\n",
       "No Ordinary Thing                                        0          0\n",
       "Chest Fever - Remastered                                 0          0\n",
       "YYZ                                                      1          1\n",
       "Mother                                                   1          1\n",
       "...                                                    ...        ...\n",
       "Sweet Mary Jane                                          0          0\n",
       "Gloria                                                   1          1\n",
       "You're All I've Got Tonight                              0          0\n",
       "Face To Face                                             1          1\n",
       "Thunder Road                                             1          0\n",
       "\n",
       "[1097 rows x 2 columns]"
      ]
     },
     "execution_count": 24,
     "metadata": {},
     "output_type": "execute_result"
    }
   ],
   "source": [
    "result_df = pd.DataFrame({\"actual\" : testY.hit, \"predicted\" : predicted})\n",
    "result_df"
   ]
  },
  {
   "cell_type": "code",
   "execution_count": 25,
   "id": "24de5b5b-c681-4536-b002-5e72ac539cdc",
   "metadata": {},
   "outputs": [
    {
     "data": {
      "text/html": [
       "<div>\n",
       "<style scoped>\n",
       "    .dataframe tbody tr th:only-of-type {\n",
       "        vertical-align: middle;\n",
       "    }\n",
       "\n",
       "    .dataframe tbody tr th {\n",
       "        vertical-align: top;\n",
       "    }\n",
       "\n",
       "    .dataframe thead th {\n",
       "        text-align: right;\n",
       "    }\n",
       "</style>\n",
       "<table border=\"1\" class=\"dataframe\">\n",
       "  <thead>\n",
       "    <tr style=\"text-align: right;\">\n",
       "      <th>Predicted</th>\n",
       "      <th>0</th>\n",
       "      <th>1</th>\n",
       "    </tr>\n",
       "    <tr>\n",
       "      <th>Actual</th>\n",
       "      <th></th>\n",
       "      <th></th>\n",
       "    </tr>\n",
       "  </thead>\n",
       "  <tbody>\n",
       "    <tr>\n",
       "      <th>0</th>\n",
       "      <td>463</td>\n",
       "      <td>89</td>\n",
       "    </tr>\n",
       "    <tr>\n",
       "      <th>1</th>\n",
       "      <td>75</td>\n",
       "      <td>470</td>\n",
       "    </tr>\n",
       "  </tbody>\n",
       "</table>\n",
       "</div>"
      ],
      "text/plain": [
       "Predicted    0    1\n",
       "Actual             \n",
       "0          463   89\n",
       "1           75  470"
      ]
     },
     "execution_count": 25,
     "metadata": {},
     "output_type": "execute_result"
    }
   ],
   "source": [
    "confusion_matrix = pd.crosstab(result_df['actual'], result_df['predicted'], rownames=['Actual'], colnames=['Predicted'])\n",
    "confusion_matrix"
   ]
  },
  {
   "cell_type": "code",
   "execution_count": 26,
   "id": "ad0f2433-5b77-4b3f-89c9-7f92ec5a954a",
   "metadata": {},
   "outputs": [
    {
     "name": "stdout",
     "output_type": "stream",
     "text": [
      "Accuracy: 0.8505013673655424\n",
      "Recall: 0.8623853211009175\n",
      "Precision: 0.8407871198568873\n",
      "F1 score: 0.8514492753623187\n"
     ]
    }
   ],
   "source": [
    "accuracy = accuracy_score(testY, predicted)\n",
    "recall = recall_score(testY, predicted)\n",
    "precision = precision_score(testY, predicted)\n",
    "f1 = f1_score(testY, predicted)\n",
    "\n",
    "print(f'Accuracy: {accuracy}')\n",
    "print(f'Recall: {recall}')\n",
    "print(f'Precision: {precision}')\n",
    "print(f'F1 score: {f1}')"
   ]
  },
  {
   "cell_type": "code",
   "execution_count": 27,
   "id": "442397f9-b9ff-495c-b34f-4df15c55e324",
   "metadata": {},
   "outputs": [
    {
     "data": {
      "text/plain": [
       "<Figure size 720x720 with 0 Axes>"
      ]
     },
     "metadata": {},
     "output_type": "display_data"
    },
    {
     "data": {
      "image/png": "[encoded data removed]",
      "text/plain": [
       "<Figure size 432x288 with 1 Axes>"
      ]
     },
     "metadata": {
      "needs_background": "light"
     },
     "output_type": "display_data"
    }
   ],
   "source": [
    "plt.figure(figsize=(10,10))\n",
    "plot_roc_curve(knn, testX, testY)\n",
    "plt.title('KNN classifier Roc Curve')\n",
    "plt.show()"
   ]
  },
  {
   "cell_type": "code",
   "execution_count": 28,
   "id": "7b865119-7e02-4a58-975f-be403a573786",
   "metadata": {},
   "outputs": [],
   "source": [
    "error1 = []\n",
    "\n",
    "for i in range(1, 40):\n",
    "    knn = KNeighborsClassifier(n_neighbors=i, metric=\"cosine\")\n",
    "    knn.fit(trainX, trainY)\n",
    "    pred_i = knn.predict(testX)\n",
    "    error1.append(np.mean(pred_i != testY.values))\n",
    "    \n",
    "\n",
    "error2 = []\n",
    "\n",
    "for i in range(1, 40):\n",
    "    knn = KNeighborsClassifier(n_neighbors=i, metric=\"euclidean\")\n",
    "    knn.fit(trainX, trainY)\n",
    "    pred_i = knn.predict(testX)\n",
    "    error2.append(np.mean(pred_i != testY.values))\n",
    "    \n",
    "error3 = []\n",
    "\n",
    "for i in range(1, 40):\n",
    "    knn = KNeighborsClassifier(n_neighbors=i, metric=\"manhattan\")\n",
    "    knn.fit(trainX, trainY)\n",
    "    pred_i = knn.predict(testX)\n",
    "    error3.append(np.mean(pred_i != testY.values))\n",
    "    \n",
    "error4 = []\n",
    "\n",
    "for i in range(1, 40):\n",
    "    knn = KNeighborsClassifier(n_neighbors=i, metric=\"minkowski\")\n",
    "    knn.fit(trainX, trainY)\n",
    "    pred_i = knn.predict(testX)\n",
    "    error4.append(np.mean(pred_i != testY.values))"
   ]
  },
  {
   "cell_type": "code",
   "execution_count": 29,
   "id": "4ca83f2d-086d-4db4-9bbc-94aa8a9623af",
   "metadata": {},
   "outputs": [
    {
     "data": {
      "image/png": "[encoded data removed]",
      "text/plain": [
       "<Figure size 864x432 with 1 Axes>"
      ]
     },
     "metadata": {
      "needs_background": "light"
     },
     "output_type": "display_data"
    }
   ],
   "source": [
    "plt.figure(figsize=(12, 6))\n",
    "plt.plot(range(1, 40), error1, color='green', linestyle='dashed', marker='o',\n",
    "         markerfacecolor='yellow', markersize=10, label='Cosine Distance')\n",
    "plt.plot(range(1, 40), error2, color='blue', linestyle='dashed', marker='o',\n",
    "         markerfacecolor='orange', markersize=10, label='Euclidean Distance')\n",
    "plt.plot(range(1, 40), error3, color='red', linestyle='dashed', marker='o',\n",
    "         markerfacecolor='pink', markersize=10, label='Manhattan Distance')\n",
    "plt.plot(range(1, 40), error4, color='brown', linestyle='dashed', marker='o',\n",
    "         markerfacecolor='gray', markersize=10, label='Minkwoski Distance')\n",
    "\n",
    "plt.title('Error Rate K Value')\n",
    "plt.xlabel('K Value')\n",
    "plt.ylabel('Mean Error')\n",
    "plt.legend()\n",
    "plt.show()"
   ]
  }
 ],
 "metadata": {
  "kernelspec": {
   "display_name": "Python 3 (ipykernel)",
   "language": "python",
   "name": "python3"
  },
  "language_info": {
   "codemirror_mode": {
    "name": "ipython",
    "version": 3
   },
   "file_extension": ".py",
   "mimetype": "text/x-python",
   "name": "python",
   "nbconvert_exporter": "python",
   "pygments_lexer": "ipython3",
   "version": "3.9.12"
  }
 },
 "nbformat": 4,
 "nbformat_minor": 5
}
