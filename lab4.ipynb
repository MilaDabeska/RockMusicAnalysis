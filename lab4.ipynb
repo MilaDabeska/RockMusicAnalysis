{
 "cells": [
  {
   "cell_type": "markdown",
   "id": "c589691c",
   "metadata": {},
   "source": [
    "# Lab4: KNN"
   ]
  },
  {
   "cell_type": "markdown",
   "id": "c930a144",
   "metadata": {},
   "source": [
    "### Дабеска Мила 193263"
   ]
  },
  {
   "cell_type": "markdown",
   "id": "ee558b4e",
   "metadata": {},
   "source": [
    "&nbsp;"
   ]
  },
  {
   "cell_type": "code",
   "execution_count": 1,
   "id": "b6fa872f",
   "metadata": {},
   "outputs": [],
   "source": [
    "import numpy as np\n",
    "import matplotlib.pyplot as plt\n",
    "import pandas as pd\n",
    "from sklearn import datasets\n",
    "from sklearn.model_selection import train_test_split\n",
    "from sklearn.preprocessing import StandardScaler, LabelEncoder\n",
    "from sklearn.neighbors import KNeighborsClassifier\n",
    "from sklearn.metrics import classification_report, confusion_matrix, accuracy_score, mean_squared_error\n",
    "from sklearn.neighbors import KNeighborsRegressor\n",
    "import seaborn as sns\n",
    "from math import sqrt\n",
    "import warnings\n",
    "warnings.filterwarnings(\"ignore\")"
   ]
  },
  {
   "cell_type": "code",
   "execution_count": 2,
   "id": "502be6b7",
   "metadata": {},
   "outputs": [
    {
     "data": {
      "text/html": [
       "<div>\n",
       "<style scoped>\n",
       "    .dataframe tbody tr th:only-of-type {\n",
       "        vertical-align: middle;\n",
       "    }\n",
       "\n",
       "    .dataframe tbody tr th {\n",
       "        vertical-align: top;\n",
       "    }\n",
       "\n",
       "    .dataframe thead th {\n",
       "        text-align: right;\n",
       "    }\n",
       "</style>\n",
       "<table border=\"1\" class=\"dataframe\">\n",
       "  <thead>\n",
       "    <tr style=\"text-align: right;\">\n",
       "      <th></th>\n",
       "      <th>artist</th>\n",
       "      <th>release_date</th>\n",
       "      <th>length</th>\n",
       "      <th>popularity</th>\n",
       "      <th>danceability</th>\n",
       "      <th>acousticness</th>\n",
       "      <th>energy</th>\n",
       "      <th>instrumentalness</th>\n",
       "      <th>key</th>\n",
       "      <th>liveness</th>\n",
       "      <th>loudness</th>\n",
       "      <th>speechiness</th>\n",
       "      <th>tempo</th>\n",
       "      <th>time_signature</th>\n",
       "      <th>valence</th>\n",
       "    </tr>\n",
       "    <tr>\n",
       "      <th>name</th>\n",
       "      <th></th>\n",
       "      <th></th>\n",
       "      <th></th>\n",
       "      <th></th>\n",
       "      <th></th>\n",
       "      <th></th>\n",
       "      <th></th>\n",
       "      <th></th>\n",
       "      <th></th>\n",
       "      <th></th>\n",
       "      <th></th>\n",
       "      <th></th>\n",
       "      <th></th>\n",
       "      <th></th>\n",
       "      <th></th>\n",
       "    </tr>\n",
       "  </thead>\n",
       "  <tbody>\n",
       "    <tr>\n",
       "      <th>Smells Like Teen Spirit</th>\n",
       "      <td>Nirvana</td>\n",
       "      <td>1991</td>\n",
       "      <td>5.032000</td>\n",
       "      <td>74</td>\n",
       "      <td>0.502</td>\n",
       "      <td>0.000025</td>\n",
       "      <td>0.912</td>\n",
       "      <td>0.000173</td>\n",
       "      <td>1</td>\n",
       "      <td>0.1060</td>\n",
       "      <td>-4.556</td>\n",
       "      <td>0.0564</td>\n",
       "      <td>116.761</td>\n",
       "      <td>4</td>\n",
       "      <td>0.720</td>\n",
       "    </tr>\n",
       "    <tr>\n",
       "      <th>Stairway to Heaven - Remaster</th>\n",
       "      <td>Led Zeppelin</td>\n",
       "      <td>1971</td>\n",
       "      <td>8.047167</td>\n",
       "      <td>78</td>\n",
       "      <td>0.338</td>\n",
       "      <td>0.580000</td>\n",
       "      <td>0.340</td>\n",
       "      <td>0.003200</td>\n",
       "      <td>9</td>\n",
       "      <td>0.1160</td>\n",
       "      <td>-12.049</td>\n",
       "      <td>0.0339</td>\n",
       "      <td>82.433</td>\n",
       "      <td>4</td>\n",
       "      <td>0.197</td>\n",
       "    </tr>\n",
       "    <tr>\n",
       "      <th>Bohemian Rhapsody - Remastered 2011</th>\n",
       "      <td>Queen</td>\n",
       "      <td>1975</td>\n",
       "      <td>5.905333</td>\n",
       "      <td>74</td>\n",
       "      <td>0.392</td>\n",
       "      <td>0.288000</td>\n",
       "      <td>0.402</td>\n",
       "      <td>0.000000</td>\n",
       "      <td>0</td>\n",
       "      <td>0.2430</td>\n",
       "      <td>-9.961</td>\n",
       "      <td>0.0536</td>\n",
       "      <td>143.883</td>\n",
       "      <td>4</td>\n",
       "      <td>0.228</td>\n",
       "    </tr>\n",
       "    <tr>\n",
       "      <th>Imagine - Remastered 2010</th>\n",
       "      <td>John Lennon</td>\n",
       "      <td>1971</td>\n",
       "      <td>3.131100</td>\n",
       "      <td>77</td>\n",
       "      <td>0.547</td>\n",
       "      <td>0.907000</td>\n",
       "      <td>0.257</td>\n",
       "      <td>0.183000</td>\n",
       "      <td>0</td>\n",
       "      <td>0.0935</td>\n",
       "      <td>-12.358</td>\n",
       "      <td>0.0252</td>\n",
       "      <td>75.752</td>\n",
       "      <td>4</td>\n",
       "      <td>0.169</td>\n",
       "    </tr>\n",
       "    <tr>\n",
       "      <th>(I Can't Get No) Satisfaction - Mono Version</th>\n",
       "      <td>The Rolling Stones</td>\n",
       "      <td>1965</td>\n",
       "      <td>3.713550</td>\n",
       "      <td>77</td>\n",
       "      <td>0.723</td>\n",
       "      <td>0.038300</td>\n",
       "      <td>0.863</td>\n",
       "      <td>0.031700</td>\n",
       "      <td>2</td>\n",
       "      <td>0.1280</td>\n",
       "      <td>-7.890</td>\n",
       "      <td>0.0338</td>\n",
       "      <td>136.302</td>\n",
       "      <td>4</td>\n",
       "      <td>0.931</td>\n",
       "    </tr>\n",
       "    <tr>\n",
       "      <th>...</th>\n",
       "      <td>...</td>\n",
       "      <td>...</td>\n",
       "      <td>...</td>\n",
       "      <td>...</td>\n",
       "      <td>...</td>\n",
       "      <td>...</td>\n",
       "      <td>...</td>\n",
       "      <td>...</td>\n",
       "      <td>...</td>\n",
       "      <td>...</td>\n",
       "      <td>...</td>\n",
       "      <td>...</td>\n",
       "      <td>...</td>\n",
       "      <td>...</td>\n",
       "      <td>...</td>\n",
       "    </tr>\n",
       "    <tr>\n",
       "      <th>I'm In Your Mind</th>\n",
       "      <td>King Gizzard &amp; The Lizard Wizard</td>\n",
       "      <td>2014</td>\n",
       "      <td>3.559833</td>\n",
       "      <td>47</td>\n",
       "      <td>0.296</td>\n",
       "      <td>0.005910</td>\n",
       "      <td>0.776</td>\n",
       "      <td>0.801000</td>\n",
       "      <td>6</td>\n",
       "      <td>0.5970</td>\n",
       "      <td>-5.630</td>\n",
       "      <td>0.0597</td>\n",
       "      <td>93.481</td>\n",
       "      <td>4</td>\n",
       "      <td>0.406</td>\n",
       "    </tr>\n",
       "    <tr>\n",
       "      <th>Cellophane</th>\n",
       "      <td>King Gizzard &amp; The Lizard Wizard</td>\n",
       "      <td>2014</td>\n",
       "      <td>3.179750</td>\n",
       "      <td>44</td>\n",
       "      <td>0.432</td>\n",
       "      <td>0.002130</td>\n",
       "      <td>0.887</td>\n",
       "      <td>0.916000</td>\n",
       "      <td>7</td>\n",
       "      <td>0.1200</td>\n",
       "      <td>-6.175</td>\n",
       "      <td>0.1230</td>\n",
       "      <td>92.965</td>\n",
       "      <td>4</td>\n",
       "      <td>0.357</td>\n",
       "    </tr>\n",
       "    <tr>\n",
       "      <th>Hot Water</th>\n",
       "      <td>King Gizzard &amp; The Lizard Wizard</td>\n",
       "      <td>2014</td>\n",
       "      <td>3.396450</td>\n",
       "      <td>40</td>\n",
       "      <td>0.627</td>\n",
       "      <td>0.860000</td>\n",
       "      <td>0.609</td>\n",
       "      <td>0.890000</td>\n",
       "      <td>9</td>\n",
       "      <td>0.1160</td>\n",
       "      <td>-9.387</td>\n",
       "      <td>0.0332</td>\n",
       "      <td>86.861</td>\n",
       "      <td>4</td>\n",
       "      <td>0.734</td>\n",
       "    </tr>\n",
       "    <tr>\n",
       "      <th>Vitamin C - 2004 Remastered Version</th>\n",
       "      <td>CAN</td>\n",
       "      <td>1972</td>\n",
       "      <td>3.567767</td>\n",
       "      <td>52</td>\n",
       "      <td>0.643</td>\n",
       "      <td>0.006690</td>\n",
       "      <td>0.644</td>\n",
       "      <td>0.673000</td>\n",
       "      <td>4</td>\n",
       "      <td>0.1620</td>\n",
       "      <td>-12.615</td>\n",
       "      <td>0.0462</td>\n",
       "      <td>117.225</td>\n",
       "      <td>4</td>\n",
       "      <td>0.853</td>\n",
       "    </tr>\n",
       "    <tr>\n",
       "      <th>~</th>\n",
       "      <td>Touché Amoré</td>\n",
       "      <td>2011</td>\n",
       "      <td>1.485100</td>\n",
       "      <td>0</td>\n",
       "      <td>0.222</td>\n",
       "      <td>0.000258</td>\n",
       "      <td>0.959</td>\n",
       "      <td>0.000275</td>\n",
       "      <td>6</td>\n",
       "      <td>0.1540</td>\n",
       "      <td>-5.134</td>\n",
       "      <td>0.2080</td>\n",
       "      <td>161.693</td>\n",
       "      <td>4</td>\n",
       "      <td>0.128</td>\n",
       "    </tr>\n",
       "  </tbody>\n",
       "</table>\n",
       "<p>5484 rows × 15 columns</p>\n",
       "</div>"
      ],
      "text/plain": [
       "                                                                        artist  \\\n",
       "name                                                                             \n",
       "Smells Like Teen Spirit                                                Nirvana   \n",
       "Stairway to Heaven - Remaster                                     Led Zeppelin   \n",
       "Bohemian Rhapsody - Remastered 2011                                      Queen   \n",
       "Imagine - Remastered 2010                                          John Lennon   \n",
       "(I Can't Get No) Satisfaction - Mono Version                The Rolling Stones   \n",
       "...                                                                        ...   \n",
       "I'm In Your Mind                              King Gizzard & The Lizard Wizard   \n",
       "Cellophane                                    King Gizzard & The Lizard Wizard   \n",
       "Hot Water                                     King Gizzard & The Lizard Wizard   \n",
       "Vitamin C - 2004 Remastered Version                                        CAN   \n",
       "~                                                                 Touché Amoré   \n",
       "\n",
       "                                              release_date    length  \\\n",
       "name                                                                   \n",
       "Smells Like Teen Spirit                               1991  5.032000   \n",
       "Stairway to Heaven - Remaster                         1971  8.047167   \n",
       "Bohemian Rhapsody - Remastered 2011                   1975  5.905333   \n",
       "Imagine - Remastered 2010                             1971  3.131100   \n",
       "(I Can't Get No) Satisfaction - Mono Version          1965  3.713550   \n",
       "...                                                    ...       ...   \n",
       "I'm In Your Mind                                      2014  3.559833   \n",
       "Cellophane                                            2014  3.179750   \n",
       "Hot Water                                             2014  3.396450   \n",
       "Vitamin C - 2004 Remastered Version                   1972  3.567767   \n",
       "~                                                     2011  1.485100   \n",
       "\n",
       "                                              popularity  danceability  \\\n",
       "name                                                                     \n",
       "Smells Like Teen Spirit                               74         0.502   \n",
       "Stairway to Heaven - Remaster                         78         0.338   \n",
       "Bohemian Rhapsody - Remastered 2011                   74         0.392   \n",
       "Imagine - Remastered 2010                             77         0.547   \n",
       "(I Can't Get No) Satisfaction - Mono Version          77         0.723   \n",
       "...                                                  ...           ...   \n",
       "I'm In Your Mind                                      47         0.296   \n",
       "Cellophane                                            44         0.432   \n",
       "Hot Water                                             40         0.627   \n",
       "Vitamin C - 2004 Remastered Version                   52         0.643   \n",
       "~                                                      0         0.222   \n",
       "\n",
       "                                              acousticness  energy  \\\n",
       "name                                                                 \n",
       "Smells Like Teen Spirit                           0.000025   0.912   \n",
       "Stairway to Heaven - Remaster                     0.580000   0.340   \n",
       "Bohemian Rhapsody - Remastered 2011               0.288000   0.402   \n",
       "Imagine - Remastered 2010                         0.907000   0.257   \n",
       "(I Can't Get No) Satisfaction - Mono Version      0.038300   0.863   \n",
       "...                                                    ...     ...   \n",
       "I'm In Your Mind                                  0.005910   0.776   \n",
       "Cellophane                                        0.002130   0.887   \n",
       "Hot Water                                         0.860000   0.609   \n",
       "Vitamin C - 2004 Remastered Version               0.006690   0.644   \n",
       "~                                                 0.000258   0.959   \n",
       "\n",
       "                                              instrumentalness  key  liveness  \\\n",
       "name                                                                            \n",
       "Smells Like Teen Spirit                               0.000173    1    0.1060   \n",
       "Stairway to Heaven - Remaster                         0.003200    9    0.1160   \n",
       "Bohemian Rhapsody - Remastered 2011                   0.000000    0    0.2430   \n",
       "Imagine - Remastered 2010                             0.183000    0    0.0935   \n",
       "(I Can't Get No) Satisfaction - Mono Version          0.031700    2    0.1280   \n",
       "...                                                        ...  ...       ...   \n",
       "I'm In Your Mind                                      0.801000    6    0.5970   \n",
       "Cellophane                                            0.916000    7    0.1200   \n",
       "Hot Water                                             0.890000    9    0.1160   \n",
       "Vitamin C - 2004 Remastered Version                   0.673000    4    0.1620   \n",
       "~                                                     0.000275    6    0.1540   \n",
       "\n",
       "                                              loudness  speechiness    tempo  \\\n",
       "name                                                                           \n",
       "Smells Like Teen Spirit                         -4.556       0.0564  116.761   \n",
       "Stairway to Heaven - Remaster                  -12.049       0.0339   82.433   \n",
       "Bohemian Rhapsody - Remastered 2011             -9.961       0.0536  143.883   \n",
       "Imagine - Remastered 2010                      -12.358       0.0252   75.752   \n",
       "(I Can't Get No) Satisfaction - Mono Version    -7.890       0.0338  136.302   \n",
       "...                                                ...          ...      ...   \n",
       "I'm In Your Mind                                -5.630       0.0597   93.481   \n",
       "Cellophane                                      -6.175       0.1230   92.965   \n",
       "Hot Water                                       -9.387       0.0332   86.861   \n",
       "Vitamin C - 2004 Remastered Version            -12.615       0.0462  117.225   \n",
       "~                                               -5.134       0.2080  161.693   \n",
       "\n",
       "                                              time_signature  valence  \n",
       "name                                                                   \n",
       "Smells Like Teen Spirit                                    4    0.720  \n",
       "Stairway to Heaven - Remaster                              4    0.197  \n",
       "Bohemian Rhapsody - Remastered 2011                        4    0.228  \n",
       "Imagine - Remastered 2010                                  4    0.169  \n",
       "(I Can't Get No) Satisfaction - Mono Version               4    0.931  \n",
       "...                                                      ...      ...  \n",
       "I'm In Your Mind                                           4    0.406  \n",
       "Cellophane                                                 4    0.357  \n",
       "Hot Water                                                  4    0.734  \n",
       "Vitamin C - 2004 Remastered Version                        4    0.853  \n",
       "~                                                          4    0.128  \n",
       "\n",
       "[5484 rows x 15 columns]"
      ]
     },
     "execution_count": 2,
     "metadata": {},
     "output_type": "execute_result"
    }
   ],
   "source": [
    "dataset=pd.read_csv('history-of-rock-spotify.csv')\n",
    "dataset.drop(['index', 'danceability.1'], axis=1, inplace = True)\n",
    "dataset.set_index('name', inplace=True)\n",
    "dataset"
   ]
  },
  {
   "cell_type": "code",
   "execution_count": 3,
   "id": "cc58592a",
   "metadata": {},
   "outputs": [
    {
     "ename": "NameError",
     "evalue": "name 'X' is not defined",
     "output_type": "error",
     "traceback": [
      "\u001b[1;31m---------------------------------------------------------------------------\u001b[0m",
      "\u001b[1;31mNameError\u001b[0m                                 Traceback (most recent call last)",
      "Input \u001b[1;32mIn [3]\u001b[0m, in \u001b[0;36m<cell line: 1>\u001b[1;34m()\u001b[0m\n\u001b[1;32m----> 1\u001b[0m X_encoded \u001b[38;5;241m=\u001b[39m \u001b[43mX\u001b[49m\u001b[38;5;241m.\u001b[39mapply(LabelEncoder()\u001b[38;5;241m.\u001b[39mfit_transform)\n\u001b[0;32m      2\u001b[0m X_encoded\u001b[38;5;241m.\u001b[39mhead()\n",
      "\u001b[1;31mNameError\u001b[0m: name 'X' is not defined"
     ]
    }
   ],
   "source": [
    "dataset_encoded = dataset.apply(LabelEncoder().fit_transform)\n",
    "dataset_encoded.head()"
   ]
  },
  {
   "cell_type": "code",
   "execution_count": 4,
   "id": "8eb3b0a2",
   "metadata": {},
   "outputs": [
    {
     "ename": "NameError",
     "evalue": "name 'dataset_encoded' is not defined",
     "output_type": "error",
     "traceback": [
      "\u001b[1;31m---------------------------------------------------------------------------\u001b[0m",
      "\u001b[1;31mNameError\u001b[0m                                 Traceback (most recent call last)",
      "Input \u001b[1;32mIn [4]\u001b[0m, in \u001b[0;36m<cell line: 1>\u001b[1;34m()\u001b[0m\n\u001b[1;32m----> 1\u001b[0m X \u001b[38;5;241m=\u001b[39m \u001b[43mdataset_encoded\u001b[49m\u001b[38;5;241m.\u001b[39mdrop([\u001b[38;5;124m'\u001b[39m\u001b[38;5;124mkey\u001b[39m\u001b[38;5;124m'\u001b[39m], axis\u001b[38;5;241m=\u001b[39m\u001b[38;5;241m1\u001b[39m)\n\u001b[0;32m      2\u001b[0m y \u001b[38;5;241m=\u001b[39m [\u001b[38;5;124m'\u001b[39m\u001b[38;5;124mkey\u001b[39m\u001b[38;5;124m'\u001b[39m]\n\u001b[0;32m      4\u001b[0m features \u001b[38;5;241m=\u001b[39m dataset_encoded\u001b[38;5;241m.\u001b[39mcolumns\u001b[38;5;241m.\u001b[39mdrop([\u001b[38;5;124m'\u001b[39m\u001b[38;5;124mkey\u001b[39m\u001b[38;5;124m'\u001b[39m])\n",
      "\u001b[1;31mNameError\u001b[0m: name 'dataset_encoded' is not defined"
     ]
    }
   ],
   "source": [
    "X = dataset_encoded.drop(['key'], axis=1)\n",
    "y = ['key']\n",
    "\n",
    "features = dataset_encoded.columns.drop(['key'])\n",
    "labels = ['key']"
   ]
  },
  {
   "cell_type": "code",
   "execution_count": 5,
   "id": "76fcbfa4",
   "metadata": {},
   "outputs": [],
   "source": [
    "scaler = StandardScaler()\n",
    "scaler.fit(X)\n",
    "X = scaler.transform(X)"
   ]
  },
  {
   "cell_type": "code",
   "execution_count": 6,
   "id": "fe327573",
   "metadata": {},
   "outputs": [],
   "source": [
    "X_train, X_test, y_train, y_test = train_test_split(dataset_encoded[features], dataset[labels], test_size=0.2)"
   ]
  },
  {
   "cell_type": "code",
   "execution_count": 7,
   "id": "44aec09c",
   "metadata": {},
   "outputs": [],
   "source": [
    "X_train = scaler.transform(X_train)\n",
    "X_test = scaler.transform(X_test)"
   ]
  },
  {
   "cell_type": "markdown",
   "id": "5768c521",
   "metadata": {},
   "source": [
    "### KNN Classification"
   ]
  },
  {
   "cell_type": "code",
   "execution_count": 8,
   "id": "0b849a9d",
   "metadata": {},
   "outputs": [
    {
     "data": {
      "text/plain": [
       "KNeighborsClassifier()"
      ]
     },
     "execution_count": 8,
     "metadata": {},
     "output_type": "execute_result"
    }
   ],
   "source": [
    "classifier = KNeighborsClassifier(n_neighbors=5)\n",
    "classifier.fit(X_train, y_train)"
   ]
  },
  {
   "cell_type": "code",
   "execution_count": 9,
   "id": "7be31884",
   "metadata": {},
   "outputs": [],
   "source": [
    "y_pred = classifier.predict(X_test)"
   ]
  },
  {
   "cell_type": "code",
   "execution_count": 10,
   "id": "9994195c",
   "metadata": {},
   "outputs": [
    {
     "name": "stdout",
     "output_type": "stream",
     "text": [
      "[[29 13 21  1 19  8  3 12  1 16  3  7]\n",
      " [21  9 18  2  8  1  5 13  1  7  0  2]\n",
      " [36 16 27  3 15  7  4 17  0 23  4  7]\n",
      " [11  2  4  0  1  1  0  3  0  2  0  2]\n",
      " [28 12 26  2  7  5  4 13  2  9  1  3]\n",
      " [25  7 10  1  4  0  3  8  2 10  1  2]\n",
      " [11  8 12  0  6  5  4  7  0  5  1  5]\n",
      " [29 17 22  3 19 11  6 14  2 15  1  1]\n",
      " [10  8 12  0  3  0  1  6  1  5  2  0]\n",
      " [32 12 26  2 14  4  4 21  1 10  0  5]\n",
      " [14  1 11  1  6  3  3  9  0  5  1  1]\n",
      " [19  6 12  0  3  2  3 11  1 10  0  2]]\n",
      "              precision    recall  f1-score   support\n",
      "\n",
      "           0       0.11      0.22      0.15       133\n",
      "           1       0.08      0.10      0.09        87\n",
      "           2       0.13      0.17      0.15       159\n",
      "           3       0.00      0.00      0.00        26\n",
      "           4       0.07      0.06      0.06       112\n",
      "           5       0.00      0.00      0.00        73\n",
      "           6       0.10      0.06      0.08        64\n",
      "           7       0.10      0.10      0.10       140\n",
      "           8       0.09      0.02      0.03        48\n",
      "           9       0.09      0.08      0.08       131\n",
      "          10       0.07      0.02      0.03        55\n",
      "          11       0.05      0.03      0.04        69\n",
      "\n",
      "    accuracy                           0.09      1097\n",
      "   macro avg       0.07      0.07      0.07      1097\n",
      "weighted avg       0.09      0.09      0.09      1097\n",
      "\n"
     ]
    }
   ],
   "source": [
    "print(confusion_matrix(y_test, y_pred))\n",
    "print(classification_report(y_test, y_pred))"
   ]
  },
  {
   "cell_type": "code",
   "execution_count": 11,
   "id": "48f59a3d",
   "metadata": {},
   "outputs": [],
   "source": [
    "error = []\n",
    "\n",
    "for i in range(1, 40):\n",
    "    knn = KNeighborsClassifier(n_neighbors=i)\n",
    "    knn.fit(X_train, y_train)\n",
    "    pred_i = knn.predict(X_test)\n",
    "    error.append(np.mean(pred_i != y_test.values))"
   ]
  },
  {
   "cell_type": "code",
   "execution_count": 12,
   "id": "1d322cb7",
   "metadata": {},
   "outputs": [
    {
     "data": {
      "text/plain": [
       "Text(0, 0.5, 'Mean Error')"
      ]
     },
     "execution_count": 12,
     "metadata": {},
     "output_type": "execute_result"
    },
    {
     "data": {
      "image/png": "[encoded data removed]",
      "text/plain": [
       "<Figure size 864x432 with 1 Axes>"
      ]
     },
     "metadata": {
      "needs_background": "light"
     },
     "output_type": "display_data"
    }
   ],
   "source": [
    "plt.figure(figsize=(12, 6))\n",
    "plt.plot(range(1, 40), error, color='red', linestyle='dashed', marker='o',\n",
    "         markerfacecolor='blue', markersize=10)\n",
    "plt.title('Error Rate K Value')\n",
    "plt.xlabel('K Value')\n",
    "plt.ylabel('Mean Error')"
   ]
  },
  {
   "cell_type": "code",
   "execution_count": 13,
   "id": "7b9856d5",
   "metadata": {},
   "outputs": [],
   "source": [
    "error2 = []\n",
    "\n",
    "for i in range(1, 40):\n",
    "    knn = KNeighborsClassifier(n_neighbors=i, metric=\"cosine\")\n",
    "    knn.fit(X_train, y_train)\n",
    "    pred_i = knn.predict(X_test)\n",
    "    error2.append(np.mean(pred_i != y_test.values))"
   ]
  },
  {
   "cell_type": "code",
   "execution_count": 14,
   "id": "c4e0e8c0",
   "metadata": {},
   "outputs": [],
   "source": [
    "error3 = []\n",
    "\n",
    "for i in range(1, 40):\n",
    "    knn = KNeighborsClassifier(n_neighbors=i, metric=\"euclidean\")\n",
    "    knn.fit(X_train, y_train)\n",
    "    pred_i = knn.predict(X_test)\n",
    "    error3.append(np.mean(pred_i != y_test.values))"
   ]
  },
  {
   "cell_type": "code",
   "execution_count": 15,
   "id": "a46b9c59",
   "metadata": {},
   "outputs": [],
   "source": [
    "error4 = []\n",
    "\n",
    "for i in range(1, 40):\n",
    "    knn = KNeighborsClassifier(n_neighbors=i, metric=\"manhattan\")\n",
    "    knn.fit(X_train, y_train)\n",
    "    pred_i = knn.predict(X_test)\n",
    "    error4.append(np.mean(pred_i != y_test.values))"
   ]
  },
  {
   "cell_type": "code",
   "execution_count": 16,
   "id": "38a4a602",
   "metadata": {},
   "outputs": [],
   "source": [
    "error5 = []\n",
    "\n",
    "for i in range(1, 40):\n",
    "    knn = KNeighborsClassifier(n_neighbors=i, metric=\"minkowski\")\n",
    "    knn.fit(X_train, y_train)\n",
    "    pred_i = knn.predict(X_test)\n",
    "    error5.append(np.mean(pred_i != y_test.values))"
   ]
  },
  {
   "cell_type": "code",
   "execution_count": 17,
   "id": "e74eaf99",
   "metadata": {},
   "outputs": [
    {
     "data": {
      "image/png": "[encoded data removed]",
      "text/plain": [
       "<Figure size 864x432 with 1 Axes>"
      ]
     },
     "metadata": {
      "needs_background": "light"
     },
     "output_type": "display_data"
    }
   ],
   "source": [
    "plt.figure(figsize=(12, 6))\n",
    "# plt.plot(range(1, 40), error, color='red', linestyle='dashed', marker='o',\n",
    "#          markerfacecolor='blue', markersize=10)\n",
    "plt.plot(range(1, 40), error2, color='green', linestyle='dashed', marker='o',\n",
    "         markerfacecolor='yellow', markersize=10, label='Cosine Distance')\n",
    "plt.plot(range(1, 40), error3, color='blue', linestyle='dashed', marker='o',\n",
    "         markerfacecolor='orange', markersize=10, label='Euclidean Distance')\n",
    "plt.plot(range(1, 40), error4, color='red', linestyle='dashed', marker='o',\n",
    "         markerfacecolor='pink', markersize=10, label='Manhattan Distance')\n",
    "plt.plot(range(1, 40), error4, color='brown', linestyle='dashed', marker='o',\n",
    "         markerfacecolor='gray', markersize=10, label='Minkwoski Distance')\n",
    "\n",
    "plt.title('Error Rate K Value')\n",
    "plt.xlabel('K Value')\n",
    "plt.ylabel('Mean Error')\n",
    "plt.legend()\n",
    "plt.show()"
   ]
  },
  {
   "cell_type": "markdown",
   "id": "af9fda7d",
   "metadata": {},
   "source": [
    "### KNN Regression"
   ]
  },
  {
   "cell_type": "code",
   "execution_count": 18,
   "id": "6d48a09f",
   "metadata": {},
   "outputs": [],
   "source": [
    "error = []\n",
    "rmse = []\n",
    "\n",
    "for i in range(1, 40):\n",
    "    knn = KNeighborsRegressor(n_neighbors=i)\n",
    "    knn.fit(X_train, y_train)\n",
    "    pred_i = knn.predict(X_test)\n",
    "    error.append(np.mean(abs(pred_i - y_test)))\n",
    "    rmse.append(sqrt(mean_squared_error(pred_i, y_test)))"
   ]
  },
  {
   "cell_type": "code",
   "execution_count": 19,
   "id": "4f3fa704",
   "metadata": {},
   "outputs": [
    {
     "data": {
      "text/plain": [
       "Text(0, 0.5, 'Mean Error')"
      ]
     },
     "execution_count": 19,
     "metadata": {},
     "output_type": "execute_result"
    },
    {
     "data": {
      "image/png": "[encoded data removed]",
      "text/plain": [
       "<Figure size 864x432 with 1 Axes>"
      ]
     },
     "metadata": {
      "needs_background": "light"
     },
     "output_type": "display_data"
    }
   ],
   "source": [
    "plt.figure(figsize=(12, 6))\n",
    "plt.plot(range(1, 40), error, color='red', linestyle='dashed', marker='o',\n",
    "         markerfacecolor='blue', markersize=10)\n",
    "plt.plot(range(1, 40), rmse, color='green', linestyle='dashed', marker='o',\n",
    "         markerfacecolor='yellow', markersize=10)\n",
    "plt.title('Error Rate K Value')\n",
    "plt.xlabel('K Value')\n",
    "plt.ylabel('Mean Error')"
   ]
  },
  {
   "cell_type": "code",
   "execution_count": null,
   "id": "c24b43ea",
   "metadata": {},
   "outputs": [],
   "source": []
  }
 ],
 "metadata": {
  "kernelspec": {
   "display_name": "Python 3 (ipykernel)",
   "language": "python",
   "name": "python3"
  },
  "language_info": {
   "codemirror_mode": {
    "name": "ipython",
    "version": 3
   },
   "file_extension": ".py",
   "mimetype": "text/x-python",
   "name": "python",
   "nbconvert_exporter": "python",
   "pygments_lexer": "ipython3",
   "version": "3.9.12"
  }
 },
 "nbformat": 4,
 "nbformat_minor": 5
}
