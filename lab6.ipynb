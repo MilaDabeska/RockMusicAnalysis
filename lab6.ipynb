{
 "cells": [
  {
   "cell_type": "markdown",
   "id": "54a01d4a",
   "metadata": {},
   "source": [
    "# Lab6: Logistic Regression, LDA, Ensemble methods"
   ]
  },
  {
   "cell_type": "markdown",
   "id": "9dd055a6",
   "metadata": {},
   "source": [
    "### Дабеска Мила 193263"
   ]
  },
  {
   "cell_type": "markdown",
   "id": "51cd1cb4",
   "metadata": {},
   "source": [
    "&nbsp;"
   ]
  },
  {
   "cell_type": "code",
   "execution_count": 1,
   "id": "a6e09a1d",
   "metadata": {},
   "outputs": [],
   "source": [
    "import numpy as np\n",
    "from sklearn.model_selection import train_test_split\n",
    "from sklearn.linear_model import LogisticRegression\n",
    "from sklearn.multiclass import OneVsRestClassifier\n",
    "from sklearn.metrics import classification_report, confusion_matrix, roc_curve, roc_auc_score, auc\n",
    "from sklearn.preprocessing import label_binarize\n",
    "from sklearn.decomposition import PCA\n",
    "from sklearn.discriminant_analysis import LinearDiscriminantAnalysis as LDA, QuadraticDiscriminantAnalysis as QDA\n",
    "from sklearn.model_selection import GridSearchCV\n",
    "from sklearn.model_selection import RepeatedStratifiedKFold\n",
    "from sklearn.preprocessing import LabelEncoder, StandardScaler\n",
    "from sklearn.metrics import accuracy_score, f1_score, log_loss\n",
    "from sklearn.model_selection import train_test_split, KFold, cross_val_score\n",
    "from sklearn.tree import DecisionTreeClassifier\n",
    "from sklearn.neighbors import KNeighborsClassifier\n",
    "from sklearn.ensemble import VotingClassifier\n",
    "from sklearn.ensemble import BaggingClassifier\n",
    "from sklearn.ensemble import AdaBoostClassifier, RandomForestClassifier, ExtraTreesClassifier\n",
    "import matplotlib.pyplot as plt\n",
    "import seaborn as sns\n",
    "import pandas as pd\n",
    "import math\n",
    "import warnings\n",
    "warnings.filterwarnings('ignore')"
   ]
  },
  {
   "cell_type": "code",
   "execution_count": 2,
   "id": "63bc8fb1",
   "metadata": {},
   "outputs": [
    {
     "data": {
      "text/html": [
       "<div>\n",
       "<style scoped>\n",
       "    .dataframe tbody tr th:only-of-type {\n",
       "        vertical-align: middle;\n",
       "    }\n",
       "\n",
       "    .dataframe tbody tr th {\n",
       "        vertical-align: top;\n",
       "    }\n",
       "\n",
       "    .dataframe thead th {\n",
       "        text-align: right;\n",
       "    }\n",
       "</style>\n",
       "<table border=\"1\" class=\"dataframe\">\n",
       "  <thead>\n",
       "    <tr style=\"text-align: right;\">\n",
       "      <th></th>\n",
       "      <th>artist</th>\n",
       "      <th>release_date</th>\n",
       "      <th>length</th>\n",
       "      <th>popularity</th>\n",
       "      <th>danceability</th>\n",
       "      <th>acousticness</th>\n",
       "      <th>energy</th>\n",
       "      <th>instrumentalness</th>\n",
       "      <th>key</th>\n",
       "      <th>liveness</th>\n",
       "      <th>loudness</th>\n",
       "      <th>speechiness</th>\n",
       "      <th>tempo</th>\n",
       "      <th>time_signature</th>\n",
       "      <th>valence</th>\n",
       "    </tr>\n",
       "    <tr>\n",
       "      <th>name</th>\n",
       "      <th></th>\n",
       "      <th></th>\n",
       "      <th></th>\n",
       "      <th></th>\n",
       "      <th></th>\n",
       "      <th></th>\n",
       "      <th></th>\n",
       "      <th></th>\n",
       "      <th></th>\n",
       "      <th></th>\n",
       "      <th></th>\n",
       "      <th></th>\n",
       "      <th></th>\n",
       "      <th></th>\n",
       "      <th></th>\n",
       "    </tr>\n",
       "  </thead>\n",
       "  <tbody>\n",
       "    <tr>\n",
       "      <th>Smells Like Teen Spirit</th>\n",
       "      <td>Nirvana</td>\n",
       "      <td>1991</td>\n",
       "      <td>5.032000</td>\n",
       "      <td>74</td>\n",
       "      <td>0.502</td>\n",
       "      <td>0.000025</td>\n",
       "      <td>0.912</td>\n",
       "      <td>0.000173</td>\n",
       "      <td>1</td>\n",
       "      <td>0.1060</td>\n",
       "      <td>-4.556</td>\n",
       "      <td>0.0564</td>\n",
       "      <td>116.761</td>\n",
       "      <td>4</td>\n",
       "      <td>0.720</td>\n",
       "    </tr>\n",
       "    <tr>\n",
       "      <th>Stairway to Heaven - Remaster</th>\n",
       "      <td>Led Zeppelin</td>\n",
       "      <td>1971</td>\n",
       "      <td>8.047167</td>\n",
       "      <td>78</td>\n",
       "      <td>0.338</td>\n",
       "      <td>0.580000</td>\n",
       "      <td>0.340</td>\n",
       "      <td>0.003200</td>\n",
       "      <td>9</td>\n",
       "      <td>0.1160</td>\n",
       "      <td>-12.049</td>\n",
       "      <td>0.0339</td>\n",
       "      <td>82.433</td>\n",
       "      <td>4</td>\n",
       "      <td>0.197</td>\n",
       "    </tr>\n",
       "    <tr>\n",
       "      <th>Bohemian Rhapsody - Remastered 2011</th>\n",
       "      <td>Queen</td>\n",
       "      <td>1975</td>\n",
       "      <td>5.905333</td>\n",
       "      <td>74</td>\n",
       "      <td>0.392</td>\n",
       "      <td>0.288000</td>\n",
       "      <td>0.402</td>\n",
       "      <td>0.000000</td>\n",
       "      <td>0</td>\n",
       "      <td>0.2430</td>\n",
       "      <td>-9.961</td>\n",
       "      <td>0.0536</td>\n",
       "      <td>143.883</td>\n",
       "      <td>4</td>\n",
       "      <td>0.228</td>\n",
       "    </tr>\n",
       "    <tr>\n",
       "      <th>Imagine - Remastered 2010</th>\n",
       "      <td>John Lennon</td>\n",
       "      <td>1971</td>\n",
       "      <td>3.131100</td>\n",
       "      <td>77</td>\n",
       "      <td>0.547</td>\n",
       "      <td>0.907000</td>\n",
       "      <td>0.257</td>\n",
       "      <td>0.183000</td>\n",
       "      <td>0</td>\n",
       "      <td>0.0935</td>\n",
       "      <td>-12.358</td>\n",
       "      <td>0.0252</td>\n",
       "      <td>75.752</td>\n",
       "      <td>4</td>\n",
       "      <td>0.169</td>\n",
       "    </tr>\n",
       "    <tr>\n",
       "      <th>(I Can't Get No) Satisfaction - Mono Version</th>\n",
       "      <td>The Rolling Stones</td>\n",
       "      <td>1965</td>\n",
       "      <td>3.713550</td>\n",
       "      <td>77</td>\n",
       "      <td>0.723</td>\n",
       "      <td>0.038300</td>\n",
       "      <td>0.863</td>\n",
       "      <td>0.031700</td>\n",
       "      <td>2</td>\n",
       "      <td>0.1280</td>\n",
       "      <td>-7.890</td>\n",
       "      <td>0.0338</td>\n",
       "      <td>136.302</td>\n",
       "      <td>4</td>\n",
       "      <td>0.931</td>\n",
       "    </tr>\n",
       "    <tr>\n",
       "      <th>...</th>\n",
       "      <td>...</td>\n",
       "      <td>...</td>\n",
       "      <td>...</td>\n",
       "      <td>...</td>\n",
       "      <td>...</td>\n",
       "      <td>...</td>\n",
       "      <td>...</td>\n",
       "      <td>...</td>\n",
       "      <td>...</td>\n",
       "      <td>...</td>\n",
       "      <td>...</td>\n",
       "      <td>...</td>\n",
       "      <td>...</td>\n",
       "      <td>...</td>\n",
       "      <td>...</td>\n",
       "    </tr>\n",
       "    <tr>\n",
       "      <th>I'm In Your Mind</th>\n",
       "      <td>King Gizzard &amp; The Lizard Wizard</td>\n",
       "      <td>2014</td>\n",
       "      <td>3.559833</td>\n",
       "      <td>47</td>\n",
       "      <td>0.296</td>\n",
       "      <td>0.005910</td>\n",
       "      <td>0.776</td>\n",
       "      <td>0.801000</td>\n",
       "      <td>6</td>\n",
       "      <td>0.5970</td>\n",
       "      <td>-5.630</td>\n",
       "      <td>0.0597</td>\n",
       "      <td>93.481</td>\n",
       "      <td>4</td>\n",
       "      <td>0.406</td>\n",
       "    </tr>\n",
       "    <tr>\n",
       "      <th>Cellophane</th>\n",
       "      <td>King Gizzard &amp; The Lizard Wizard</td>\n",
       "      <td>2014</td>\n",
       "      <td>3.179750</td>\n",
       "      <td>44</td>\n",
       "      <td>0.432</td>\n",
       "      <td>0.002130</td>\n",
       "      <td>0.887</td>\n",
       "      <td>0.916000</td>\n",
       "      <td>7</td>\n",
       "      <td>0.1200</td>\n",
       "      <td>-6.175</td>\n",
       "      <td>0.1230</td>\n",
       "      <td>92.965</td>\n",
       "      <td>4</td>\n",
       "      <td>0.357</td>\n",
       "    </tr>\n",
       "    <tr>\n",
       "      <th>Hot Water</th>\n",
       "      <td>King Gizzard &amp; The Lizard Wizard</td>\n",
       "      <td>2014</td>\n",
       "      <td>3.396450</td>\n",
       "      <td>40</td>\n",
       "      <td>0.627</td>\n",
       "      <td>0.860000</td>\n",
       "      <td>0.609</td>\n",
       "      <td>0.890000</td>\n",
       "      <td>9</td>\n",
       "      <td>0.1160</td>\n",
       "      <td>-9.387</td>\n",
       "      <td>0.0332</td>\n",
       "      <td>86.861</td>\n",
       "      <td>4</td>\n",
       "      <td>0.734</td>\n",
       "    </tr>\n",
       "    <tr>\n",
       "      <th>Vitamin C - 2004 Remastered Version</th>\n",
       "      <td>CAN</td>\n",
       "      <td>1972</td>\n",
       "      <td>3.567767</td>\n",
       "      <td>52</td>\n",
       "      <td>0.643</td>\n",
       "      <td>0.006690</td>\n",
       "      <td>0.644</td>\n",
       "      <td>0.673000</td>\n",
       "      <td>4</td>\n",
       "      <td>0.1620</td>\n",
       "      <td>-12.615</td>\n",
       "      <td>0.0462</td>\n",
       "      <td>117.225</td>\n",
       "      <td>4</td>\n",
       "      <td>0.853</td>\n",
       "    </tr>\n",
       "    <tr>\n",
       "      <th>~</th>\n",
       "      <td>Touché Amoré</td>\n",
       "      <td>2011</td>\n",
       "      <td>1.485100</td>\n",
       "      <td>0</td>\n",
       "      <td>0.222</td>\n",
       "      <td>0.000258</td>\n",
       "      <td>0.959</td>\n",
       "      <td>0.000275</td>\n",
       "      <td>6</td>\n",
       "      <td>0.1540</td>\n",
       "      <td>-5.134</td>\n",
       "      <td>0.2080</td>\n",
       "      <td>161.693</td>\n",
       "      <td>4</td>\n",
       "      <td>0.128</td>\n",
       "    </tr>\n",
       "  </tbody>\n",
       "</table>\n",
       "<p>5484 rows × 15 columns</p>\n",
       "</div>"
      ],
      "text/plain": [
       "                                                                        artist  \\\n",
       "name                                                                             \n",
       "Smells Like Teen Spirit                                                Nirvana   \n",
       "Stairway to Heaven - Remaster                                     Led Zeppelin   \n",
       "Bohemian Rhapsody - Remastered 2011                                      Queen   \n",
       "Imagine - Remastered 2010                                          John Lennon   \n",
       "(I Can't Get No) Satisfaction - Mono Version                The Rolling Stones   \n",
       "...                                                                        ...   \n",
       "I'm In Your Mind                              King Gizzard & The Lizard Wizard   \n",
       "Cellophane                                    King Gizzard & The Lizard Wizard   \n",
       "Hot Water                                     King Gizzard & The Lizard Wizard   \n",
       "Vitamin C - 2004 Remastered Version                                        CAN   \n",
       "~                                                                 Touché Amoré   \n",
       "\n",
       "                                              release_date    length  \\\n",
       "name                                                                   \n",
       "Smells Like Teen Spirit                               1991  5.032000   \n",
       "Stairway to Heaven - Remaster                         1971  8.047167   \n",
       "Bohemian Rhapsody - Remastered 2011                   1975  5.905333   \n",
       "Imagine - Remastered 2010                             1971  3.131100   \n",
       "(I Can't Get No) Satisfaction - Mono Version          1965  3.713550   \n",
       "...                                                    ...       ...   \n",
       "I'm In Your Mind                                      2014  3.559833   \n",
       "Cellophane                                            2014  3.179750   \n",
       "Hot Water                                             2014  3.396450   \n",
       "Vitamin C - 2004 Remastered Version                   1972  3.567767   \n",
       "~                                                     2011  1.485100   \n",
       "\n",
       "                                              popularity  danceability  \\\n",
       "name                                                                     \n",
       "Smells Like Teen Spirit                               74         0.502   \n",
       "Stairway to Heaven - Remaster                         78         0.338   \n",
       "Bohemian Rhapsody - Remastered 2011                   74         0.392   \n",
       "Imagine - Remastered 2010                             77         0.547   \n",
       "(I Can't Get No) Satisfaction - Mono Version          77         0.723   \n",
       "...                                                  ...           ...   \n",
       "I'm In Your Mind                                      47         0.296   \n",
       "Cellophane                                            44         0.432   \n",
       "Hot Water                                             40         0.627   \n",
       "Vitamin C - 2004 Remastered Version                   52         0.643   \n",
       "~                                                      0         0.222   \n",
       "\n",
       "                                              acousticness  energy  \\\n",
       "name                                                                 \n",
       "Smells Like Teen Spirit                           0.000025   0.912   \n",
       "Stairway to Heaven - Remaster                     0.580000   0.340   \n",
       "Bohemian Rhapsody - Remastered 2011               0.288000   0.402   \n",
       "Imagine - Remastered 2010                         0.907000   0.257   \n",
       "(I Can't Get No) Satisfaction - Mono Version      0.038300   0.863   \n",
       "...                                                    ...     ...   \n",
       "I'm In Your Mind                                  0.005910   0.776   \n",
       "Cellophane                                        0.002130   0.887   \n",
       "Hot Water                                         0.860000   0.609   \n",
       "Vitamin C - 2004 Remastered Version               0.006690   0.644   \n",
       "~                                                 0.000258   0.959   \n",
       "\n",
       "                                              instrumentalness  key  liveness  \\\n",
       "name                                                                            \n",
       "Smells Like Teen Spirit                               0.000173    1    0.1060   \n",
       "Stairway to Heaven - Remaster                         0.003200    9    0.1160   \n",
       "Bohemian Rhapsody - Remastered 2011                   0.000000    0    0.2430   \n",
       "Imagine - Remastered 2010                             0.183000    0    0.0935   \n",
       "(I Can't Get No) Satisfaction - Mono Version          0.031700    2    0.1280   \n",
       "...                                                        ...  ...       ...   \n",
       "I'm In Your Mind                                      0.801000    6    0.5970   \n",
       "Cellophane                                            0.916000    7    0.1200   \n",
       "Hot Water                                             0.890000    9    0.1160   \n",
       "Vitamin C - 2004 Remastered Version                   0.673000    4    0.1620   \n",
       "~                                                     0.000275    6    0.1540   \n",
       "\n",
       "                                              loudness  speechiness    tempo  \\\n",
       "name                                                                           \n",
       "Smells Like Teen Spirit                         -4.556       0.0564  116.761   \n",
       "Stairway to Heaven - Remaster                  -12.049       0.0339   82.433   \n",
       "Bohemian Rhapsody - Remastered 2011             -9.961       0.0536  143.883   \n",
       "Imagine - Remastered 2010                      -12.358       0.0252   75.752   \n",
       "(I Can't Get No) Satisfaction - Mono Version    -7.890       0.0338  136.302   \n",
       "...                                                ...          ...      ...   \n",
       "I'm In Your Mind                                -5.630       0.0597   93.481   \n",
       "Cellophane                                      -6.175       0.1230   92.965   \n",
       "Hot Water                                       -9.387       0.0332   86.861   \n",
       "Vitamin C - 2004 Remastered Version            -12.615       0.0462  117.225   \n",
       "~                                               -5.134       0.2080  161.693   \n",
       "\n",
       "                                              time_signature  valence  \n",
       "name                                                                   \n",
       "Smells Like Teen Spirit                                    4    0.720  \n",
       "Stairway to Heaven - Remaster                              4    0.197  \n",
       "Bohemian Rhapsody - Remastered 2011                        4    0.228  \n",
       "Imagine - Remastered 2010                                  4    0.169  \n",
       "(I Can't Get No) Satisfaction - Mono Version               4    0.931  \n",
       "...                                                      ...      ...  \n",
       "I'm In Your Mind                                           4    0.406  \n",
       "Cellophane                                                 4    0.357  \n",
       "Hot Water                                                  4    0.734  \n",
       "Vitamin C - 2004 Remastered Version                        4    0.853  \n",
       "~                                                          4    0.128  \n",
       "\n",
       "[5484 rows x 15 columns]"
      ]
     },
     "execution_count": 2,
     "metadata": {},
     "output_type": "execute_result"
    }
   ],
   "source": [
    "dataset=pd.read_csv('history-of-rock-spotify.csv')\n",
    "dataset.drop(['index', 'danceability.1'], axis=1, inplace = True)\n",
    "dataset.set_index('name', inplace=True)\n",
    "dataset"
   ]
  },
  {
   "cell_type": "code",
   "execution_count": 3,
   "id": "73e6dcb5",
   "metadata": {},
   "outputs": [
    {
     "data": {
      "text/html": [
       "<div>\n",
       "<style scoped>\n",
       "    .dataframe tbody tr th:only-of-type {\n",
       "        vertical-align: middle;\n",
       "    }\n",
       "\n",
       "    .dataframe tbody tr th {\n",
       "        vertical-align: top;\n",
       "    }\n",
       "\n",
       "    .dataframe thead th {\n",
       "        text-align: right;\n",
       "    }\n",
       "</style>\n",
       "<table border=\"1\" class=\"dataframe\">\n",
       "  <thead>\n",
       "    <tr style=\"text-align: right;\">\n",
       "      <th></th>\n",
       "      <th>artist</th>\n",
       "      <th>release_date</th>\n",
       "      <th>length</th>\n",
       "      <th>popularity</th>\n",
       "      <th>danceability</th>\n",
       "      <th>acousticness</th>\n",
       "      <th>energy</th>\n",
       "      <th>instrumentalness</th>\n",
       "      <th>key</th>\n",
       "      <th>liveness</th>\n",
       "      <th>loudness</th>\n",
       "      <th>speechiness</th>\n",
       "      <th>tempo</th>\n",
       "      <th>time_signature</th>\n",
       "      <th>valence</th>\n",
       "    </tr>\n",
       "    <tr>\n",
       "      <th>name</th>\n",
       "      <th></th>\n",
       "      <th></th>\n",
       "      <th></th>\n",
       "      <th></th>\n",
       "      <th></th>\n",
       "      <th></th>\n",
       "      <th></th>\n",
       "      <th></th>\n",
       "      <th></th>\n",
       "      <th></th>\n",
       "      <th></th>\n",
       "      <th></th>\n",
       "      <th></th>\n",
       "      <th></th>\n",
       "      <th></th>\n",
       "    </tr>\n",
       "  </thead>\n",
       "  <tbody>\n",
       "    <tr>\n",
       "      <th>Smells Like Teen Spirit</th>\n",
       "      <td>942</td>\n",
       "      <td>35</td>\n",
       "      <td>3827</td>\n",
       "      <td>74</td>\n",
       "      <td>363</td>\n",
       "      <td>101</td>\n",
       "      <td>752</td>\n",
       "      <td>925</td>\n",
       "      <td>1</td>\n",
       "      <td>599</td>\n",
       "      <td>3630</td>\n",
       "      <td>332</td>\n",
       "      <td>2084</td>\n",
       "      <td>3</td>\n",
       "      <td>708</td>\n",
       "    </tr>\n",
       "    <tr>\n",
       "      <th>Stairway to Heaven - Remaster</th>\n",
       "      <td>772</td>\n",
       "      <td>15</td>\n",
       "      <td>4639</td>\n",
       "      <td>78</td>\n",
       "      <td>199</td>\n",
       "      <td>2350</td>\n",
       "      <td>186</td>\n",
       "      <td>1476</td>\n",
       "      <td>9</td>\n",
       "      <td>609</td>\n",
       "      <td>684</td>\n",
       "      <td>107</td>\n",
       "      <td>321</td>\n",
       "      <td>3</td>\n",
       "      <td>185</td>\n",
       "    </tr>\n",
       "    <tr>\n",
       "      <th>Bohemian Rhapsody - Remastered 2011</th>\n",
       "      <td>1045</td>\n",
       "      <td>19</td>\n",
       "      <td>4316</td>\n",
       "      <td>74</td>\n",
       "      <td>253</td>\n",
       "      <td>2085</td>\n",
       "      <td>243</td>\n",
       "      <td>0</td>\n",
       "      <td>0</td>\n",
       "      <td>736</td>\n",
       "      <td>1252</td>\n",
       "      <td>304</td>\n",
       "      <td>4010</td>\n",
       "      <td>3</td>\n",
       "      <td>216</td>\n",
       "    </tr>\n",
       "    <tr>\n",
       "      <th>Imagine - Remastered 2010</th>\n",
       "      <td>704</td>\n",
       "      <td>15</td>\n",
       "      <td>995</td>\n",
       "      <td>77</td>\n",
       "      <td>408</td>\n",
       "      <td>2602</td>\n",
       "      <td>116</td>\n",
       "      <td>2284</td>\n",
       "      <td>0</td>\n",
       "      <td>530</td>\n",
       "      <td>618</td>\n",
       "      <td>20</td>\n",
       "      <td>90</td>\n",
       "      <td>3</td>\n",
       "      <td>157</td>\n",
       "    </tr>\n",
       "    <tr>\n",
       "      <th>(I Can't Get No) Satisfaction - Mono Version</th>\n",
       "      <td>1516</td>\n",
       "      <td>9</td>\n",
       "      <td>1949</td>\n",
       "      <td>77</td>\n",
       "      <td>584</td>\n",
       "      <td>1484</td>\n",
       "      <td>703</td>\n",
       "      <td>1941</td>\n",
       "      <td>2</td>\n",
       "      <td>621</td>\n",
       "      <td>2061</td>\n",
       "      <td>106</td>\n",
       "      <td>3613</td>\n",
       "      <td>3</td>\n",
       "      <td>919</td>\n",
       "    </tr>\n",
       "  </tbody>\n",
       "</table>\n",
       "</div>"
      ],
      "text/plain": [
       "                                              artist  release_date  length  \\\n",
       "name                                                                         \n",
       "Smells Like Teen Spirit                          942            35    3827   \n",
       "Stairway to Heaven - Remaster                    772            15    4639   \n",
       "Bohemian Rhapsody - Remastered 2011             1045            19    4316   \n",
       "Imagine - Remastered 2010                        704            15     995   \n",
       "(I Can't Get No) Satisfaction - Mono Version    1516             9    1949   \n",
       "\n",
       "                                              popularity  danceability  \\\n",
       "name                                                                     \n",
       "Smells Like Teen Spirit                               74           363   \n",
       "Stairway to Heaven - Remaster                         78           199   \n",
       "Bohemian Rhapsody - Remastered 2011                   74           253   \n",
       "Imagine - Remastered 2010                             77           408   \n",
       "(I Can't Get No) Satisfaction - Mono Version          77           584   \n",
       "\n",
       "                                              acousticness  energy  \\\n",
       "name                                                                 \n",
       "Smells Like Teen Spirit                                101     752   \n",
       "Stairway to Heaven - Remaster                         2350     186   \n",
       "Bohemian Rhapsody - Remastered 2011                   2085     243   \n",
       "Imagine - Remastered 2010                             2602     116   \n",
       "(I Can't Get No) Satisfaction - Mono Version          1484     703   \n",
       "\n",
       "                                              instrumentalness  key  liveness  \\\n",
       "name                                                                            \n",
       "Smells Like Teen Spirit                                    925    1       599   \n",
       "Stairway to Heaven - Remaster                             1476    9       609   \n",
       "Bohemian Rhapsody - Remastered 2011                          0    0       736   \n",
       "Imagine - Remastered 2010                                 2284    0       530   \n",
       "(I Can't Get No) Satisfaction - Mono Version              1941    2       621   \n",
       "\n",
       "                                              loudness  speechiness  tempo  \\\n",
       "name                                                                         \n",
       "Smells Like Teen Spirit                           3630          332   2084   \n",
       "Stairway to Heaven - Remaster                      684          107    321   \n",
       "Bohemian Rhapsody - Remastered 2011               1252          304   4010   \n",
       "Imagine - Remastered 2010                          618           20     90   \n",
       "(I Can't Get No) Satisfaction - Mono Version      2061          106   3613   \n",
       "\n",
       "                                              time_signature  valence  \n",
       "name                                                                   \n",
       "Smells Like Teen Spirit                                    3      708  \n",
       "Stairway to Heaven - Remaster                              3      185  \n",
       "Bohemian Rhapsody - Remastered 2011                        3      216  \n",
       "Imagine - Remastered 2010                                  3      157  \n",
       "(I Can't Get No) Satisfaction - Mono Version               3      919  "
      ]
     },
     "execution_count": 3,
     "metadata": {},
     "output_type": "execute_result"
    }
   ],
   "source": [
    "dataset = dataset.apply(LabelEncoder().fit_transform)\n",
    "dataset.head()"
   ]
  },
  {
   "cell_type": "code",
   "execution_count": 4,
   "id": "01038647",
   "metadata": {},
   "outputs": [],
   "source": [
    "X = dataset.drop(['key'], axis = 1)\n",
    "Y = dataset.key.values"
   ]
  },
  {
   "cell_type": "code",
   "execution_count": 20,
   "id": "215e44bb",
   "metadata": {},
   "outputs": [],
   "source": [
    "X_train, X_test, y_train, y_test = train_test_split(X, Y, test_size=0.2)"
   ]
  },
  {
   "cell_type": "code",
   "execution_count": 6,
   "id": "6599905c",
   "metadata": {},
   "outputs": [],
   "source": [
    "scaler = StandardScaler()\n",
    "scaler.fit(X_train)\n",
    "\n",
    "X_train = scaler.transform(X_train)\n",
    "X_test = scaler.transform(X_test)"
   ]
  },
  {
   "cell_type": "markdown",
   "id": "9c51580a",
   "metadata": {},
   "source": [
    "&nbsp;"
   ]
  },
  {
   "cell_type": "markdown",
   "id": "66336e95",
   "metadata": {},
   "source": [
    "## Logistic regression"
   ]
  },
  {
   "cell_type": "code",
   "execution_count": 7,
   "id": "321f8aef",
   "metadata": {},
   "outputs": [
    {
     "data": {
      "text/plain": [
       "LogisticRegression(random_state=0, solver='liblinear')"
      ]
     },
     "execution_count": 7,
     "metadata": {},
     "output_type": "execute_result"
    }
   ],
   "source": [
    "model = LogisticRegression(solver='liblinear', random_state=0)\n",
    "model.fit(X_train, y_train)"
   ]
  },
  {
   "cell_type": "code",
   "execution_count": 8,
   "id": "79aa5d0d",
   "metadata": {},
   "outputs": [],
   "source": [
    "y_pred = model.predict(X_test)"
   ]
  },
  {
   "cell_type": "code",
   "execution_count": 9,
   "id": "49562dd2",
   "metadata": {},
   "outputs": [
    {
     "name": "stdout",
     "output_type": "stream",
     "text": [
      "              precision    recall  f1-score   support\n",
      "\n",
      "           0       0.13      0.19      0.15       126\n",
      "           1       0.06      0.03      0.03        80\n",
      "           2       0.11      0.16      0.13       147\n",
      "           3       0.00      0.00      0.00        22\n",
      "           4       0.15      0.02      0.03       112\n",
      "           5       0.00      0.00      0.00        81\n",
      "           6       0.00      0.00      0.00        65\n",
      "           7       0.13      0.22      0.16       135\n",
      "           8       0.00      0.00      0.00        48\n",
      "           9       0.18      0.41      0.25       163\n",
      "          10       0.00      0.00      0.00        56\n",
      "          11       0.00      0.00      0.00        62\n",
      "\n",
      "    accuracy                           0.14      1097\n",
      "   macro avg       0.06      0.09      0.06      1097\n",
      "weighted avg       0.09      0.14      0.10      1097\n",
      "\n"
     ]
    }
   ],
   "source": [
    "print(classification_report(y_test, y_pred))"
   ]
  },
  {
   "cell_type": "code",
   "execution_count": 10,
   "id": "b80b8389",
   "metadata": {},
   "outputs": [
    {
     "data": {
      "image/png": "[encoded data removed]",
      "text/plain": [
       "<Figure size 720x720 with 2 Axes>"
      ]
     },
     "metadata": {
      "needs_background": "light"
     },
     "output_type": "display_data"
    }
   ],
   "source": [
    "plt.figure(figsize=(10, 10))\n",
    "sns.heatmap(confusion_matrix(y_test, y_pred), annot=True)\n",
    "plt.xlabel('Actual')\n",
    "plt.ylabel('Predicted')\n",
    "plt.title('Confusion matrix')\n",
    "plt.show()"
   ]
  },
  {
   "cell_type": "code",
   "execution_count": 11,
   "id": "ad89e8b9",
   "metadata": {},
   "outputs": [
    {
     "data": {
      "text/plain": [
       "(array([ 53., 158., 247., 258., 191., 114.,  51.,  20.,   4.,   1.]),\n",
       " array([0.10827205, 0.123272  , 0.13827196, 0.15327192, 0.16827188,\n",
       "        0.18327183, 0.19827179, 0.21327175, 0.2282717 , 0.24327166,\n",
       "        0.25827162]),\n",
       " <BarContainer object of 10 artists>)"
      ]
     },
     "execution_count": 11,
     "metadata": {},
     "output_type": "execute_result"
    },
    {
     "data": {
      "image/png": "[encoded data removed]",
      "text/plain": [
       "<Figure size 432x288 with 1 Axes>"
      ]
     },
     "metadata": {
      "needs_background": "light"
     },
     "output_type": "display_data"
    }
   ],
   "source": [
    "y_pred_proba = model.predict_proba(X_test)\n",
    "plt.hist([max(x) for x in y_pred_proba])"
   ]
  },
  {
   "cell_type": "code",
   "execution_count": 12,
   "id": "b935bcaf",
   "metadata": {},
   "outputs": [
    {
     "data": {
      "text/plain": [
       "array([[0.07348431, 0.10133461, 0.12591635, ..., 0.15419012, 0.04447113,\n",
       "        0.07871364],\n",
       "       [0.21725162, 0.04754349, 0.13977867, ..., 0.13396969, 0.02687172,\n",
       "        0.01835484],\n",
       "       [0.15251543, 0.05778303, 0.13978356, ..., 0.16006044, 0.02529961,\n",
       "        0.04083634],\n",
       "       ...,\n",
       "       [0.11204233, 0.1002071 , 0.14240808, ..., 0.13195838, 0.04283357,\n",
       "        0.0569699 ],\n",
       "       [0.1098939 , 0.11140517, 0.12803651, ..., 0.11354005, 0.03871016,\n",
       "        0.07912091],\n",
       "       [0.10990385, 0.05407805, 0.14861298, ..., 0.18160822, 0.04376226,\n",
       "        0.06971055]])"
      ]
     },
     "execution_count": 12,
     "metadata": {},
     "output_type": "execute_result"
    }
   ],
   "source": [
    "y_pred_proba"
   ]
  },
  {
   "cell_type": "code",
   "execution_count": 13,
   "id": "393d891f",
   "metadata": {},
   "outputs": [
    {
     "data": {
      "image/png": "[encoded data removed]",
      "text/plain": [
       "<Figure size 432x288 with 1 Axes>"
      ]
     },
     "metadata": {
      "needs_background": "light"
     },
     "output_type": "display_data"
    }
   ],
   "source": [
    "y_binarize = label_binarize(Y, classes=[0, 1, 2])\n",
    "\n",
    "\n",
    "X_train, X_test, y_train, y_test = train_test_split(X, y_binarize, test_size=.5,\n",
    "                                                    random_state=0)\n",
    "\n",
    "\n",
    "classifier = OneVsRestClassifier(LogisticRegression(max_iter=10000))\n",
    "\n",
    "y_score = classifier.fit(X_train, y_train).decision_function(X_test)\n",
    "\n",
    "fpr = dict()\n",
    "tpr = dict()\n",
    "roc_auc = dict()\n",
    "for i in range(3):\n",
    "    fpr[i], tpr[i], _ = roc_curve(y_test[:, i], y_score[:, i])\n",
    "    roc_auc[i] = auc(fpr[i], tpr[i])\n",
    "\n",
    "colors = ['aqua', 'darkorange', 'cornflowerblue']\n",
    "for i, color in zip(range(3), colors):\n",
    "    plt.plot(fpr[i], tpr[i], color=color,\n",
    "             label='ROC curve of class {0} (area = {1:0.2f})'\n",
    "             ''.format(i, roc_auc[i]))\n",
    "    \n",
    "plt.xlabel('False Positive Rate')\n",
    "plt.ylabel('True Positive Rate')\n",
    "plt.title('Some extension of Receiver operating characteristic to multi-class')\n",
    "plt.legend(loc=\"lower right\")\n",
    "plt.show()"
   ]
  },
  {
   "cell_type": "markdown",
   "id": "40c6d307",
   "metadata": {},
   "source": [
    "&nbsp;"
   ]
  },
  {
   "cell_type": "markdown",
   "id": "492b4b86",
   "metadata": {},
   "source": [
    "## Linear Discriminant Analysis (LDA)"
   ]
  },
  {
   "cell_type": "code",
   "execution_count": 14,
   "id": "48ea3769",
   "metadata": {},
   "outputs": [],
   "source": [
    "lda = LDA()\n",
    "X_lda = lda.fit(X, Y).transform(X)"
   ]
  },
  {
   "cell_type": "code",
   "execution_count": 15,
   "id": "72700c0e",
   "metadata": {},
   "outputs": [
    {
     "data": {
      "image/png": "[encoded data removed]",
      "text/plain": [
       "<Figure size 432x288 with 1 Axes>"
      ]
     },
     "metadata": {
      "needs_background": "light"
     },
     "output_type": "display_data"
    }
   ],
   "source": [
    "plt.scatter(x=X_lda[:,0], y=X_lda[:,1], c=Y);"
   ]
  },
  {
   "cell_type": "markdown",
   "id": "9ff26ce5",
   "metadata": {},
   "source": [
    "&nbsp;"
   ]
  },
  {
   "cell_type": "markdown",
   "id": "5f391653",
   "metadata": {},
   "source": [
    "## Ensemble methods"
   ]
  },
  {
   "cell_type": "code",
   "execution_count": 16,
   "id": "c5724178",
   "metadata": {},
   "outputs": [],
   "source": [
    "des_tree = DecisionTreeClassifier()\n",
    "knn = KNeighborsClassifier()"
   ]
  },
  {
   "cell_type": "code",
   "execution_count": 17,
   "id": "8cd68924",
   "metadata": {},
   "outputs": [
    {
     "data": {
      "text/plain": [
       "KNeighborsClassifier()"
      ]
     },
     "execution_count": 17,
     "metadata": {},
     "output_type": "execute_result"
    }
   ],
   "source": [
    "des_tree.fit(X_train, y_train)\n",
    "knn.fit(X_train, y_train)"
   ]
  },
  {
   "cell_type": "code",
   "execution_count": 18,
   "id": "8c2b0940",
   "metadata": {},
   "outputs": [
    {
     "name": "stdout",
     "output_type": "stream",
     "text": [
      "0.6706783369803063\n"
     ]
    }
   ],
   "source": [
    "desTree_pred = des_tree.predict(X_test)\n",
    "knn_pred = knn.predict(X_test)\n",
    "\n",
    "averaged_preds = (desTree_pred + knn_pred)//3\n",
    "acc = accuracy_score(y_test, averaged_preds)\n",
    "print(acc)"
   ]
  },
  {
   "cell_type": "code",
   "execution_count": 21,
   "id": "65750405",
   "metadata": {},
   "outputs": [
    {
     "name": "stdout",
     "output_type": "stream",
     "text": [
      "Accuracy is: 0.14767547857793983\n",
      "F1 Score is: 0.08489044650253817\n"
     ]
    }
   ],
   "source": [
    "voting_clf = VotingClassifier(estimators=[('KNN', knn), ('DTree', des_tree), ('LogReg', model)], voting='hard')\n",
    "voting_clf.fit(X_train, y_train)\n",
    "preds = voting_clf.predict(X_test)\n",
    "acc = accuracy_score(y_test, preds)\n",
    "f1 = f1_score(y_test, preds, average=\"macro\")\n",
    "\n",
    "print(\"Accuracy is: \" + str(acc))\n",
    "print(\"F1 Score is: \" + str(f1))"
   ]
  },
  {
   "cell_type": "code",
   "execution_count": 22,
   "id": "38470ac6",
   "metadata": {},
   "outputs": [
    {
     "name": "stdout",
     "output_type": "stream",
     "text": [
      "0.1458634288086343\n",
      "0.1317579908675799\n",
      "0.12627023661270237\n",
      "0.12239829804898297\n"
     ]
    }
   ],
   "source": [
    "logreg_bagging_model = BaggingClassifier(base_estimator=model, n_estimators=5)\n",
    "dtree_bagging_model = BaggingClassifier(base_estimator=des_tree, n_estimators=5)\n",
    "random_forest = RandomForestClassifier(n_estimators=10)\n",
    "extra_trees = ExtraTreesClassifier(n_estimators=10)\n",
    "\n",
    "def bagging_ensemble(model):\n",
    "    k_folds = KFold(n_splits=20)\n",
    "    results = cross_val_score(model, X_train, y_train, cv=k_folds)\n",
    "    print(results.mean())\n",
    "\n",
    "bagging_ensemble(logreg_bagging_model)\n",
    "bagging_ensemble(dtree_bagging_model)\n",
    "bagging_ensemble(random_forest)\n",
    "bagging_ensemble(extra_trees)"
   ]
  },
  {
   "cell_type": "code",
   "execution_count": 23,
   "id": "06ae2763",
   "metadata": {},
   "outputs": [
    {
     "name": "stdout",
     "output_type": "stream",
     "text": [
      "0.11860717264386991\n"
     ]
    }
   ],
   "source": [
    "kfold = KFold(n_splits=10)\n",
    "model = AdaBoostClassifier(n_estimators=10)\n",
    "results = cross_val_score(model, X_test, y_test, cv=kfold)\n",
    "print(results.mean())"
   ]
  },
  {
   "cell_type": "code",
   "execution_count": null,
   "id": "7db79a6b",
   "metadata": {},
   "outputs": [],
   "source": []
  }
 ],
 "metadata": {
  "kernelspec": {
   "display_name": "Python 3 (ipykernel)",
   "language": "python",
   "name": "python3"
  },
  "language_info": {
   "codemirror_mode": {
    "name": "ipython",
    "version": 3
   },
   "file_extension": ".py",
   "mimetype": "text/x-python",
   "name": "python",
   "nbconvert_exporter": "python",
   "pygments_lexer": "ipython3",
   "version": "3.9.12"
  }
 },
 "nbformat": 4,
 "nbformat_minor": 5
}
